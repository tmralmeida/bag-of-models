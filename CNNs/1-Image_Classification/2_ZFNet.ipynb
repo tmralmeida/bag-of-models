{
 "cells": [
  {
   "cell_type": "code",
   "execution_count": 1,
   "metadata": {},
   "outputs": [],
   "source": [
    "from __future__ import absolute_import, division, print_function, unicode_literals\n",
    "import tensorflow as tf\n",
    "import cv2\n",
    "import numpy as np\n",
    "import matplotlib.pyplot as plt\n",
    "import os\n",
    "import pathlib\n",
    "import tensorflow_addons as tfa\n",
    "from tensorflow.python.client import device_lib "
   ]
  },
  {
   "cell_type": "code",
   "execution_count": 2,
   "metadata": {},
   "outputs": [
    {
     "name": "stdout",
     "output_type": "stream",
     "text": [
      "Num GPUs Available:  4\n"
     ]
    }
   ],
   "source": [
    "print(\"Num GPUs Available: \", len(tf.config.experimental.list_physical_devices('GPU')))"
   ]
  },
  {
   "cell_type": "code",
   "execution_count": 3,
   "metadata": {},
   "outputs": [],
   "source": [
    "physical_devices = tf.config.list_physical_devices('GPU') "
   ]
  },
  {
   "cell_type": "code",
   "execution_count": 4,
   "metadata": {},
   "outputs": [],
   "source": [
    "tf.config.set_visible_devices(\n",
    "    physical_devices[1], 'GPU'\n",
    ")"
   ]
  },
  {
   "cell_type": "markdown",
   "metadata": {},
   "source": [
    "# Data Loading"
   ]
  },
  {
   "cell_type": "markdown",
   "metadata": {},
   "source": [
    "Pre-processing data details:\n",
    "* Each RGB image was preprocessed by resizing the smallest dimension to 256, cropping the center $256 \\times 256$ region, subtracting the per-pixel mean (across\n",
    "all images) and then using 10 different sub-crops of size $224 \\times 224$ (corners + center with(out) horizontal flips)."
   ]
  },
  {
   "cell_type": "code",
   "execution_count": 5,
   "metadata": {},
   "outputs": [],
   "source": [
    "path_train = 'CINIC10/train/'\n",
    "path_val = 'CINIC10/valid/'\n",
    "path_test = 'CINIC10/test/'\n",
    "data_dir_train = pathlib.Path(path_train)\n",
    "data_dir_val = pathlib.Path(path_val)\n",
    "data_dir_test = pathlib.Path(path_test)"
   ]
  },
  {
   "cell_type": "code",
   "execution_count": 6,
   "metadata": {},
   "outputs": [],
   "source": [
    "list_ds_train = tf.data.Dataset.list_files(str(data_dir_train/'*/*'))\n",
    "list_ds_val = tf.data.Dataset.list_files(str(data_dir_val/'*/*'))\n",
    "list_ds_test = tf.data.Dataset.list_files(str(data_dir_test/'*/*'))"
   ]
  },
  {
   "cell_type": "code",
   "execution_count": 7,
   "metadata": {},
   "outputs": [],
   "source": [
    "CLASS_NAMES = np.array([item.name for item in data_dir_train.glob('*')])"
   ]
  },
  {
   "cell_type": "code",
   "execution_count": 8,
   "metadata": {},
   "outputs": [],
   "source": [
    "def get_label(file_path):\n",
    "    parts = tf.strings.split(file_path, os.path.sep)\n",
    "    return parts[-2] == CLASS_NAMES"
   ]
  },
  {
   "cell_type": "code",
   "execution_count": 9,
   "metadata": {},
   "outputs": [],
   "source": [
    "def decode_img(img, dsize):\n",
    "    img = tf.image.decode_jpeg(img, channels=3)\n",
    "    img = tf.image.convert_image_dtype(img, tf.float32)\n",
    "    return tf.image.resize(img, [dsize[0], dsize[1]])"
   ]
  },
  {
   "cell_type": "code",
   "execution_count": 10,
   "metadata": {},
   "outputs": [],
   "source": [
    "def process_path(file_path):\n",
    "    size = (226,226)\n",
    "    label = get_label(file_path)\n",
    "    img = tf.io.read_file(file_path)\n",
    "    img = decode_img(img,size )\n",
    "    return img, label"
   ]
  },
  {
   "cell_type": "code",
   "execution_count": 11,
   "metadata": {},
   "outputs": [],
   "source": [
    "AUTOTUNE = tf.data.experimental.AUTOTUNE"
   ]
  },
  {
   "cell_type": "code",
   "execution_count": 12,
   "metadata": {},
   "outputs": [],
   "source": [
    "labeled_ds_train = list_ds_train.map(process_path, num_parallel_calls=AUTOTUNE)\n",
    "labeled_ds_valid = list_ds_val.map(process_path, num_parallel_calls=AUTOTUNE)\n",
    "labeled_ds_test = list_ds_test.map(process_path, num_parallel_calls=AUTOTUNE)"
   ]
  },
  {
   "cell_type": "code",
   "execution_count": 13,
   "metadata": {},
   "outputs": [],
   "source": [
    "def normalize(x, y):\n",
    "    x = tf.image.per_image_standardization(x)\n",
    "    return x, y"
   ]
  },
  {
   "cell_type": "code",
   "execution_count": 14,
   "metadata": {},
   "outputs": [],
   "source": [
    "def augmentation(x, y):\n",
    "    x = tf.image.random_flip_left_right(x)\n",
    "    return x, y"
   ]
  },
  {
   "cell_type": "code",
   "execution_count": 15,
   "metadata": {},
   "outputs": [],
   "source": [
    "def prepare_for_training(ds,training = False, cache=True, shuffle_buffer_size=1000, batch_size = 128):\n",
    "    if cache:\n",
    "        if isinstance(cache, str):\n",
    "            ds = ds.cache(cache)\n",
    "        else:\n",
    "            ds = ds.cache()\n",
    "    ds = ds.map(normalize)\n",
    "    if training:\n",
    "        ds = ds.map(augmentation)\n",
    "    ds = ds.shuffle(buffer_size=shuffle_buffer_size)\n",
    "    ds = ds.repeat()\n",
    "    ds = ds.batch(batch_size)\n",
    "    ds = ds.prefetch(buffer_size=AUTOTUNE)\n",
    "    return ds"
   ]
  },
  {
   "cell_type": "code",
   "execution_count": 16,
   "metadata": {},
   "outputs": [
    {
     "name": "stdout",
     "output_type": "stream",
     "text": [
      "WARNING:tensorflow:From /home/tmr/miniconda3/envs/tf/lib/python3.7/site-packages/tensorflow_core/python/ops/image_ops_impl.py:1556: div (from tensorflow.python.ops.math_ops) is deprecated and will be removed in a future version.\n",
      "Instructions for updating:\n",
      "Deprecated in favor of operator or tf.math.divide.\n"
     ]
    }
   ],
   "source": [
    "train_ds = prepare_for_training(labeled_ds_train, training = True, batch_size=64)\n",
    "val_ds = prepare_for_training(labeled_ds_valid, batch_size=64)\n",
    "test_ds = prepare_for_training(labeled_ds_test, batch_size=64)"
   ]
  },
  {
   "cell_type": "markdown",
   "metadata": {},
   "source": [
    "# ZFNet Details"
   ]
  },
  {
   "cell_type": "markdown",
   "metadata": {},
   "source": [
    "* This architecture was built based on AlexNet, by visualizing the features in a fully AlexNet trained model\n",
    "* optimizer = SGD \n",
    "* batch_size = 128 \n",
    "* momentum = 0.9 \n",
    "* weight decay = 0.0005 \n",
    "* weights initialization = 10e-2 and Bias = 0\n",
    "* lr_initial = 0.01 (reduced three time prior termination) \n",
    "* num_epochs = 70\n",
    "* cross-entropy loss "
   ]
  },
  {
   "cell_type": "markdown",
   "metadata": {},
   "source": [
    "# Model Definition"
   ]
  },
  {
   "cell_type": "code",
   "execution_count": 22,
   "metadata": {},
   "outputs": [],
   "source": [
    "def Model(num_classes=1000):\n",
    "    kernel_init = tf.keras.initializers.GlorotNormal()\n",
    "    model = tf.keras.Sequential([\n",
    "        tf.keras.layers.Conv2D(96, kernel_size=(7,7), kernel_initializer = kernel_init,strides = (2,2), activation = 'relu',input_shape = (226,226,3)),\n",
    "        tf.keras.layers.MaxPool2D(pool_size=(3,3), strides = (2,2)),\n",
    "        tf.keras.layers.BatchNormalization(),\n",
    "        tf.keras.layers.Conv2D(256,kernel_size=(5,5), kernel_initializer = kernel_init, strides=(2,2), activation = 'relu'),\n",
    "        tf.keras.layers.MaxPool2D(pool_size=(3,3), strides=(2,2)),\n",
    "        tf.keras.layers.BatchNormalization(),\n",
    "        tf.keras.layers.Conv2D(384, kernel_size=(3,3), kernel_initializer = kernel_init, padding='same', activation = 'relu'),\n",
    "        tf.keras.layers.BatchNormalization(),\n",
    "        tf.keras.layers.Conv2D(384,kernel_size=(3,3), kernel_initializer = kernel_init, padding='same', activation = 'relu'),\n",
    "        tf.keras.layers.BatchNormalization(),\n",
    "        tf.keras.layers.Conv2D(256, kernel_size=(3,3), kernel_initializer = kernel_init,padding='same', activation = 'relu'),\n",
    "        tf.keras.layers.MaxPool2D(pool_size=(3,3), strides=(2,2)),\n",
    "        tf.keras.layers.BatchNormalization(),\n",
    "        tf.keras.layers.Flatten(),\n",
    "        tf.keras.layers.Dense(4096,activation='relu'),\n",
    "        tf.keras.layers.Dropout(0.5),\n",
    "        tf.keras.layers.BatchNormalization(),\n",
    "        tf.keras.layers.Dense(4096,activation= 'relu'),\n",
    "        tf.keras.layers.Dropout(0.5),\n",
    "        tf.keras.layers.BatchNormalization(),\n",
    "        tf.keras.layers.Dense(num_classes,activation = 'softmax')\n",
    "    ])\n",
    "    return model"
   ]
  },
  {
   "cell_type": "code",
   "execution_count": 23,
   "metadata": {},
   "outputs": [],
   "source": [
    "model = Model(num_classes=10)"
   ]
  },
  {
   "cell_type": "code",
   "execution_count": 24,
   "metadata": {},
   "outputs": [
    {
     "name": "stdout",
     "output_type": "stream",
     "text": [
      "Model: \"sequential_1\"\n",
      "_________________________________________________________________\n",
      "Layer (type)                 Output Shape              Param #   \n",
      "=================================================================\n",
      "conv2d_5 (Conv2D)            (None, 110, 110, 96)      14208     \n",
      "_________________________________________________________________\n",
      "max_pooling2d_3 (MaxPooling2 (None, 54, 54, 96)        0         \n",
      "_________________________________________________________________\n",
      "batch_normalization_7 (Batch (None, 54, 54, 96)        384       \n",
      "_________________________________________________________________\n",
      "conv2d_6 (Conv2D)            (None, 25, 25, 256)       614656    \n",
      "_________________________________________________________________\n",
      "max_pooling2d_4 (MaxPooling2 (None, 12, 12, 256)       0         \n",
      "_________________________________________________________________\n",
      "batch_normalization_8 (Batch (None, 12, 12, 256)       1024      \n",
      "_________________________________________________________________\n",
      "conv2d_7 (Conv2D)            (None, 12, 12, 384)       885120    \n",
      "_________________________________________________________________\n",
      "batch_normalization_9 (Batch (None, 12, 12, 384)       1536      \n",
      "_________________________________________________________________\n",
      "conv2d_8 (Conv2D)            (None, 12, 12, 384)       1327488   \n",
      "_________________________________________________________________\n",
      "batch_normalization_10 (Batc (None, 12, 12, 384)       1536      \n",
      "_________________________________________________________________\n",
      "conv2d_9 (Conv2D)            (None, 12, 12, 256)       884992    \n",
      "_________________________________________________________________\n",
      "max_pooling2d_5 (MaxPooling2 (None, 5, 5, 256)         0         \n",
      "_________________________________________________________________\n",
      "batch_normalization_11 (Batc (None, 5, 5, 256)         1024      \n",
      "_________________________________________________________________\n",
      "flatten_1 (Flatten)          (None, 6400)              0         \n",
      "_________________________________________________________________\n",
      "dense_3 (Dense)              (None, 4096)              26218496  \n",
      "_________________________________________________________________\n",
      "dropout_2 (Dropout)          (None, 4096)              0         \n",
      "_________________________________________________________________\n",
      "batch_normalization_12 (Batc (None, 4096)              16384     \n",
      "_________________________________________________________________\n",
      "dense_4 (Dense)              (None, 4096)              16781312  \n",
      "_________________________________________________________________\n",
      "dropout_3 (Dropout)          (None, 4096)              0         \n",
      "_________________________________________________________________\n",
      "batch_normalization_13 (Batc (None, 4096)              16384     \n",
      "_________________________________________________________________\n",
      "dense_5 (Dense)              (None, 10)                40970     \n",
      "=================================================================\n",
      "Total params: 46,805,514\n",
      "Trainable params: 46,786,378\n",
      "Non-trainable params: 19,136\n",
      "_________________________________________________________________\n"
     ]
    }
   ],
   "source": [
    "model.summary()"
   ]
  },
  {
   "cell_type": "markdown",
   "metadata": {},
   "source": [
    "# Training "
   ]
  },
  {
   "cell_type": "code",
   "execution_count": 25,
   "metadata": {},
   "outputs": [],
   "source": [
    "model.compile(loss='categorical_crossentropy',\n",
    "              optimizer=tfa.optimizers.SGDW(learning_rate=0.01, weight_decay=0.0005, momentum=0.9),\n",
    "              metrics=['accuracy'])"
   ]
  },
  {
   "cell_type": "code",
   "execution_count": 26,
   "metadata": {},
   "outputs": [
    {
     "name": "stdout",
     "output_type": "stream",
     "text": [
      "Train for 100 steps, validate for 100 steps\n",
      "Epoch 1/70\n",
      "100/100 [==============================] - 12s 118ms/step - loss: 3.3076 - accuracy: 0.2194 - val_loss: 18.5445 - val_accuracy: 0.1214\n",
      "Epoch 2/70\n",
      "100/100 [==============================] - 10s 103ms/step - loss: 3.3733 - accuracy: 0.2522 - val_loss: 4.3730 - val_accuracy: 0.2678\n",
      "Epoch 3/70\n",
      "100/100 [==============================] - 11s 106ms/step - loss: 3.1419 - accuracy: 0.2653 - val_loss: 2.7460 - val_accuracy: 0.2962\n",
      "Epoch 4/70\n",
      "100/100 [==============================] - 10s 103ms/step - loss: 2.9755 - accuracy: 0.2789 - val_loss: 2.5070 - val_accuracy: 0.2403\n",
      "Epoch 5/70\n",
      "100/100 [==============================] - 10s 101ms/step - loss: 2.7016 - accuracy: 0.3047 - val_loss: 1.9568 - val_accuracy: 0.3202\n",
      "Epoch 6/70\n",
      "100/100 [==============================] - 10s 103ms/step - loss: 2.6405 - accuracy: 0.3027 - val_loss: 2.3233 - val_accuracy: 0.3028\n",
      "Epoch 7/70\n",
      "100/100 [==============================] - 10s 101ms/step - loss: 2.4750 - accuracy: 0.3150 - val_loss: 2.0119 - val_accuracy: 0.2881\n",
      "Epoch 8/70\n",
      "100/100 [==============================] - 10s 96ms/step - loss: 2.2922 - accuracy: 0.3320 - val_loss: 1.9185 - val_accuracy: 0.2912\n",
      "Epoch 9/70\n",
      "100/100 [==============================] - 11s 110ms/step - loss: 2.1865 - accuracy: 0.3547 - val_loss: 1.8506 - val_accuracy: 0.3208\n",
      "Epoch 10/70\n",
      "100/100 [==============================] - 11s 108ms/step - loss: 2.0162 - accuracy: 0.3702 - val_loss: 1.7317 - val_accuracy: 0.3480\n",
      "Epoch 11/70\n",
      "100/100 [==============================] - 9s 95ms/step - loss: 1.9912 - accuracy: 0.3711 - val_loss: 1.6922 - val_accuracy: 0.3928\n",
      "Epoch 12/70\n",
      "100/100 [==============================] - 9s 93ms/step - loss: 1.8711 - accuracy: 0.3944 - val_loss: 1.7300 - val_accuracy: 0.3678\n",
      "Epoch 13/70\n",
      "100/100 [==============================] - 9s 93ms/step - loss: 1.8342 - accuracy: 0.3981 - val_loss: 1.6716 - val_accuracy: 0.4202\n",
      "Epoch 14/70\n",
      "100/100 [==============================] - 9s 94ms/step - loss: 1.7446 - accuracy: 0.4120 - val_loss: 1.6598 - val_accuracy: 0.3994\n",
      "Epoch 15/70\n",
      "100/100 [==============================] - 9s 94ms/step - loss: 1.6684 - accuracy: 0.4323 - val_loss: 1.6230 - val_accuracy: 0.4256\n",
      "Epoch 16/70\n",
      "100/100 [==============================] - 10s 101ms/step - loss: 1.6037 - accuracy: 0.4450 - val_loss: 1.5699 - val_accuracy: 0.4333\n",
      "Epoch 17/70\n",
      "100/100 [==============================] - 9s 94ms/step - loss: 1.5550 - accuracy: 0.4598 - val_loss: 1.5552 - val_accuracy: 0.4475\n",
      "Epoch 18/70\n",
      "100/100 [==============================] - 10s 95ms/step - loss: 1.5152 - accuracy: 0.4617 - val_loss: 1.5111 - val_accuracy: 0.4758\n",
      "Epoch 19/70\n",
      "100/100 [==============================] - 9s 93ms/step - loss: 1.4778 - accuracy: 0.4725 - val_loss: 1.5083 - val_accuracy: 0.4689\n",
      "Epoch 20/70\n",
      "100/100 [==============================] - 9s 95ms/step - loss: 1.4105 - accuracy: 0.4941 - val_loss: 1.4720 - val_accuracy: 0.4963\n",
      "Epoch 21/70\n",
      "100/100 [==============================] - 9s 94ms/step - loss: 1.3926 - accuracy: 0.4981 - val_loss: 1.4295 - val_accuracy: 0.4923\n",
      "Epoch 22/70\n",
      "100/100 [==============================] - 9s 94ms/step - loss: 1.3600 - accuracy: 0.5192 - val_loss: 1.4152 - val_accuracy: 0.4816\n",
      "Epoch 23/70\n",
      "100/100 [==============================] - 9s 93ms/step - loss: 1.3070 - accuracy: 0.5247 - val_loss: 1.4288 - val_accuracy: 0.4978\n",
      "Epoch 24/70\n",
      "100/100 [==============================] - 9s 95ms/step - loss: 1.2861 - accuracy: 0.5327 - val_loss: 1.4489 - val_accuracy: 0.4806\n",
      "Epoch 25/70\n",
      "100/100 [==============================] - 9s 93ms/step - loss: 1.2775 - accuracy: 0.5417 - val_loss: 1.3969 - val_accuracy: 0.5052\n",
      "Epoch 26/70\n",
      "100/100 [==============================] - 9s 93ms/step - loss: 1.2666 - accuracy: 0.5467 - val_loss: 1.4862 - val_accuracy: 0.4806\n",
      "Epoch 27/70\n",
      "100/100 [==============================] - 9s 93ms/step - loss: 1.2519 - accuracy: 0.5542 - val_loss: 1.4322 - val_accuracy: 0.4992\n",
      "Epoch 28/70\n",
      "100/100 [==============================] - 9s 94ms/step - loss: 1.2349 - accuracy: 0.5509 - val_loss: 1.4095 - val_accuracy: 0.5064\n",
      "Epoch 29/70\n",
      "100/100 [==============================] - 10s 96ms/step - loss: 1.1967 - accuracy: 0.5650 - val_loss: 1.3204 - val_accuracy: 0.5355\n",
      "Epoch 30/70\n",
      "100/100 [==============================] - 10s 98ms/step - loss: 1.1848 - accuracy: 0.5784 - val_loss: 1.3556 - val_accuracy: 0.5264\n",
      "Epoch 31/70\n",
      "100/100 [==============================] - 9s 94ms/step - loss: 1.1672 - accuracy: 0.5803 - val_loss: 1.4384 - val_accuracy: 0.4936\n",
      "Epoch 32/70\n",
      "100/100 [==============================] - 10s 96ms/step - loss: 1.1630 - accuracy: 0.5791 - val_loss: 1.4956 - val_accuracy: 0.4853\n",
      "Epoch 33/70\n",
      "100/100 [==============================] - 9s 93ms/step - loss: 1.1614 - accuracy: 0.5833 - val_loss: 1.2425 - val_accuracy: 0.5636\n",
      "Epoch 34/70\n",
      "100/100 [==============================] - 9s 94ms/step - loss: 1.1280 - accuracy: 0.5922 - val_loss: 1.2618 - val_accuracy: 0.5452\n",
      "Epoch 35/70\n",
      "100/100 [==============================] - 10s 98ms/step - loss: 1.1453 - accuracy: 0.6020 - val_loss: 1.2770 - val_accuracy: 0.5573\n",
      "Epoch 36/70\n",
      "100/100 [==============================] - 9s 93ms/step - loss: 1.1351 - accuracy: 0.6020 - val_loss: 1.2592 - val_accuracy: 0.5717\n",
      "Epoch 37/70\n",
      "100/100 [==============================] - 10s 95ms/step - loss: 1.0899 - accuracy: 0.6131 - val_loss: 1.2644 - val_accuracy: 0.5650\n",
      "Epoch 38/70\n",
      "100/100 [==============================] - 9s 93ms/step - loss: 1.1034 - accuracy: 0.6064 - val_loss: 1.1941 - val_accuracy: 0.5848\n",
      "Epoch 39/70\n",
      "100/100 [==============================] - 9s 94ms/step - loss: 1.0839 - accuracy: 0.6122 - val_loss: 1.1629 - val_accuracy: 0.5970\n",
      "Epoch 40/70\n",
      "100/100 [==============================] - 9s 94ms/step - loss: 1.0765 - accuracy: 0.6197 - val_loss: 1.2253 - val_accuracy: 0.5684\n",
      "Epoch 41/70\n",
      "100/100 [==============================] - 9s 95ms/step - loss: 1.0771 - accuracy: 0.6158 - val_loss: 1.1794 - val_accuracy: 0.5872\n",
      "Epoch 42/70\n",
      "100/100 [==============================] - 10s 98ms/step - loss: 1.0888 - accuracy: 0.6187 - val_loss: 1.1100 - val_accuracy: 0.6020\n",
      "Epoch 43/70\n",
      "100/100 [==============================] - 9s 93ms/step - loss: 1.0692 - accuracy: 0.6209 - val_loss: 1.0995 - val_accuracy: 0.6072\n",
      "Epoch 44/70\n",
      "100/100 [==============================] - 9s 94ms/step - loss: 1.0552 - accuracy: 0.6266 - val_loss: 1.1356 - val_accuracy: 0.5922\n",
      "Epoch 45/70\n",
      "100/100 [==============================] - 9s 95ms/step - loss: 1.0510 - accuracy: 0.6353 - val_loss: 1.1950 - val_accuracy: 0.5909\n",
      "Epoch 46/70\n",
      "100/100 [==============================] - 10s 96ms/step - loss: 1.0615 - accuracy: 0.6275 - val_loss: 1.0693 - val_accuracy: 0.6205\n",
      "Epoch 47/70\n",
      "100/100 [==============================] - 9s 94ms/step - loss: 1.0489 - accuracy: 0.6353 - val_loss: 1.2370 - val_accuracy: 0.5680\n",
      "Epoch 48/70\n",
      "100/100 [==============================] - 9s 94ms/step - loss: 1.0263 - accuracy: 0.6442 - val_loss: 1.1300 - val_accuracy: 0.6017\n",
      "Epoch 49/70\n",
      "100/100 [==============================] - 9s 95ms/step - loss: 1.0314 - accuracy: 0.6442 - val_loss: 1.2725 - val_accuracy: 0.5595\n",
      "Epoch 50/70\n",
      "100/100 [==============================] - 9s 94ms/step - loss: 1.0338 - accuracy: 0.6391 - val_loss: 1.1609 - val_accuracy: 0.6011\n",
      "Epoch 51/70\n",
      "100/100 [==============================] - 9s 93ms/step - loss: 1.0081 - accuracy: 0.6513 - val_loss: 1.1000 - val_accuracy: 0.6031\n",
      "Epoch 52/70\n",
      "100/100 [==============================] - 9s 94ms/step - loss: 1.0186 - accuracy: 0.6427 - val_loss: 1.1222 - val_accuracy: 0.6056\n",
      "Epoch 53/70\n",
      "100/100 [==============================] - 9s 94ms/step - loss: 1.0050 - accuracy: 0.6458 - val_loss: 1.0927 - val_accuracy: 0.6150\n",
      "Epoch 54/70\n",
      "100/100 [==============================] - 10s 96ms/step - loss: 1.0230 - accuracy: 0.6441 - val_loss: 1.0562 - val_accuracy: 0.6323\n",
      "Epoch 55/70\n",
      "100/100 [==============================] - 9s 94ms/step - loss: 0.9770 - accuracy: 0.6633 - val_loss: 1.0884 - val_accuracy: 0.6219\n",
      "Epoch 56/70\n",
      "100/100 [==============================] - 10s 95ms/step - loss: 1.0267 - accuracy: 0.6480 - val_loss: 1.0857 - val_accuracy: 0.6141\n",
      "Epoch 57/70\n",
      "100/100 [==============================] - 9s 93ms/step - loss: 0.9954 - accuracy: 0.6527 - val_loss: 1.1508 - val_accuracy: 0.5922\n",
      "Epoch 58/70\n",
      "100/100 [==============================] - 9s 95ms/step - loss: 0.9972 - accuracy: 0.6556 - val_loss: 1.0760 - val_accuracy: 0.6156\n",
      "Epoch 59/70\n",
      "100/100 [==============================] - 9s 92ms/step - loss: 0.9879 - accuracy: 0.6538 - val_loss: 1.0558 - val_accuracy: 0.6345\n",
      "Epoch 60/70\n",
      "100/100 [==============================] - 9s 94ms/step - loss: 0.9951 - accuracy: 0.6503 - val_loss: 1.1179 - val_accuracy: 0.6061\n",
      "Epoch 61/70\n",
      "100/100 [==============================] - 9s 94ms/step - loss: 0.9905 - accuracy: 0.6583 - val_loss: 1.1515 - val_accuracy: 0.5975\n",
      "Epoch 62/70\n",
      "100/100 [==============================] - 9s 94ms/step - loss: 0.9776 - accuracy: 0.6559 - val_loss: 0.9664 - val_accuracy: 0.6589\n",
      "Epoch 63/70\n",
      "100/100 [==============================] - 10s 95ms/step - loss: 0.9853 - accuracy: 0.6564 - val_loss: 1.2280 - val_accuracy: 0.5770\n",
      "Epoch 64/70\n",
      "100/100 [==============================] - 9s 94ms/step - loss: 0.9881 - accuracy: 0.6686 - val_loss: 1.0423 - val_accuracy: 0.6261\n",
      "Epoch 65/70\n",
      "100/100 [==============================] - 10s 95ms/step - loss: 0.9644 - accuracy: 0.6645 - val_loss: 1.0483 - val_accuracy: 0.6295\n",
      "Epoch 66/70\n",
      "100/100 [==============================] - 10s 95ms/step - loss: 0.9713 - accuracy: 0.6580 - val_loss: 1.0962 - val_accuracy: 0.6270\n",
      "Epoch 67/70\n",
      "100/100 [==============================] - 10s 97ms/step - loss: 0.9632 - accuracy: 0.6636 - val_loss: 1.0380 - val_accuracy: 0.6389\n",
      "Epoch 68/70\n",
      "100/100 [==============================] - 9s 95ms/step - loss: 0.9656 - accuracy: 0.6662 - val_loss: 1.2496 - val_accuracy: 0.5620\n",
      "Epoch 69/70\n",
      "100/100 [==============================] - 9s 93ms/step - loss: 0.9740 - accuracy: 0.6633 - val_loss: 1.0551 - val_accuracy: 0.6309\n",
      "Epoch 70/70\n",
      "100/100 [==============================] - 9s 94ms/step - loss: 0.9788 - accuracy: 0.6581 - val_loss: 1.0229 - val_accuracy: 0.6420\n"
     ]
    }
   ],
   "source": [
    "history = model.fit(train_ds,\n",
    "                   epochs = 70,\n",
    "                   steps_per_epoch = 100,\n",
    "                   verbose = 1,\n",
    "                   validation_data = val_ds,\n",
    "                   validation_steps=100)"
   ]
  },
  {
   "cell_type": "markdown",
   "metadata": {},
   "source": [
    "# Evaluation"
   ]
  },
  {
   "cell_type": "code",
   "execution_count": 27,
   "metadata": {},
   "outputs": [
    {
     "name": "stdout",
     "output_type": "stream",
     "text": [
      "5/5 [==============================] - 8s 2s/step - loss: 1.0459 - accuracy: 0.6469\n"
     ]
    }
   ],
   "source": [
    "loss_test, accuracy_test = model.evaluate(test_ds, verbose = 1, steps = 5)"
   ]
  },
  {
   "cell_type": "code",
   "execution_count": 28,
   "metadata": {},
   "outputs": [
    {
     "data": {
      "text/plain": [
       "(1.0458523511886597, 0.646875)"
      ]
     },
     "execution_count": 28,
     "metadata": {},
     "output_type": "execute_result"
    }
   ],
   "source": [
    "loss_test, accuracy_test"
   ]
  },
  {
   "cell_type": "markdown",
   "metadata": {},
   "source": [
    "# Training results visualization"
   ]
  },
  {
   "cell_type": "code",
   "execution_count": 29,
   "metadata": {},
   "outputs": [
    {
     "data": {
      "image/png": "[encoded data removed]",
      "text/plain": [
       "<Figure size 432x288 with 1 Axes>"
      ]
     },
     "metadata": {
      "needs_background": "light"
     },
     "output_type": "display_data"
    }
   ],
   "source": [
    "plt.plot(history.history['accuracy'])\n",
    "plt.plot(history.history['val_accuracy'])\n",
    "plt.title('Model accuracy')\n",
    "plt.ylabel('accuracy')\n",
    "plt.xlabel('epoch')\n",
    "plt.legend(['train','validation'], loc='upper left')\n",
    "plt.show()"
   ]
  },
  {
   "cell_type": "code",
   "execution_count": 30,
   "metadata": {},
   "outputs": [
    {
     "data": {
      "image/png": "[encoded data removed]",
      "text/plain": [
       "<Figure size 432x288 with 1 Axes>"
      ]
     },
     "metadata": {
      "needs_background": "light"
     },
     "output_type": "display_data"
    }
   ],
   "source": [
    "plt.plot(history.history['loss'])\n",
    "plt.plot(history.history['val_loss'])\n",
    "plt.title('Loss Curve')\n",
    "plt.ylabel('loss')\n",
    "plt.xlabel('epoch')\n",
    "plt.legend(['train', 'validation'], loc='upper right')\n",
    "plt.show()"
   ]
  }
 ],
 "metadata": {
  "kernelspec": {
   "display_name": "Python 3",
   "language": "python",
   "name": "python3"
  },
  "language_info": {
   "codemirror_mode": {
    "name": "ipython",
    "version": 3
   },
   "file_extension": ".py",
   "mimetype": "text/x-python",
   "name": "python",
   "nbconvert_exporter": "python",
   "pygments_lexer": "ipython3",
   "version": "3.7.5"
  }
 },
 "nbformat": 4,
 "nbformat_minor": 4
}

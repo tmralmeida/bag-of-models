{
 "cells": [
  {
   "cell_type": "code",
   "execution_count": 1,
   "metadata": {},
   "outputs": [],
   "source": [
    "from __future__ import absolute_import, division, print_function, unicode_literals\n",
    "import tensorflow as tf\n",
    "import cv2\n",
    "import numpy as np\n",
    "import matplotlib.pyplot as plt \n",
    "import os\n",
    "import pathlib\n",
    "import tensorflow_addons as tfa\n",
    "from tensorflow.python.client import device_lib"
   ]
  },
  {
   "cell_type": "code",
   "execution_count": 2,
   "metadata": {},
   "outputs": [
    {
     "name": "stdout",
     "output_type": "stream",
     "text": [
      "Num GPUs Available:  4\n"
     ]
    }
   ],
   "source": [
    "print(\"Num GPUs Available: \", len(tf.config.experimental.list_physical_devices('GPU')))"
   ]
  },
  {
   "cell_type": "code",
   "execution_count": 3,
   "metadata": {},
   "outputs": [],
   "source": [
    "physical_devices = tf.config.list_physical_devices('GPU')"
   ]
  },
  {
   "cell_type": "code",
   "execution_count": 4,
   "metadata": {},
   "outputs": [],
   "source": [
    "tf.config.set_visible_devices(\n",
    "    physical_devices[1], 'GPU'\n",
    ")"
   ]
  },
  {
   "cell_type": "markdown",
   "metadata": {},
   "source": [
    "# Data Loading"
   ]
  },
  {
   "cell_type": "code",
   "execution_count": 5,
   "metadata": {},
   "outputs": [],
   "source": [
    "path_train = 'CINIC10/train/'\n",
    "path_valid = 'CINIC10/valid/'\n",
    "path_test = 'CINIC10/test/'\n",
    "data_dir_train = pathlib.Path(path_train)\n",
    "data_dir_val = pathlib.Path(path_valid)\n",
    "data_dir_test = pathlib.Path(path_test)"
   ]
  },
  {
   "cell_type": "code",
   "execution_count": 6,
   "metadata": {},
   "outputs": [],
   "source": [
    "list_ds_train = tf.data.Dataset.list_files(str(data_dir_train/'*/*'))\n",
    "list_ds_val = tf.data.Dataset.list_files(str(data_dir_val/'*/*'))\n",
    "list_ds_test = tf.data.Dataset.list_files(str(data_dir_test/'*/*'))"
   ]
  },
  {
   "cell_type": "code",
   "execution_count": 7,
   "metadata": {},
   "outputs": [],
   "source": [
    "CLASS_NAMES = np.array([item.name for item in data_dir_train.glob('*')])"
   ]
  },
  {
   "cell_type": "code",
   "execution_count": 8,
   "metadata": {},
   "outputs": [],
   "source": [
    "def get_label(file_path):\n",
    "    parts = tf.strings.split(file_path, os.path.sep)\n",
    "    return parts[-2] == CLASS_NAMES"
   ]
  },
  {
   "cell_type": "code",
   "execution_count": 9,
   "metadata": {},
   "outputs": [],
   "source": [
    "def decode_img(img,dsize):\n",
    "    img = tf.image.decode_png(img, channels=3)\n",
    "    img = tf.image.convert_image_dtype(img, tf.float32)\n",
    "    return tf.image.resize(img, [dsize[0], dsize[1]])"
   ]
  },
  {
   "cell_type": "code",
   "execution_count": 10,
   "metadata": {},
   "outputs": [],
   "source": [
    "def process_path(file_path):\n",
    "    size = (224,224)\n",
    "    label = get_label(file_path)\n",
    "    img = tf.io.read_file(file_path)\n",
    "    img = decode_img(img,size )\n",
    "    return img, label"
   ]
  },
  {
   "cell_type": "code",
   "execution_count": 11,
   "metadata": {},
   "outputs": [],
   "source": [
    "AUTOTUNE = tf.data.experimental.AUTOTUNE"
   ]
  },
  {
   "cell_type": "code",
   "execution_count": 12,
   "metadata": {},
   "outputs": [],
   "source": [
    "labeled_ds_train = list_ds_train.map(process_path, num_parallel_calls=AUTOTUNE)\n",
    "labeled_ds_valid = list_ds_val.map(process_path, num_parallel_calls=AUTOTUNE)\n",
    "labeled_ds_test = list_ds_test.map(process_path, num_parallel_calls=AUTOTUNE)"
   ]
  },
  {
   "cell_type": "code",
   "execution_count": 13,
   "metadata": {},
   "outputs": [],
   "source": [
    "def normalize(x, y):\n",
    "    x = tf.image.per_image_standardization(x)\n",
    "    return x, y"
   ]
  },
  {
   "cell_type": "code",
   "execution_count": 14,
   "metadata": {},
   "outputs": [],
   "source": [
    "def prepare_for_training(ds, cache=True, shuffle_buffer_size=1000, batch_size = 128):\n",
    "    if cache:\n",
    "        if isinstance(cache, str):\n",
    "            ds = ds.cache(cache)\n",
    "        else:\n",
    "            ds = ds.cache()\n",
    "    ds = ds.map(normalize)\n",
    "    ds = ds.shuffle(buffer_size=shuffle_buffer_size)\n",
    "    ds = ds.repeat()\n",
    "    ds = ds.batch(batch_size)\n",
    "    ds = ds.prefetch(buffer_size=AUTOTUNE)\n",
    "    return ds"
   ]
  },
  {
   "cell_type": "code",
   "execution_count": 15,
   "metadata": {},
   "outputs": [
    {
     "name": "stdout",
     "output_type": "stream",
     "text": [
      "WARNING:tensorflow:From /home/tmr/miniconda3/envs/tf/lib/python3.7/site-packages/tensorflow_core/python/ops/image_ops_impl.py:1556: div (from tensorflow.python.ops.math_ops) is deprecated and will be removed in a future version.\n",
      "Instructions for updating:\n",
      "Deprecated in favor of operator or tf.math.divide.\n"
     ]
    }
   ],
   "source": [
    "train_ds = prepare_for_training(labeled_ds_train, batch_size=128)\n",
    "val_ds = prepare_for_training(labeled_ds_valid, batch_size=128)\n",
    "test_ds = prepare_for_training(labeled_ds_test, batch_size=128)"
   ]
  },
  {
   "cell_type": "markdown",
   "metadata": {},
   "source": [
    "# MobileNet Details"
   ]
  },
  {
   "cell_type": "markdown",
   "metadata": {},
   "source": [
    "Contrary to training large models we use less regularization and data augmentation techniques because small models have less trouble with overfitting. When training MobileNets we do not use side heads or label smoothing and additionally reduce the amount image of distortions by limiting the size of small\n",
    "crops that are used in large Inception training.\n",
    "Additionally, they found that it was important to put very little or no weight decay (l2 regularization) on the depthwise filters since there are so few parameters in them."
   ]
  },
  {
   "cell_type": "markdown",
   "metadata": {},
   "source": [
    "40 epochs --> lr 0.01\n",
    "\n",
    "10 epochs --> lr 0.001\n",
    "\n",
    "10 epochs --> lr 0.0001"
   ]
  },
  {
   "cell_type": "markdown",
   "metadata": {},
   "source": [
    "# Model Definition"
   ]
  },
  {
   "cell_type": "code",
   "execution_count": 17,
   "metadata": {},
   "outputs": [],
   "source": [
    "class Model:\n",
    "    def __init__(self, n_classes):\n",
    "        self.n_classes = n_classes\n",
    "        \n",
    "    def initial_block(self, inputs, width_multiplier = 1):\n",
    "        x = tf.keras.layers.Conv2D(round(32*width_multiplier),kernel_size=3, strides=2, padding='same')(inputs)\n",
    "        x = tf.keras.layers.BatchNormalization()(x)\n",
    "        x = tf.nn.relu(x)\n",
    "        return x\n",
    "    \n",
    "    def deph_sep_conv(self, x, n_channels , downsample = False, width_multiplier = 1):\n",
    "        n_channels = round(n_channels * width_multiplier)\n",
    "        stride = 2 if downsample else 1\n",
    "        \n",
    "        x = tf.keras.layers.SeparableConv2D(n_channels, kernel_size = 3, strides = stride, padding = 'same')(x)\n",
    "        x = tf.keras.layers.BatchNormalization()(x)\n",
    "        x = tf.nn.relu(x)\n",
    "        \n",
    "        return x \n",
    "    \n",
    "    def final_block(self, x):\n",
    "        x = tf.keras.layers.AveragePooling2D(pool_size=7)(x)\n",
    "        x = tf.keras.layers.Flatten()(x)\n",
    "        x = tf.keras.layers.Dense(1024)(x)\n",
    "        x = tf.keras.layers.Dense(self.n_classes, activation='softmax')(x)\n",
    "        return x\n",
    "    \n",
    "    def build_model(self):\n",
    "        inputs = tf.keras.layers.Input(shape=(224,224,3))\n",
    "        x = self.initial_block(inputs)\n",
    "        x = self.deph_sep_conv (x, 64)\n",
    "        x = self.deph_sep_conv (x, 64, downsample = True)\n",
    "        x = self.deph_sep_conv (x, 128)\n",
    "        x = self.deph_sep_conv (x, 128, downsample = True)\n",
    "        x = self.deph_sep_conv (x, 256)\n",
    "        x = self.deph_sep_conv (x, 256, downsample = True)\n",
    "        for i in range (5):\n",
    "            x = self.deph_sep_conv (x, 512)\n",
    "        x = self.deph_sep_conv (x, 512, downsample = True)\n",
    "        x = self.deph_sep_conv (x, 1024)\n",
    "        x = self.final_block(x)\n",
    "        model = tf.keras.Model(inputs, x)\n",
    "        return model"
   ]
  },
  {
   "cell_type": "code",
   "execution_count": 18,
   "metadata": {},
   "outputs": [],
   "source": [
    "model = Model(10)"
   ]
  },
  {
   "cell_type": "code",
   "execution_count": 19,
   "metadata": {},
   "outputs": [],
   "source": [
    "model = model.build_model()"
   ]
  },
  {
   "cell_type": "code",
   "execution_count": 20,
   "metadata": {},
   "outputs": [
    {
     "name": "stdout",
     "output_type": "stream",
     "text": [
      "Model: \"model\"\n",
      "_________________________________________________________________\n",
      "Layer (type)                 Output Shape              Param #   \n",
      "=================================================================\n",
      "input_1 (InputLayer)         [(None, 224, 224, 3)]     0         \n",
      "_________________________________________________________________\n",
      "conv2d (Conv2D)              (None, 112, 112, 32)      896       \n",
      "_________________________________________________________________\n",
      "batch_normalization (BatchNo (None, 112, 112, 32)      128       \n",
      "_________________________________________________________________\n",
      "tf_op_layer_Relu (TensorFlow [(None, 112, 112, 32)]    0         \n",
      "_________________________________________________________________\n",
      "separable_conv2d (SeparableC (None, 112, 112, 64)      2400      \n",
      "_________________________________________________________________\n",
      "batch_normalization_1 (Batch (None, 112, 112, 64)      256       \n",
      "_________________________________________________________________\n",
      "tf_op_layer_Relu_1 (TensorFl [(None, 112, 112, 64)]    0         \n",
      "_________________________________________________________________\n",
      "separable_conv2d_1 (Separabl (None, 56, 56, 64)        4736      \n",
      "_________________________________________________________________\n",
      "batch_normalization_2 (Batch (None, 56, 56, 64)        256       \n",
      "_________________________________________________________________\n",
      "tf_op_layer_Relu_2 (TensorFl [(None, 56, 56, 64)]      0         \n",
      "_________________________________________________________________\n",
      "separable_conv2d_2 (Separabl (None, 56, 56, 128)       8896      \n",
      "_________________________________________________________________\n",
      "batch_normalization_3 (Batch (None, 56, 56, 128)       512       \n",
      "_________________________________________________________________\n",
      "tf_op_layer_Relu_3 (TensorFl [(None, 56, 56, 128)]     0         \n",
      "_________________________________________________________________\n",
      "separable_conv2d_3 (Separabl (None, 28, 28, 128)       17664     \n",
      "_________________________________________________________________\n",
      "batch_normalization_4 (Batch (None, 28, 28, 128)       512       \n",
      "_________________________________________________________________\n",
      "tf_op_layer_Relu_4 (TensorFl [(None, 28, 28, 128)]     0         \n",
      "_________________________________________________________________\n",
      "separable_conv2d_4 (Separabl (None, 28, 28, 256)       34176     \n",
      "_________________________________________________________________\n",
      "batch_normalization_5 (Batch (None, 28, 28, 256)       1024      \n",
      "_________________________________________________________________\n",
      "tf_op_layer_Relu_5 (TensorFl [(None, 28, 28, 256)]     0         \n",
      "_________________________________________________________________\n",
      "separable_conv2d_5 (Separabl (None, 14, 14, 256)       68096     \n",
      "_________________________________________________________________\n",
      "batch_normalization_6 (Batch (None, 14, 14, 256)       1024      \n",
      "_________________________________________________________________\n",
      "tf_op_layer_Relu_6 (TensorFl [(None, 14, 14, 256)]     0         \n",
      "_________________________________________________________________\n",
      "separable_conv2d_6 (Separabl (None, 14, 14, 512)       133888    \n",
      "_________________________________________________________________\n",
      "batch_normalization_7 (Batch (None, 14, 14, 512)       2048      \n",
      "_________________________________________________________________\n",
      "tf_op_layer_Relu_7 (TensorFl [(None, 14, 14, 512)]     0         \n",
      "_________________________________________________________________\n",
      "separable_conv2d_7 (Separabl (None, 14, 14, 512)       267264    \n",
      "_________________________________________________________________\n",
      "batch_normalization_8 (Batch (None, 14, 14, 512)       2048      \n",
      "_________________________________________________________________\n",
      "tf_op_layer_Relu_8 (TensorFl [(None, 14, 14, 512)]     0         \n",
      "_________________________________________________________________\n",
      "separable_conv2d_8 (Separabl (None, 14, 14, 512)       267264    \n",
      "_________________________________________________________________\n",
      "batch_normalization_9 (Batch (None, 14, 14, 512)       2048      \n",
      "_________________________________________________________________\n",
      "tf_op_layer_Relu_9 (TensorFl [(None, 14, 14, 512)]     0         \n",
      "_________________________________________________________________\n",
      "separable_conv2d_9 (Separabl (None, 14, 14, 512)       267264    \n",
      "_________________________________________________________________\n",
      "batch_normalization_10 (Batc (None, 14, 14, 512)       2048      \n",
      "_________________________________________________________________\n",
      "tf_op_layer_Relu_10 (TensorF [(None, 14, 14, 512)]     0         \n",
      "_________________________________________________________________\n",
      "separable_conv2d_10 (Separab (None, 14, 14, 512)       267264    \n",
      "_________________________________________________________________\n",
      "batch_normalization_11 (Batc (None, 14, 14, 512)       2048      \n",
      "_________________________________________________________________\n",
      "tf_op_layer_Relu_11 (TensorF [(None, 14, 14, 512)]     0         \n",
      "_________________________________________________________________\n",
      "separable_conv2d_11 (Separab (None, 7, 7, 512)         267264    \n",
      "_________________________________________________________________\n",
      "batch_normalization_12 (Batc (None, 7, 7, 512)         2048      \n",
      "_________________________________________________________________\n",
      "tf_op_layer_Relu_12 (TensorF [(None, 7, 7, 512)]       0         \n",
      "_________________________________________________________________\n",
      "separable_conv2d_12 (Separab (None, 7, 7, 1024)        529920    \n",
      "_________________________________________________________________\n",
      "batch_normalization_13 (Batc (None, 7, 7, 1024)        4096      \n",
      "_________________________________________________________________\n",
      "tf_op_layer_Relu_13 (TensorF [(None, 7, 7, 1024)]      0         \n",
      "_________________________________________________________________\n",
      "average_pooling2d (AveragePo (None, 1, 1, 1024)        0         \n",
      "_________________________________________________________________\n",
      "flatten (Flatten)            (None, 1024)              0         \n",
      "_________________________________________________________________\n",
      "dense (Dense)                (None, 1024)              1049600   \n",
      "_________________________________________________________________\n",
      "dense_1 (Dense)              (None, 10)                10250     \n",
      "=================================================================\n",
      "Total params: 3,216,938\n",
      "Trainable params: 3,206,890\n",
      "Non-trainable params: 10,048\n",
      "_________________________________________________________________\n"
     ]
    }
   ],
   "source": [
    "model.summary()"
   ]
  },
  {
   "cell_type": "markdown",
   "metadata": {},
   "source": [
    "# Training"
   ]
  },
  {
   "cell_type": "code",
   "execution_count": 22,
   "metadata": {},
   "outputs": [],
   "source": [
    "model.compile(optimizer = tf.keras.optimizers.SGD(learning_rate=0.01),\n",
    "              loss = 'categorical_crossentropy',\n",
    "              metrics = ['accuracy'])"
   ]
  },
  {
   "cell_type": "code",
   "execution_count": 23,
   "metadata": {},
   "outputs": [
    {
     "name": "stdout",
     "output_type": "stream",
     "text": [
      "Train for 100 steps, validate for 100 steps\n",
      "Epoch 1/40\n",
      "100/100 [==============================] - 113s 1s/step - loss: 2.0821 - accuracy: 0.2301 - val_loss: 2.3029 - val_accuracy: 0.1027\n",
      "Epoch 2/40\n",
      "100/100 [==============================] - 88s 876ms/step - loss: 1.8381 - accuracy: 0.3070 - val_loss: 2.3046 - val_accuracy: 0.1035\n",
      "Epoch 3/40\n",
      "100/100 [==============================] - 81s 813ms/step - loss: 1.7235 - accuracy: 0.3548 - val_loss: 2.3110 - val_accuracy: 0.0962\n",
      "Epoch 4/40\n",
      "100/100 [==============================] - 80s 800ms/step - loss: 1.6425 - accuracy: 0.3883 - val_loss: 2.3267 - val_accuracy: 0.0999\n",
      "Epoch 5/40\n",
      "100/100 [==============================] - 71s 706ms/step - loss: 1.6049 - accuracy: 0.3992 - val_loss: 2.3776 - val_accuracy: 0.1016\n",
      "Epoch 6/40\n",
      "100/100 [==============================] - 78s 783ms/step - loss: 1.5640 - accuracy: 0.4172 - val_loss: 2.5161 - val_accuracy: 0.0995\n",
      "Epoch 7/40\n",
      "100/100 [==============================] - 43s 430ms/step - loss: 1.5265 - accuracy: 0.4325 - val_loss: 2.0713 - val_accuracy: 0.2402\n",
      "Epoch 8/40\n",
      "100/100 [==============================] - 47s 472ms/step - loss: 1.4820 - accuracy: 0.4539 - val_loss: 1.8878 - val_accuracy: 0.3320\n",
      "Epoch 9/40\n",
      "100/100 [==============================] - 45s 453ms/step - loss: 1.4738 - accuracy: 0.4522 - val_loss: 1.9577 - val_accuracy: 0.3366\n",
      "Epoch 10/40\n",
      "100/100 [==============================] - 42s 417ms/step - loss: 1.4247 - accuracy: 0.4773 - val_loss: 1.9478 - val_accuracy: 0.3227\n",
      "Epoch 11/40\n",
      "100/100 [==============================] - 42s 418ms/step - loss: 1.3825 - accuracy: 0.4912 - val_loss: 1.6829 - val_accuracy: 0.4300\n",
      "Epoch 12/40\n",
      "100/100 [==============================] - 42s 416ms/step - loss: 1.3790 - accuracy: 0.4925 - val_loss: 1.5639 - val_accuracy: 0.4475\n",
      "Epoch 13/40\n",
      "100/100 [==============================] - 42s 424ms/step - loss: 1.3355 - accuracy: 0.5066 - val_loss: 1.4860 - val_accuracy: 0.4602\n",
      "Epoch 14/40\n",
      "100/100 [==============================] - 43s 428ms/step - loss: 1.3236 - accuracy: 0.5155 - val_loss: 1.9783 - val_accuracy: 0.3607\n",
      "Epoch 15/40\n",
      "100/100 [==============================] - 42s 423ms/step - loss: 1.2913 - accuracy: 0.5242 - val_loss: 1.6203 - val_accuracy: 0.4276\n",
      "Epoch 16/40\n",
      "100/100 [==============================] - 40s 403ms/step - loss: 1.3061 - accuracy: 0.5238 - val_loss: 1.7159 - val_accuracy: 0.4124\n",
      "Epoch 17/40\n",
      "100/100 [==============================] - 42s 416ms/step - loss: 1.2660 - accuracy: 0.5420 - val_loss: 1.4905 - val_accuracy: 0.4506\n",
      "Epoch 18/40\n",
      "100/100 [==============================] - 41s 414ms/step - loss: 1.2341 - accuracy: 0.5459 - val_loss: 1.5289 - val_accuracy: 0.4623\n",
      "Epoch 19/40\n",
      "100/100 [==============================] - 41s 407ms/step - loss: 1.2293 - accuracy: 0.5520 - val_loss: 1.6149 - val_accuracy: 0.4409\n",
      "Epoch 20/40\n",
      "100/100 [==============================] - 42s 419ms/step - loss: 1.1909 - accuracy: 0.5616 - val_loss: 1.3767 - val_accuracy: 0.5058\n",
      "Epoch 21/40\n",
      "100/100 [==============================] - 42s 415ms/step - loss: 1.1881 - accuracy: 0.5659 - val_loss: 1.4713 - val_accuracy: 0.4741\n",
      "Epoch 22/40\n",
      "100/100 [==============================] - 40s 404ms/step - loss: 1.1671 - accuracy: 0.5726 - val_loss: 1.4747 - val_accuracy: 0.4676\n",
      "Epoch 23/40\n",
      "100/100 [==============================] - 42s 418ms/step - loss: 1.1874 - accuracy: 0.5686 - val_loss: 1.2405 - val_accuracy: 0.5462\n",
      "Epoch 24/40\n",
      "100/100 [==============================] - 42s 417ms/step - loss: 1.1507 - accuracy: 0.5807 - val_loss: 1.4724 - val_accuracy: 0.4940\n",
      "Epoch 25/40\n",
      "100/100 [==============================] - 40s 403ms/step - loss: 1.1216 - accuracy: 0.5893 - val_loss: 1.3106 - val_accuracy: 0.5367\n",
      "Epoch 26/40\n",
      "100/100 [==============================] - 41s 414ms/step - loss: 1.1292 - accuracy: 0.5927 - val_loss: 1.4688 - val_accuracy: 0.4878\n",
      "Epoch 27/40\n",
      "100/100 [==============================] - 41s 414ms/step - loss: 1.0941 - accuracy: 0.6028 - val_loss: 1.5944 - val_accuracy: 0.4635\n",
      "Epoch 28/40\n",
      "100/100 [==============================] - 41s 407ms/step - loss: 1.1034 - accuracy: 0.5996 - val_loss: 1.2583 - val_accuracy: 0.5501\n",
      "Epoch 29/40\n",
      "100/100 [==============================] - 41s 415ms/step - loss: 1.0814 - accuracy: 0.6051 - val_loss: 1.3496 - val_accuracy: 0.5309\n",
      "Epoch 30/40\n",
      "100/100 [==============================] - 42s 417ms/step - loss: 1.0907 - accuracy: 0.6055 - val_loss: 1.1939 - val_accuracy: 0.5697\n",
      "Epoch 31/40\n",
      "100/100 [==============================] - 40s 403ms/step - loss: 1.0646 - accuracy: 0.6162 - val_loss: 1.2113 - val_accuracy: 0.5705\n",
      "Epoch 32/40\n",
      "100/100 [==============================] - 42s 416ms/step - loss: 1.0450 - accuracy: 0.6177 - val_loss: 1.3897 - val_accuracy: 0.5099\n",
      "Epoch 33/40\n",
      "100/100 [==============================] - 42s 415ms/step - loss: 1.0590 - accuracy: 0.6183 - val_loss: 1.2113 - val_accuracy: 0.5665\n",
      "Epoch 34/40\n",
      "100/100 [==============================] - 41s 408ms/step - loss: 1.0137 - accuracy: 0.6295 - val_loss: 1.4036 - val_accuracy: 0.5008\n",
      "Epoch 35/40\n",
      "100/100 [==============================] - 41s 415ms/step - loss: 1.0216 - accuracy: 0.6328 - val_loss: 1.3983 - val_accuracy: 0.5227\n",
      "Epoch 36/40\n",
      "100/100 [==============================] - 42s 416ms/step - loss: 0.9962 - accuracy: 0.6374 - val_loss: 1.2274 - val_accuracy: 0.5605\n",
      "Epoch 37/40\n",
      "100/100 [==============================] - 41s 406ms/step - loss: 1.0246 - accuracy: 0.6271 - val_loss: 1.1792 - val_accuracy: 0.5704\n",
      "Epoch 38/40\n",
      "100/100 [==============================] - 41s 414ms/step - loss: 0.9928 - accuracy: 0.6445 - val_loss: 1.3859 - val_accuracy: 0.5229\n",
      "Epoch 39/40\n",
      "100/100 [==============================] - 41s 415ms/step - loss: 0.9780 - accuracy: 0.6466 - val_loss: 1.3717 - val_accuracy: 0.5280\n",
      "Epoch 40/40\n",
      "100/100 [==============================] - 40s 403ms/step - loss: 0.9931 - accuracy: 0.6438 - val_loss: 1.3632 - val_accuracy: 0.5204\n"
     ]
    }
   ],
   "source": [
    "history = model.fit(train_ds,\n",
    "                    epochs = 40,\n",
    "                    steps_per_epoch = 100,\n",
    "                    verbose = 1,\n",
    "                    validation_data = val_ds,\n",
    "                    validation_steps = 100)"
   ]
  },
  {
   "cell_type": "markdown",
   "metadata": {},
   "source": [
    "# Evaluation"
   ]
  },
  {
   "cell_type": "code",
   "execution_count": 24,
   "metadata": {},
   "outputs": [
    {
     "name": "stdout",
     "output_type": "stream",
     "text": [
      "5/5 [==============================] - 6s 1s/step - loss: 1.2869 - accuracy: 0.5453\n"
     ]
    }
   ],
   "source": [
    "loss_test, accuracy_test = model.evaluate(test_ds,\n",
    "                                        verbose = 1,\n",
    "                                        steps = 5)"
   ]
  },
  {
   "cell_type": "code",
   "execution_count": 25,
   "metadata": {},
   "outputs": [
    {
     "data": {
      "text/plain": [
       "(1.2868710994720458, 0.5453125)"
      ]
     },
     "execution_count": 25,
     "metadata": {},
     "output_type": "execute_result"
    }
   ],
   "source": [
    "loss_test, accuracy_test"
   ]
  },
  {
   "cell_type": "markdown",
   "metadata": {},
   "source": [
    "# Training results visualization"
   ]
  },
  {
   "cell_type": "code",
   "execution_count": 26,
   "metadata": {},
   "outputs": [
    {
     "data": {
      "image/png": "[encoded data removed]",
      "text/plain": [
       "<Figure size 432x288 with 1 Axes>"
      ]
     },
     "metadata": {
      "needs_background": "light"
     },
     "output_type": "display_data"
    }
   ],
   "source": [
    "plt.plot(history.history['accuracy'])\n",
    "plt.plot(history.history['val_accuracy'])\n",
    "plt.title('Model accuracy')\n",
    "plt.ylabel('accuracy')\n",
    "plt.xlabel('epoch')\n",
    "plt.legend(['train','validation'], loc='upper left')\n",
    "plt.show()"
   ]
  },
  {
   "cell_type": "code",
   "execution_count": 27,
   "metadata": {},
   "outputs": [
    {
     "data": {
      "image/png": "[encoded data removed]",
      "text/plain": [
       "<Figure size 432x288 with 1 Axes>"
      ]
     },
     "metadata": {
      "needs_background": "light"
     },
     "output_type": "display_data"
    }
   ],
   "source": [
    "plt.plot(history.history['loss'])\n",
    "plt.plot(history.history['val_loss'])\n",
    "plt.title('Loss Curve')\n",
    "plt.ylabel('loss')\n",
    "plt.xlabel('epoch')\n",
    "plt.legend(['train', 'validation'], loc='upper right')\n",
    "plt.show()"
   ]
  }
 ],
 "metadata": {
  "kernelspec": {
   "display_name": "Python 3",
   "language": "python",
   "name": "python3"
  },
  "language_info": {
   "codemirror_mode": {
    "name": "ipython",
    "version": 3
   },
   "file_extension": ".py",
   "mimetype": "text/x-python",
   "name": "python",
   "nbconvert_exporter": "python",
   "pygments_lexer": "ipython3",
   "version": "3.7.5"
  }
 },
 "nbformat": 4,
 "nbformat_minor": 4
}

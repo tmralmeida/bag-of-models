{
 "cells": [
  {
   "cell_type": "code",
   "execution_count": 26,
   "metadata": {},
   "outputs": [],
   "source": [
    "from __future__ import absolute_import, division, print_function, unicode_literals\n",
    "import tensorflow as tf\n",
    "import cv2\n",
    "import numpy as np\n",
    "import matplotlib.pyplot as plt \n",
    "import os\n",
    "import pathlib\n",
    "import tensorflow_addons as tfa\n",
    "from tensorflow.python.client import device_lib"
   ]
  },
  {
   "cell_type": "code",
   "execution_count": 27,
   "metadata": {},
   "outputs": [
    {
     "name": "stdout",
     "output_type": "stream",
     "text": [
      "Num GPUs Available:  4\n"
     ]
    }
   ],
   "source": [
    "print(\"Num GPUs Available: \", len(tf.config.experimental.list_physical_devices('GPU')))"
   ]
  },
  {
   "cell_type": "code",
   "execution_count": 28,
   "metadata": {},
   "outputs": [],
   "source": [
    "physical_devices = tf.config.list_physical_devices('GPU')"
   ]
  },
  {
   "cell_type": "code",
   "execution_count": 29,
   "metadata": {},
   "outputs": [],
   "source": [
    "tf.config.set_visible_devices(\n",
    "    physical_devices[1], 'GPU'\n",
    ")"
   ]
  },
  {
   "cell_type": "markdown",
   "metadata": {},
   "source": [
    "# Data Loading"
   ]
  },
  {
   "cell_type": "code",
   "execution_count": 30,
   "metadata": {},
   "outputs": [],
   "source": [
    "path_train = 'CINIC10/train/'\n",
    "path_valid = 'CINIC10/valid/'\n",
    "path_test = 'CINIC10/test/'\n",
    "data_dir_train = pathlib.Path(path_train)\n",
    "data_dir_val = pathlib.Path(path_valid)\n",
    "data_dir_test = pathlib.Path(path_test)"
   ]
  },
  {
   "cell_type": "code",
   "execution_count": 31,
   "metadata": {},
   "outputs": [],
   "source": [
    "list_ds_train = tf.data.Dataset.list_files(str(data_dir_train/'*/*'))\n",
    "list_ds_val = tf.data.Dataset.list_files(str(data_dir_val/'*/*'))\n",
    "list_ds_test = tf.data.Dataset.list_files(str(data_dir_test/'*/*'))"
   ]
  },
  {
   "cell_type": "code",
   "execution_count": 32,
   "metadata": {},
   "outputs": [],
   "source": [
    "CLASS_NAMES = np.array([item.name for item in data_dir_train.glob('*')])"
   ]
  },
  {
   "cell_type": "code",
   "execution_count": 33,
   "metadata": {},
   "outputs": [],
   "source": [
    "def get_label(file_path):\n",
    "    parts = tf.strings.split(file_path, os.path.sep)\n",
    "    return parts[-2] == CLASS_NAMES"
   ]
  },
  {
   "cell_type": "code",
   "execution_count": 34,
   "metadata": {},
   "outputs": [],
   "source": [
    "def decode_img(img,dsize):\n",
    "    img = tf.image.decode_png(img, channels=3)\n",
    "    img = tf.image.convert_image_dtype(img, tf.float32)\n",
    "    return tf.image.resize(img, [dsize[0], dsize[1]])"
   ]
  },
  {
   "cell_type": "code",
   "execution_count": 35,
   "metadata": {},
   "outputs": [],
   "source": [
    "def process_path(file_path):\n",
    "    size = (299,299)\n",
    "    label = get_label(file_path)\n",
    "    img = tf.io.read_file(file_path)\n",
    "    img = decode_img(img,size )\n",
    "    return img, label"
   ]
  },
  {
   "cell_type": "code",
   "execution_count": 36,
   "metadata": {},
   "outputs": [],
   "source": [
    "AUTOTUNE = tf.data.experimental.AUTOTUNE"
   ]
  },
  {
   "cell_type": "code",
   "execution_count": 37,
   "metadata": {},
   "outputs": [],
   "source": [
    "labeled_ds_train = list_ds_train.map(process_path, num_parallel_calls=AUTOTUNE)\n",
    "labeled_ds_valid = list_ds_val.map(process_path, num_parallel_calls=AUTOTUNE)\n",
    "labeled_ds_test = list_ds_test.map(process_path, num_parallel_calls=AUTOTUNE)"
   ]
  },
  {
   "cell_type": "code",
   "execution_count": 38,
   "metadata": {},
   "outputs": [],
   "source": [
    "def normalize(x, y):\n",
    "    x = tf.image.per_image_standardization(x)\n",
    "    return x, y"
   ]
  },
  {
   "cell_type": "code",
   "execution_count": 39,
   "metadata": {},
   "outputs": [],
   "source": [
    "def prepare_for_training(ds, cache=True, shuffle_buffer_size=1000, batch_size = 128):\n",
    "    if cache:\n",
    "        if isinstance(cache, str):\n",
    "            ds = ds.cache(cache)\n",
    "        else:\n",
    "            ds = ds.cache()\n",
    "    ds = ds.map(normalize)\n",
    "    ds = ds.shuffle(buffer_size=shuffle_buffer_size)\n",
    "    ds = ds.repeat()\n",
    "    ds = ds.batch(batch_size)\n",
    "    ds = ds.prefetch(buffer_size=AUTOTUNE)\n",
    "    return ds"
   ]
  },
  {
   "cell_type": "code",
   "execution_count": 40,
   "metadata": {},
   "outputs": [],
   "source": [
    "train_ds = prepare_for_training(labeled_ds_train, batch_size = 8)\n",
    "val_ds = prepare_for_training(labeled_ds_valid, batch_size = 8)\n",
    "test_ds = prepare_for_training(labeled_ds_test, batch_size = 8)"
   ]
  },
  {
   "cell_type": "markdown",
   "metadata": {},
   "source": [
    "# Xception Details"
   ]
  },
  {
   "cell_type": "markdown",
   "metadata": {},
   "source": [
    "Optimization Configuration used for ImageNet:\n",
    "* Optimizer: RMSprop/SGD\n",
    "* Momentum: 0.9\n",
    "* Initial learning rate: 0.045\n",
    "* Learning rate decay: decay of rate 0.94 every 2 epochs\n",
    "\n",
    "Regularization:\n",
    "* Weight decay: 1e-5\n",
    "* No dropout\n",
    "* No auxilairy loss\n"
   ]
  },
  {
   "cell_type": "markdown",
   "metadata": {},
   "source": [
    "# Model Definition"
   ]
  },
  {
   "cell_type": "code",
   "execution_count": 41,
   "metadata": {},
   "outputs": [],
   "source": [
    "class Model:\n",
    "    def __init__(self, n_classes):\n",
    "        self.n_classes = n_classes\n",
    "        \n",
    "    def initial_block(self,inputs):\n",
    "        x = tf.keras.layers.Conv2D(32, kernel_size=3, strides=2, padding='same')(inputs)\n",
    "        x = tf.keras.layers.BatchNormalization()(x)\n",
    "        x = tf.nn.relu(x)\n",
    "        \n",
    "        x = tf.keras.layers.Conv2D(64, kernel_size=3, padding='same')(x)\n",
    "        x = tf.keras.layers.BatchNormalization()(x)\n",
    "        x = tf.nn.relu(x)\n",
    "        return x\n",
    " \n",
    "    def reg_block(self,x, n_channels_c1, n_channels_c2, pre_activation = True):\n",
    "        res = tf.keras.layers.Conv2D(n_channels_c2, kernel_size=1,strides=2, padding='same')(x)\n",
    "        res = tf.keras.layers.BatchNormalization()(res)\n",
    "        if pre_activation:\n",
    "            x = tf.nn.relu(x)\n",
    "        \n",
    "        x = tf.keras.layers.SeparableConv2D(n_channels_c1, kernel_size=3, padding='same')(x)\n",
    "        x = tf.keras.layers.BatchNormalization()(x) \n",
    "        x = tf.nn.relu(x)\n",
    "        \n",
    "        x = tf.keras.layers.SeparableConvolution2D(n_channels_c2, kernel_size= 3, padding='same')(x)\n",
    "        x = tf.keras.layers.BatchNormalization()(x)\n",
    "\n",
    "        x = tf.keras.layers.MaxPool2D(pool_size=3, strides=2, padding='same')(x)\n",
    "        x = tf.keras.layers.Add()([res, x])\n",
    "        return x\n",
    "    \n",
    "    def final_block(self,x):\n",
    "        x = tf.keras.layers.SeparableConv2D(1536, kernel_size=3, padding='same')(x)\n",
    "        x = tf.keras.layers.BatchNormalization()(x)\n",
    "        x = tf.nn.relu(x)\n",
    "        x = tf.keras.layers.SeparableConv2D(2048, kernel_size=3, padding='same')(x)\n",
    "        x = tf.keras.layers.BatchNormalization()(x)\n",
    "        x = tf.nn.relu(x)\n",
    "        x = tf.keras.layers.GlobalAveragePooling2D()(x)\n",
    "        x = tf.keras.layers.Flatten()(x)\n",
    "        x = tf.keras.layers.Dropout(0.5)(x)\n",
    "        x = tf.keras.layers.Dense(500, activation='relu')(x)\n",
    "        x = tf.keras.layers.Dense(self.n_classes, activation='softmax')(x)\n",
    "        return x\n",
    "        \n",
    "    def entry_flow(self,inputs):\n",
    "        x = self.initial_block(inputs)\n",
    "        x = self.reg_block(x, 128, 128, pre_activation=False)\n",
    "        x = self.reg_block(x, 256, 256)\n",
    "        x = self.reg_block(x, 728, 728)\n",
    "        return x\n",
    "    \n",
    "    def middle_flow(self,x):\n",
    "        for i in range(8):\n",
    "            initial_state = x\n",
    "            x = tf.nn.relu(x)\n",
    "            x = tf.keras.layers.SeparableConv2D(728,kernel_size=3,padding='same')(x)\n",
    "            x = tf.keras.layers.BatchNormalization()(x)\n",
    "            x = tf.nn.relu(x)\n",
    "            x = tf.keras.layers.SeparableConv2D(728,kernel_size=3,padding='same')(x)\n",
    "            x = tf.keras.layers.BatchNormalization()(x)\n",
    "            x = tf.nn.relu(x)\n",
    "            x = tf.keras.layers.SeparableConv2D(728,kernel_size=3,padding='same')(x)\n",
    "            x = tf.keras.layers.BatchNormalization()(x)\n",
    "            x = tf.keras.layers.Add()([x, initial_state])\n",
    "        return x\n",
    "    \n",
    "    def exit_flow(self,x):\n",
    "        x = self.reg_block(x, 728,1024)\n",
    "        x = self.final_block(x)\n",
    "        return x\n",
    "        \n",
    "    def build_model(self):\n",
    "        inputs = tf.keras.layers.Input(shape=(299,299,3))\n",
    "        x = self.entry_flow(inputs)\n",
    "        x = self.middle_flow(x)\n",
    "        x = self.exit_flow(x)\n",
    "        model = tf.keras.Model(inputs, x)\n",
    "        return model"
   ]
  },
  {
   "cell_type": "code",
   "execution_count": 42,
   "metadata": {},
   "outputs": [],
   "source": [
    "model_ = Model(10)"
   ]
  },
  {
   "cell_type": "code",
   "execution_count": 43,
   "metadata": {},
   "outputs": [],
   "source": [
    "model = model_.build_model()"
   ]
  },
  {
   "cell_type": "code",
   "execution_count": 44,
   "metadata": {},
   "outputs": [
    {
     "name": "stdout",
     "output_type": "stream",
     "text": [
      "Model: \"model_1\"\n",
      "__________________________________________________________________________________________________\n",
      "Layer (type)                    Output Shape         Param #     Connected to                     \n",
      "==================================================================================================\n",
      "input_2 (InputLayer)            [(None, 299, 299, 3) 0                                            \n",
      "__________________________________________________________________________________________________\n",
      "conv2d_6 (Conv2D)               (None, 150, 150, 32) 896         input_2[0][0]                    \n",
      "__________________________________________________________________________________________________\n",
      "batch_normalization_40 (BatchNo (None, 150, 150, 32) 128         conv2d_6[0][0]                   \n",
      "__________________________________________________________________________________________________\n",
      "tf_op_layer_Relu_35 (TensorFlow [(None, 150, 150, 32 0           batch_normalization_40[0][0]     \n",
      "__________________________________________________________________________________________________\n",
      "conv2d_7 (Conv2D)               (None, 150, 150, 64) 18496       tf_op_layer_Relu_35[0][0]        \n",
      "__________________________________________________________________________________________________\n",
      "batch_normalization_41 (BatchNo (None, 150, 150, 64) 256         conv2d_7[0][0]                   \n",
      "__________________________________________________________________________________________________\n",
      "tf_op_layer_Relu_36 (TensorFlow [(None, 150, 150, 64 0           batch_normalization_41[0][0]     \n",
      "__________________________________________________________________________________________________\n",
      "separable_conv2d_34 (SeparableC (None, 150, 150, 128 8896        tf_op_layer_Relu_36[0][0]        \n",
      "__________________________________________________________________________________________________\n",
      "batch_normalization_43 (BatchNo (None, 150, 150, 128 512         separable_conv2d_34[0][0]        \n",
      "__________________________________________________________________________________________________\n",
      "tf_op_layer_Relu_37 (TensorFlow [(None, 150, 150, 12 0           batch_normalization_43[0][0]     \n",
      "__________________________________________________________________________________________________\n",
      "separable_conv2d_35 (SeparableC (None, 150, 150, 128 17664       tf_op_layer_Relu_37[0][0]        \n",
      "__________________________________________________________________________________________________\n",
      "conv2d_8 (Conv2D)               (None, 75, 75, 128)  8320        tf_op_layer_Relu_36[0][0]        \n",
      "__________________________________________________________________________________________________\n",
      "batch_normalization_44 (BatchNo (None, 150, 150, 128 512         separable_conv2d_35[0][0]        \n",
      "__________________________________________________________________________________________________\n",
      "batch_normalization_42 (BatchNo (None, 75, 75, 128)  512         conv2d_8[0][0]                   \n",
      "__________________________________________________________________________________________________\n",
      "max_pooling2d_4 (MaxPooling2D)  (None, 75, 75, 128)  0           batch_normalization_44[0][0]     \n",
      "__________________________________________________________________________________________________\n",
      "add_12 (Add)                    (None, 75, 75, 128)  0           batch_normalization_42[0][0]     \n",
      "                                                                 max_pooling2d_4[0][0]            \n",
      "__________________________________________________________________________________________________\n",
      "tf_op_layer_Relu_38 (TensorFlow [(None, 75, 75, 128) 0           add_12[0][0]                     \n",
      "__________________________________________________________________________________________________\n",
      "separable_conv2d_36 (SeparableC (None, 75, 75, 256)  34176       tf_op_layer_Relu_38[0][0]        \n",
      "__________________________________________________________________________________________________\n",
      "batch_normalization_46 (BatchNo (None, 75, 75, 256)  1024        separable_conv2d_36[0][0]        \n",
      "__________________________________________________________________________________________________\n",
      "tf_op_layer_Relu_39 (TensorFlow [(None, 75, 75, 256) 0           batch_normalization_46[0][0]     \n",
      "__________________________________________________________________________________________________\n",
      "separable_conv2d_37 (SeparableC (None, 75, 75, 256)  68096       tf_op_layer_Relu_39[0][0]        \n",
      "__________________________________________________________________________________________________\n",
      "conv2d_9 (Conv2D)               (None, 38, 38, 256)  33024       add_12[0][0]                     \n",
      "__________________________________________________________________________________________________\n",
      "batch_normalization_47 (BatchNo (None, 75, 75, 256)  1024        separable_conv2d_37[0][0]        \n",
      "__________________________________________________________________________________________________\n",
      "batch_normalization_45 (BatchNo (None, 38, 38, 256)  1024        conv2d_9[0][0]                   \n",
      "__________________________________________________________________________________________________\n",
      "max_pooling2d_5 (MaxPooling2D)  (None, 38, 38, 256)  0           batch_normalization_47[0][0]     \n",
      "__________________________________________________________________________________________________\n",
      "add_13 (Add)                    (None, 38, 38, 256)  0           batch_normalization_45[0][0]     \n",
      "                                                                 max_pooling2d_5[0][0]            \n",
      "__________________________________________________________________________________________________\n",
      "tf_op_layer_Relu_40 (TensorFlow [(None, 38, 38, 256) 0           add_13[0][0]                     \n",
      "__________________________________________________________________________________________________\n",
      "separable_conv2d_38 (SeparableC (None, 38, 38, 728)  189400      tf_op_layer_Relu_40[0][0]        \n",
      "__________________________________________________________________________________________________\n",
      "batch_normalization_49 (BatchNo (None, 38, 38, 728)  2912        separable_conv2d_38[0][0]        \n",
      "__________________________________________________________________________________________________\n",
      "tf_op_layer_Relu_41 (TensorFlow [(None, 38, 38, 728) 0           batch_normalization_49[0][0]     \n",
      "__________________________________________________________________________________________________\n",
      "separable_conv2d_39 (SeparableC (None, 38, 38, 728)  537264      tf_op_layer_Relu_41[0][0]        \n",
      "__________________________________________________________________________________________________\n",
      "conv2d_10 (Conv2D)              (None, 19, 19, 728)  187096      add_13[0][0]                     \n",
      "__________________________________________________________________________________________________\n",
      "batch_normalization_50 (BatchNo (None, 38, 38, 728)  2912        separable_conv2d_39[0][0]        \n",
      "__________________________________________________________________________________________________\n",
      "batch_normalization_48 (BatchNo (None, 19, 19, 728)  2912        conv2d_10[0][0]                  \n",
      "__________________________________________________________________________________________________\n",
      "max_pooling2d_6 (MaxPooling2D)  (None, 19, 19, 728)  0           batch_normalization_50[0][0]     \n",
      "__________________________________________________________________________________________________\n",
      "add_14 (Add)                    (None, 19, 19, 728)  0           batch_normalization_48[0][0]     \n",
      "                                                                 max_pooling2d_6[0][0]            \n",
      "__________________________________________________________________________________________________\n",
      "tf_op_layer_Relu_42 (TensorFlow [(None, 19, 19, 728) 0           add_14[0][0]                     \n",
      "__________________________________________________________________________________________________\n",
      "separable_conv2d_40 (SeparableC (None, 19, 19, 728)  537264      tf_op_layer_Relu_42[0][0]        \n",
      "__________________________________________________________________________________________________\n",
      "batch_normalization_51 (BatchNo (None, 19, 19, 728)  2912        separable_conv2d_40[0][0]        \n",
      "__________________________________________________________________________________________________\n",
      "tf_op_layer_Relu_43 (TensorFlow [(None, 19, 19, 728) 0           batch_normalization_51[0][0]     \n",
      "__________________________________________________________________________________________________\n",
      "separable_conv2d_41 (SeparableC (None, 19, 19, 728)  537264      tf_op_layer_Relu_43[0][0]        \n",
      "__________________________________________________________________________________________________\n",
      "batch_normalization_52 (BatchNo (None, 19, 19, 728)  2912        separable_conv2d_41[0][0]        \n",
      "__________________________________________________________________________________________________\n",
      "tf_op_layer_Relu_44 (TensorFlow [(None, 19, 19, 728) 0           batch_normalization_52[0][0]     \n",
      "__________________________________________________________________________________________________\n",
      "separable_conv2d_42 (SeparableC (None, 19, 19, 728)  537264      tf_op_layer_Relu_44[0][0]        \n",
      "__________________________________________________________________________________________________\n",
      "batch_normalization_53 (BatchNo (None, 19, 19, 728)  2912        separable_conv2d_42[0][0]        \n",
      "__________________________________________________________________________________________________\n",
      "add_15 (Add)                    (None, 19, 19, 728)  0           batch_normalization_53[0][0]     \n",
      "                                                                 add_14[0][0]                     \n",
      "__________________________________________________________________________________________________\n",
      "tf_op_layer_Relu_45 (TensorFlow [(None, 19, 19, 728) 0           add_15[0][0]                     \n",
      "__________________________________________________________________________________________________\n",
      "separable_conv2d_43 (SeparableC (None, 19, 19, 728)  537264      tf_op_layer_Relu_45[0][0]        \n",
      "__________________________________________________________________________________________________\n",
      "batch_normalization_54 (BatchNo (None, 19, 19, 728)  2912        separable_conv2d_43[0][0]        \n",
      "__________________________________________________________________________________________________\n",
      "tf_op_layer_Relu_46 (TensorFlow [(None, 19, 19, 728) 0           batch_normalization_54[0][0]     \n",
      "__________________________________________________________________________________________________\n",
      "separable_conv2d_44 (SeparableC (None, 19, 19, 728)  537264      tf_op_layer_Relu_46[0][0]        \n",
      "__________________________________________________________________________________________________\n",
      "batch_normalization_55 (BatchNo (None, 19, 19, 728)  2912        separable_conv2d_44[0][0]        \n",
      "__________________________________________________________________________________________________\n",
      "tf_op_layer_Relu_47 (TensorFlow [(None, 19, 19, 728) 0           batch_normalization_55[0][0]     \n",
      "__________________________________________________________________________________________________\n",
      "separable_conv2d_45 (SeparableC (None, 19, 19, 728)  537264      tf_op_layer_Relu_47[0][0]        \n",
      "__________________________________________________________________________________________________\n",
      "batch_normalization_56 (BatchNo (None, 19, 19, 728)  2912        separable_conv2d_45[0][0]        \n",
      "__________________________________________________________________________________________________\n",
      "add_16 (Add)                    (None, 19, 19, 728)  0           batch_normalization_56[0][0]     \n",
      "                                                                 add_15[0][0]                     \n",
      "__________________________________________________________________________________________________\n",
      "tf_op_layer_Relu_48 (TensorFlow [(None, 19, 19, 728) 0           add_16[0][0]                     \n",
      "__________________________________________________________________________________________________\n",
      "separable_conv2d_46 (SeparableC (None, 19, 19, 728)  537264      tf_op_layer_Relu_48[0][0]        \n",
      "__________________________________________________________________________________________________\n",
      "batch_normalization_57 (BatchNo (None, 19, 19, 728)  2912        separable_conv2d_46[0][0]        \n",
      "__________________________________________________________________________________________________\n",
      "tf_op_layer_Relu_49 (TensorFlow [(None, 19, 19, 728) 0           batch_normalization_57[0][0]     \n",
      "__________________________________________________________________________________________________\n",
      "separable_conv2d_47 (SeparableC (None, 19, 19, 728)  537264      tf_op_layer_Relu_49[0][0]        \n",
      "__________________________________________________________________________________________________\n",
      "batch_normalization_58 (BatchNo (None, 19, 19, 728)  2912        separable_conv2d_47[0][0]        \n",
      "__________________________________________________________________________________________________\n",
      "tf_op_layer_Relu_50 (TensorFlow [(None, 19, 19, 728) 0           batch_normalization_58[0][0]     \n",
      "__________________________________________________________________________________________________\n",
      "separable_conv2d_48 (SeparableC (None, 19, 19, 728)  537264      tf_op_layer_Relu_50[0][0]        \n",
      "__________________________________________________________________________________________________\n",
      "batch_normalization_59 (BatchNo (None, 19, 19, 728)  2912        separable_conv2d_48[0][0]        \n",
      "__________________________________________________________________________________________________\n",
      "add_17 (Add)                    (None, 19, 19, 728)  0           batch_normalization_59[0][0]     \n",
      "                                                                 add_16[0][0]                     \n",
      "__________________________________________________________________________________________________\n",
      "tf_op_layer_Relu_51 (TensorFlow [(None, 19, 19, 728) 0           add_17[0][0]                     \n",
      "__________________________________________________________________________________________________\n",
      "separable_conv2d_49 (SeparableC (None, 19, 19, 728)  537264      tf_op_layer_Relu_51[0][0]        \n",
      "__________________________________________________________________________________________________\n",
      "batch_normalization_60 (BatchNo (None, 19, 19, 728)  2912        separable_conv2d_49[0][0]        \n",
      "__________________________________________________________________________________________________\n",
      "tf_op_layer_Relu_52 (TensorFlow [(None, 19, 19, 728) 0           batch_normalization_60[0][0]     \n",
      "__________________________________________________________________________________________________\n",
      "separable_conv2d_50 (SeparableC (None, 19, 19, 728)  537264      tf_op_layer_Relu_52[0][0]        \n",
      "__________________________________________________________________________________________________\n",
      "batch_normalization_61 (BatchNo (None, 19, 19, 728)  2912        separable_conv2d_50[0][0]        \n",
      "__________________________________________________________________________________________________\n",
      "tf_op_layer_Relu_53 (TensorFlow [(None, 19, 19, 728) 0           batch_normalization_61[0][0]     \n",
      "__________________________________________________________________________________________________\n",
      "separable_conv2d_51 (SeparableC (None, 19, 19, 728)  537264      tf_op_layer_Relu_53[0][0]        \n",
      "__________________________________________________________________________________________________\n",
      "batch_normalization_62 (BatchNo (None, 19, 19, 728)  2912        separable_conv2d_51[0][0]        \n",
      "__________________________________________________________________________________________________\n",
      "add_18 (Add)                    (None, 19, 19, 728)  0           batch_normalization_62[0][0]     \n",
      "                                                                 add_17[0][0]                     \n",
      "__________________________________________________________________________________________________\n",
      "tf_op_layer_Relu_54 (TensorFlow [(None, 19, 19, 728) 0           add_18[0][0]                     \n",
      "__________________________________________________________________________________________________\n",
      "separable_conv2d_52 (SeparableC (None, 19, 19, 728)  537264      tf_op_layer_Relu_54[0][0]        \n",
      "__________________________________________________________________________________________________\n",
      "batch_normalization_63 (BatchNo (None, 19, 19, 728)  2912        separable_conv2d_52[0][0]        \n",
      "__________________________________________________________________________________________________\n",
      "tf_op_layer_Relu_55 (TensorFlow [(None, 19, 19, 728) 0           batch_normalization_63[0][0]     \n",
      "__________________________________________________________________________________________________\n",
      "separable_conv2d_53 (SeparableC (None, 19, 19, 728)  537264      tf_op_layer_Relu_55[0][0]        \n",
      "__________________________________________________________________________________________________\n",
      "batch_normalization_64 (BatchNo (None, 19, 19, 728)  2912        separable_conv2d_53[0][0]        \n",
      "__________________________________________________________________________________________________\n",
      "tf_op_layer_Relu_56 (TensorFlow [(None, 19, 19, 728) 0           batch_normalization_64[0][0]     \n",
      "__________________________________________________________________________________________________\n",
      "separable_conv2d_54 (SeparableC (None, 19, 19, 728)  537264      tf_op_layer_Relu_56[0][0]        \n",
      "__________________________________________________________________________________________________\n",
      "batch_normalization_65 (BatchNo (None, 19, 19, 728)  2912        separable_conv2d_54[0][0]        \n",
      "__________________________________________________________________________________________________\n",
      "add_19 (Add)                    (None, 19, 19, 728)  0           batch_normalization_65[0][0]     \n",
      "                                                                 add_18[0][0]                     \n",
      "__________________________________________________________________________________________________\n",
      "tf_op_layer_Relu_57 (TensorFlow [(None, 19, 19, 728) 0           add_19[0][0]                     \n",
      "__________________________________________________________________________________________________\n",
      "separable_conv2d_55 (SeparableC (None, 19, 19, 728)  537264      tf_op_layer_Relu_57[0][0]        \n",
      "__________________________________________________________________________________________________\n",
      "batch_normalization_66 (BatchNo (None, 19, 19, 728)  2912        separable_conv2d_55[0][0]        \n",
      "__________________________________________________________________________________________________\n",
      "tf_op_layer_Relu_58 (TensorFlow [(None, 19, 19, 728) 0           batch_normalization_66[0][0]     \n",
      "__________________________________________________________________________________________________\n",
      "separable_conv2d_56 (SeparableC (None, 19, 19, 728)  537264      tf_op_layer_Relu_58[0][0]        \n",
      "__________________________________________________________________________________________________\n",
      "batch_normalization_67 (BatchNo (None, 19, 19, 728)  2912        separable_conv2d_56[0][0]        \n",
      "__________________________________________________________________________________________________\n",
      "tf_op_layer_Relu_59 (TensorFlow [(None, 19, 19, 728) 0           batch_normalization_67[0][0]     \n",
      "__________________________________________________________________________________________________\n",
      "separable_conv2d_57 (SeparableC (None, 19, 19, 728)  537264      tf_op_layer_Relu_59[0][0]        \n",
      "__________________________________________________________________________________________________\n",
      "batch_normalization_68 (BatchNo (None, 19, 19, 728)  2912        separable_conv2d_57[0][0]        \n",
      "__________________________________________________________________________________________________\n",
      "add_20 (Add)                    (None, 19, 19, 728)  0           batch_normalization_68[0][0]     \n",
      "                                                                 add_19[0][0]                     \n",
      "__________________________________________________________________________________________________\n",
      "tf_op_layer_Relu_60 (TensorFlow [(None, 19, 19, 728) 0           add_20[0][0]                     \n",
      "__________________________________________________________________________________________________\n",
      "separable_conv2d_58 (SeparableC (None, 19, 19, 728)  537264      tf_op_layer_Relu_60[0][0]        \n",
      "__________________________________________________________________________________________________\n",
      "batch_normalization_69 (BatchNo (None, 19, 19, 728)  2912        separable_conv2d_58[0][0]        \n",
      "__________________________________________________________________________________________________\n",
      "tf_op_layer_Relu_61 (TensorFlow [(None, 19, 19, 728) 0           batch_normalization_69[0][0]     \n",
      "__________________________________________________________________________________________________\n",
      "separable_conv2d_59 (SeparableC (None, 19, 19, 728)  537264      tf_op_layer_Relu_61[0][0]        \n",
      "__________________________________________________________________________________________________\n",
      "batch_normalization_70 (BatchNo (None, 19, 19, 728)  2912        separable_conv2d_59[0][0]        \n",
      "__________________________________________________________________________________________________\n",
      "tf_op_layer_Relu_62 (TensorFlow [(None, 19, 19, 728) 0           batch_normalization_70[0][0]     \n",
      "__________________________________________________________________________________________________\n",
      "separable_conv2d_60 (SeparableC (None, 19, 19, 728)  537264      tf_op_layer_Relu_62[0][0]        \n",
      "__________________________________________________________________________________________________\n",
      "batch_normalization_71 (BatchNo (None, 19, 19, 728)  2912        separable_conv2d_60[0][0]        \n",
      "__________________________________________________________________________________________________\n",
      "add_21 (Add)                    (None, 19, 19, 728)  0           batch_normalization_71[0][0]     \n",
      "                                                                 add_20[0][0]                     \n",
      "__________________________________________________________________________________________________\n",
      "tf_op_layer_Relu_63 (TensorFlow [(None, 19, 19, 728) 0           add_21[0][0]                     \n",
      "__________________________________________________________________________________________________\n",
      "separable_conv2d_61 (SeparableC (None, 19, 19, 728)  537264      tf_op_layer_Relu_63[0][0]        \n",
      "__________________________________________________________________________________________________\n",
      "batch_normalization_72 (BatchNo (None, 19, 19, 728)  2912        separable_conv2d_61[0][0]        \n",
      "__________________________________________________________________________________________________\n",
      "tf_op_layer_Relu_64 (TensorFlow [(None, 19, 19, 728) 0           batch_normalization_72[0][0]     \n",
      "__________________________________________________________________________________________________\n",
      "separable_conv2d_62 (SeparableC (None, 19, 19, 728)  537264      tf_op_layer_Relu_64[0][0]        \n",
      "__________________________________________________________________________________________________\n",
      "batch_normalization_73 (BatchNo (None, 19, 19, 728)  2912        separable_conv2d_62[0][0]        \n",
      "__________________________________________________________________________________________________\n",
      "tf_op_layer_Relu_65 (TensorFlow [(None, 19, 19, 728) 0           batch_normalization_73[0][0]     \n",
      "__________________________________________________________________________________________________\n",
      "separable_conv2d_63 (SeparableC (None, 19, 19, 728)  537264      tf_op_layer_Relu_65[0][0]        \n",
      "__________________________________________________________________________________________________\n",
      "batch_normalization_74 (BatchNo (None, 19, 19, 728)  2912        separable_conv2d_63[0][0]        \n",
      "__________________________________________________________________________________________________\n",
      "add_22 (Add)                    (None, 19, 19, 728)  0           batch_normalization_74[0][0]     \n",
      "                                                                 add_21[0][0]                     \n",
      "__________________________________________________________________________________________________\n",
      "tf_op_layer_Relu_66 (TensorFlow [(None, 19, 19, 728) 0           add_22[0][0]                     \n",
      "__________________________________________________________________________________________________\n",
      "separable_conv2d_64 (SeparableC (None, 19, 19, 728)  537264      tf_op_layer_Relu_66[0][0]        \n",
      "__________________________________________________________________________________________________\n",
      "batch_normalization_76 (BatchNo (None, 19, 19, 728)  2912        separable_conv2d_64[0][0]        \n",
      "__________________________________________________________________________________________________\n",
      "tf_op_layer_Relu_67 (TensorFlow [(None, 19, 19, 728) 0           batch_normalization_76[0][0]     \n",
      "__________________________________________________________________________________________________\n",
      "separable_conv2d_65 (SeparableC (None, 19, 19, 1024) 753048      tf_op_layer_Relu_67[0][0]        \n",
      "__________________________________________________________________________________________________\n",
      "conv2d_11 (Conv2D)              (None, 10, 10, 1024) 746496      add_22[0][0]                     \n",
      "__________________________________________________________________________________________________\n",
      "batch_normalization_77 (BatchNo (None, 19, 19, 1024) 4096        separable_conv2d_65[0][0]        \n",
      "__________________________________________________________________________________________________\n",
      "batch_normalization_75 (BatchNo (None, 10, 10, 1024) 4096        conv2d_11[0][0]                  \n",
      "__________________________________________________________________________________________________\n",
      "max_pooling2d_7 (MaxPooling2D)  (None, 10, 10, 1024) 0           batch_normalization_77[0][0]     \n",
      "__________________________________________________________________________________________________\n",
      "add_23 (Add)                    (None, 10, 10, 1024) 0           batch_normalization_75[0][0]     \n",
      "                                                                 max_pooling2d_7[0][0]            \n",
      "__________________________________________________________________________________________________\n",
      "separable_conv2d_66 (SeparableC (None, 10, 10, 1536) 1583616     add_23[0][0]                     \n",
      "__________________________________________________________________________________________________\n",
      "batch_normalization_78 (BatchNo (None, 10, 10, 1536) 6144        separable_conv2d_66[0][0]        \n",
      "__________________________________________________________________________________________________\n",
      "tf_op_layer_Relu_68 (TensorFlow [(None, 10, 10, 1536 0           batch_normalization_78[0][0]     \n",
      "__________________________________________________________________________________________________\n",
      "separable_conv2d_67 (SeparableC (None, 10, 10, 2048) 3161600     tf_op_layer_Relu_68[0][0]        \n",
      "__________________________________________________________________________________________________\n",
      "batch_normalization_79 (BatchNo (None, 10, 10, 2048) 8192        separable_conv2d_67[0][0]        \n",
      "__________________________________________________________________________________________________\n",
      "tf_op_layer_Relu_69 (TensorFlow [(None, 10, 10, 2048 0           batch_normalization_79[0][0]     \n",
      "__________________________________________________________________________________________________\n",
      "global_average_pooling2d_1 (Glo (None, 2048)         0           tf_op_layer_Relu_69[0][0]        \n",
      "__________________________________________________________________________________________________\n",
      "flatten_1 (Flatten)             (None, 2048)         0           global_average_pooling2d_1[0][0] \n",
      "__________________________________________________________________________________________________\n",
      "dropout_1 (Dropout)             (None, 2048)         0           flatten_1[0][0]                  \n",
      "__________________________________________________________________________________________________\n",
      "dense_2 (Dense)                 (None, 500)          1024500     dropout_1[0][0]                  \n",
      "__________________________________________________________________________________________________\n",
      "dense_3 (Dense)                 (None, 10)           5010        dense_2[0][0]                    \n",
      "==================================================================================================\n",
      "Total params: 21,918,254\n",
      "Trainable params: 21,863,726\n",
      "Non-trainable params: 54,528\n",
      "__________________________________________________________________________________________________\n"
     ]
    }
   ],
   "source": [
    "model.summary()"
   ]
  },
  {
   "cell_type": "markdown",
   "metadata": {},
   "source": [
    "# Training"
   ]
  },
  {
   "cell_type": "code",
   "execution_count": 45,
   "metadata": {},
   "outputs": [],
   "source": [
    "def step_decay(epoch):\n",
    "    initial_lrate = 0.045\n",
    "    drop = 0.94\n",
    "    epochs_drop = 2\n",
    "    lrate = initial_lrate * tf.math.pow(drop,tf.math.floor((1+epoch)/epochs_drop))\n",
    "    return lrate"
   ]
  },
  {
   "cell_type": "code",
   "execution_count": 46,
   "metadata": {},
   "outputs": [],
   "source": [
    "lrate = tf.keras.callbacks.LearningRateScheduler(step_decay)"
   ]
  },
  {
   "cell_type": "code",
   "execution_count": 47,
   "metadata": {},
   "outputs": [],
   "source": [
    "class LossHistory(tf.keras.callbacks.Callback):\n",
    "    def on_train_begin(self, logs={}):\n",
    "        self.losses = []\n",
    "        self.lr = []\n",
    " \n",
    "    def on_epoch_end(self, batch, logs={}):\n",
    "        self.losses.append(logs.get('loss'))\n",
    "        self.lr.append(step_decay(len(self.losses)))"
   ]
  },
  {
   "cell_type": "code",
   "execution_count": 48,
   "metadata": {},
   "outputs": [],
   "source": [
    "loss_history = LossHistory()\n",
    "lrate = tf.keras.callbacks.LearningRateScheduler(step_decay)\n",
    "callbacks_list = [loss_history, lrate]"
   ]
  },
  {
   "cell_type": "code",
   "execution_count": 49,
   "metadata": {},
   "outputs": [],
   "source": [
    "model.compile(optimizer = tf.keras.optimizers.SGD(learning_rate=0.001,momentum=0.9 ),\n",
    "             loss = 'categorical_crossentropy',\n",
    "             metrics = ['accuracy'])"
   ]
  },
  {
   "cell_type": "code",
   "execution_count": 50,
   "metadata": {},
   "outputs": [
    {
     "name": "stdout",
     "output_type": "stream",
     "text": [
      "Train for 100 steps, validate for 100 steps\n",
      "Epoch 1/74\n",
      "100/100 [==============================] - 27s 266ms/step - loss: 2.2011 - accuracy: 0.1713 - val_loss: 2.3033 - val_accuracy: 0.0938\n",
      "Epoch 2/74\n",
      "100/100 [==============================] - 22s 217ms/step - loss: 2.1122 - accuracy: 0.2163 - val_loss: 2.3049 - val_accuracy: 0.0862\n",
      "Epoch 3/74\n",
      "100/100 [==============================] - 22s 219ms/step - loss: 2.0829 - accuracy: 0.2100 - val_loss: 2.3008 - val_accuracy: 0.1163\n",
      "Epoch 4/74\n",
      "100/100 [==============================] - 22s 225ms/step - loss: 2.0085 - accuracy: 0.2663 - val_loss: 2.3004 - val_accuracy: 0.1075\n",
      "Epoch 5/74\n",
      "100/100 [==============================] - 22s 222ms/step - loss: 1.9813 - accuracy: 0.2400 - val_loss: 2.2776 - val_accuracy: 0.1488\n",
      "Epoch 6/74\n",
      "100/100 [==============================] - 23s 231ms/step - loss: 1.9950 - accuracy: 0.2562 - val_loss: 2.2184 - val_accuracy: 0.1875\n",
      "Epoch 7/74\n",
      "100/100 [==============================] - 22s 222ms/step - loss: 1.9532 - accuracy: 0.2663 - val_loss: 2.0819 - val_accuracy: 0.2625\n",
      "Epoch 8/74\n",
      "100/100 [==============================] - 22s 223ms/step - loss: 1.9677 - accuracy: 0.2837 - val_loss: 2.0630 - val_accuracy: 0.2537\n",
      "Epoch 9/74\n",
      "100/100 [==============================] - 23s 226ms/step - loss: 1.8879 - accuracy: 0.3000 - val_loss: 1.9940 - val_accuracy: 0.2637\n",
      "Epoch 10/74\n",
      "100/100 [==============================] - 23s 229ms/step - loss: 1.9310 - accuracy: 0.2775 - val_loss: 1.8557 - val_accuracy: 0.3150\n",
      "Epoch 11/74\n",
      "100/100 [==============================] - 22s 222ms/step - loss: 1.8701 - accuracy: 0.2950 - val_loss: 1.9225 - val_accuracy: 0.2750\n",
      "Epoch 12/74\n",
      "100/100 [==============================] - 22s 222ms/step - loss: 1.9006 - accuracy: 0.2812 - val_loss: 1.9172 - val_accuracy: 0.2962\n",
      "Epoch 13/74\n",
      "100/100 [==============================] - 22s 220ms/step - loss: 1.9149 - accuracy: 0.2875 - val_loss: 1.8654 - val_accuracy: 0.2937\n",
      "Epoch 14/74\n",
      "100/100 [==============================] - 22s 222ms/step - loss: 1.8527 - accuracy: 0.3000 - val_loss: 1.8261 - val_accuracy: 0.3375\n",
      "Epoch 15/74\n",
      "100/100 [==============================] - 22s 220ms/step - loss: 1.8208 - accuracy: 0.3150 - val_loss: 2.3298 - val_accuracy: 0.1988\n",
      "Epoch 16/74\n",
      "100/100 [==============================] - 22s 219ms/step - loss: 1.9068 - accuracy: 0.2800 - val_loss: 1.7449 - val_accuracy: 0.3438\n",
      "Epoch 17/74\n",
      "100/100 [==============================] - 22s 220ms/step - loss: 1.7962 - accuracy: 0.3300 - val_loss: 2.1624 - val_accuracy: 0.2937\n",
      "Epoch 18/74\n",
      "100/100 [==============================] - 22s 219ms/step - loss: 1.7937 - accuracy: 0.3537 - val_loss: 2.0849 - val_accuracy: 0.2725\n",
      "Epoch 19/74\n",
      "100/100 [==============================] - 22s 220ms/step - loss: 1.7540 - accuracy: 0.3562 - val_loss: 1.7220 - val_accuracy: 0.3400\n",
      "Epoch 20/74\n",
      "100/100 [==============================] - 23s 226ms/step - loss: 1.8596 - accuracy: 0.3212 - val_loss: 1.8445 - val_accuracy: 0.3262\n",
      "Epoch 21/74\n",
      "100/100 [==============================] - 22s 219ms/step - loss: 1.8049 - accuracy: 0.3262 - val_loss: 1.7760 - val_accuracy: 0.3187\n",
      "Epoch 22/74\n",
      "100/100 [==============================] - 22s 219ms/step - loss: 1.7155 - accuracy: 0.3738 - val_loss: 1.7947 - val_accuracy: 0.3475\n",
      "Epoch 23/74\n",
      "100/100 [==============================] - 22s 219ms/step - loss: 1.7098 - accuracy: 0.3525 - val_loss: 1.9432 - val_accuracy: 0.3375\n",
      "Epoch 24/74\n",
      "100/100 [==============================] - 22s 219ms/step - loss: 1.7911 - accuracy: 0.3088 - val_loss: 1.7084 - val_accuracy: 0.3400\n",
      "Epoch 25/74\n",
      "100/100 [==============================] - 22s 219ms/step - loss: 1.7206 - accuracy: 0.3725 - val_loss: 1.7673 - val_accuracy: 0.3375\n",
      "Epoch 26/74\n",
      "100/100 [==============================] - 22s 219ms/step - loss: 1.7570 - accuracy: 0.3587 - val_loss: 1.7268 - val_accuracy: 0.3713\n",
      "Epoch 27/74\n",
      "100/100 [==============================] - 22s 220ms/step - loss: 1.7199 - accuracy: 0.3850 - val_loss: 2.1579 - val_accuracy: 0.3050\n",
      "Epoch 28/74\n",
      "100/100 [==============================] - 22s 219ms/step - loss: 1.7686 - accuracy: 0.3537 - val_loss: 2.2942 - val_accuracy: 0.2975\n",
      "Epoch 29/74\n",
      "100/100 [==============================] - 22s 220ms/step - loss: 1.7758 - accuracy: 0.3613 - val_loss: 1.6724 - val_accuracy: 0.3363\n",
      "Epoch 30/74\n",
      "100/100 [==============================] - 22s 218ms/step - loss: 1.6842 - accuracy: 0.3775 - val_loss: 1.6948 - val_accuracy: 0.3537\n",
      "Epoch 31/74\n",
      "100/100 [==============================] - 26s 256ms/step - loss: 1.6611 - accuracy: 0.3663 - val_loss: 1.5989 - val_accuracy: 0.4100\n",
      "Epoch 32/74\n",
      "100/100 [==============================] - 22s 218ms/step - loss: 1.6993 - accuracy: 0.3812 - val_loss: 1.6939 - val_accuracy: 0.3512\n",
      "Epoch 33/74\n",
      "100/100 [==============================] - 22s 218ms/step - loss: 1.7266 - accuracy: 0.3787 - val_loss: 1.9469 - val_accuracy: 0.3512\n",
      "Epoch 34/74\n",
      "100/100 [==============================] - 22s 218ms/step - loss: 1.6730 - accuracy: 0.3800 - val_loss: 1.5887 - val_accuracy: 0.3725\n",
      "Epoch 35/74\n",
      "100/100 [==============================] - 22s 219ms/step - loss: 1.7346 - accuracy: 0.3438 - val_loss: 1.5290 - val_accuracy: 0.4137\n",
      "Epoch 36/74\n",
      "100/100 [==============================] - 22s 219ms/step - loss: 1.6560 - accuracy: 0.3887 - val_loss: 1.6341 - val_accuracy: 0.4150\n",
      "Epoch 37/74\n",
      "100/100 [==============================] - 22s 219ms/step - loss: 1.6285 - accuracy: 0.3925 - val_loss: 1.9471 - val_accuracy: 0.3537\n",
      "Epoch 38/74\n",
      "100/100 [==============================] - 22s 219ms/step - loss: 1.5938 - accuracy: 0.4062 - val_loss: 1.6986 - val_accuracy: 0.3625\n",
      "Epoch 39/74\n",
      "100/100 [==============================] - 22s 219ms/step - loss: 1.6220 - accuracy: 0.3825 - val_loss: 1.6252 - val_accuracy: 0.4050\n",
      "Epoch 40/74\n",
      "100/100 [==============================] - 22s 219ms/step - loss: 1.6210 - accuracy: 0.3887 - val_loss: 1.5469 - val_accuracy: 0.4338\n",
      "Epoch 41/74\n",
      "100/100 [==============================] - 22s 219ms/step - loss: 1.6129 - accuracy: 0.4238 - val_loss: 1.7855 - val_accuracy: 0.3625\n",
      "Epoch 42/74\n",
      "100/100 [==============================] - 22s 220ms/step - loss: 1.5900 - accuracy: 0.4100 - val_loss: 1.8380 - val_accuracy: 0.3700\n",
      "Epoch 43/74\n",
      "100/100 [==============================] - 22s 218ms/step - loss: 1.5158 - accuracy: 0.4350 - val_loss: 1.6187 - val_accuracy: 0.4125\n",
      "Epoch 44/74\n",
      "100/100 [==============================] - 22s 218ms/step - loss: 1.5816 - accuracy: 0.4263 - val_loss: 1.6447 - val_accuracy: 0.3900\n",
      "Epoch 45/74\n",
      "100/100 [==============================] - 22s 219ms/step - loss: 1.5646 - accuracy: 0.4350 - val_loss: 1.7695 - val_accuracy: 0.3450\n",
      "Epoch 46/74\n",
      "100/100 [==============================] - 22s 218ms/step - loss: 1.6289 - accuracy: 0.3988 - val_loss: 1.6432 - val_accuracy: 0.4087\n",
      "Epoch 47/74\n",
      "100/100 [==============================] - 22s 218ms/step - loss: 1.5904 - accuracy: 0.4212 - val_loss: 1.7112 - val_accuracy: 0.3837\n",
      "Epoch 48/74\n",
      "100/100 [==============================] - 22s 218ms/step - loss: 1.5977 - accuracy: 0.3988 - val_loss: 1.6819 - val_accuracy: 0.3850\n",
      "Epoch 49/74\n",
      "100/100 [==============================] - 22s 218ms/step - loss: 1.5299 - accuracy: 0.4325 - val_loss: 1.5539 - val_accuracy: 0.4425\n",
      "Epoch 50/74\n",
      "100/100 [==============================] - 22s 218ms/step - loss: 1.5949 - accuracy: 0.4038 - val_loss: 1.9818 - val_accuracy: 0.3400\n",
      "Epoch 51/74\n",
      "100/100 [==============================] - 22s 218ms/step - loss: 1.4761 - accuracy: 0.4650 - val_loss: 1.5871 - val_accuracy: 0.4375\n",
      "Epoch 52/74\n",
      "100/100 [==============================] - 22s 219ms/step - loss: 1.6440 - accuracy: 0.4075 - val_loss: 1.4989 - val_accuracy: 0.4725\n",
      "Epoch 53/74\n",
      "100/100 [==============================] - 22s 218ms/step - loss: 1.5500 - accuracy: 0.4313 - val_loss: 1.7249 - val_accuracy: 0.3725\n",
      "Epoch 54/74\n",
      "100/100 [==============================] - 22s 218ms/step - loss: 1.5577 - accuracy: 0.4238 - val_loss: 2.0449 - val_accuracy: 0.3500\n",
      "Epoch 55/74\n",
      "100/100 [==============================] - 22s 218ms/step - loss: 1.5532 - accuracy: 0.4425 - val_loss: 1.7336 - val_accuracy: 0.3837\n",
      "Epoch 56/74\n",
      "100/100 [==============================] - 23s 228ms/step - loss: 1.5466 - accuracy: 0.4162 - val_loss: 1.5238 - val_accuracy: 0.4737\n",
      "Epoch 57/74\n",
      "100/100 [==============================] - 22s 218ms/step - loss: 1.5641 - accuracy: 0.4250 - val_loss: 1.6327 - val_accuracy: 0.3975\n",
      "Epoch 58/74\n",
      "100/100 [==============================] - 23s 232ms/step - loss: 1.5128 - accuracy: 0.4325 - val_loss: 1.9769 - val_accuracy: 0.3475\n",
      "Epoch 59/74\n",
      "100/100 [==============================] - 28s 281ms/step - loss: 1.4797 - accuracy: 0.4412 - val_loss: 1.5444 - val_accuracy: 0.4475\n",
      "Epoch 60/74\n",
      "100/100 [==============================] - 22s 217ms/step - loss: 1.4907 - accuracy: 0.4700 - val_loss: 1.6178 - val_accuracy: 0.4025\n",
      "Epoch 61/74\n",
      "100/100 [==============================] - 22s 217ms/step - loss: 1.5276 - accuracy: 0.4425 - val_loss: 1.6694 - val_accuracy: 0.4175\n",
      "Epoch 62/74\n",
      "100/100 [==============================] - 22s 218ms/step - loss: 1.5836 - accuracy: 0.4375 - val_loss: 1.3994 - val_accuracy: 0.4688\n",
      "Epoch 63/74\n",
      "100/100 [==============================] - 22s 219ms/step - loss: 1.5431 - accuracy: 0.4100 - val_loss: 1.6069 - val_accuracy: 0.4200\n",
      "Epoch 64/74\n",
      "100/100 [==============================] - 22s 219ms/step - loss: 1.5061 - accuracy: 0.4663 - val_loss: 1.5543 - val_accuracy: 0.4387\n",
      "Epoch 65/74\n",
      "100/100 [==============================] - 22s 219ms/step - loss: 1.5059 - accuracy: 0.4525 - val_loss: 1.4741 - val_accuracy: 0.4563\n",
      "Epoch 66/74\n",
      "100/100 [==============================] - 22s 219ms/step - loss: 1.4772 - accuracy: 0.4663 - val_loss: 1.4986 - val_accuracy: 0.4487\n",
      "Epoch 67/74\n",
      "100/100 [==============================] - 22s 219ms/step - loss: 1.5293 - accuracy: 0.4450 - val_loss: 1.5977 - val_accuracy: 0.4313\n",
      "Epoch 68/74\n",
      "100/100 [==============================] - 22s 221ms/step - loss: 1.4927 - accuracy: 0.4475 - val_loss: 1.5076 - val_accuracy: 0.4437\n",
      "Epoch 69/74\n",
      "100/100 [==============================] - 31s 311ms/step - loss: 1.5226 - accuracy: 0.4550 - val_loss: 1.6520 - val_accuracy: 0.4187\n",
      "Epoch 70/74\n",
      "100/100 [==============================] - 26s 259ms/step - loss: 1.4706 - accuracy: 0.4650 - val_loss: 1.5122 - val_accuracy: 0.4563\n",
      "Epoch 71/74\n",
      "100/100 [==============================] - 25s 254ms/step - loss: 1.4952 - accuracy: 0.4712 - val_loss: 1.4849 - val_accuracy: 0.4350\n",
      "Epoch 72/74\n",
      "100/100 [==============================] - 36s 357ms/step - loss: 1.4697 - accuracy: 0.4400 - val_loss: 1.4486 - val_accuracy: 0.4825\n",
      "Epoch 73/74\n",
      "100/100 [==============================] - 29s 290ms/step - loss: 1.4570 - accuracy: 0.4663 - val_loss: 1.4973 - val_accuracy: 0.4550\n",
      "Epoch 74/74\n",
      "100/100 [==============================] - 35s 351ms/step - loss: 1.4662 - accuracy: 0.4787 - val_loss: 1.5271 - val_accuracy: 0.4538\n"
     ]
    }
   ],
   "source": [
    "history = model.fit(train_ds,\n",
    "                   epochs = 74,\n",
    "                   #callbacks=callbacks_list,\n",
    "                   steps_per_epoch = 100,\n",
    "                   verbose = 1,\n",
    "                   validation_data = val_ds,\n",
    "                   validation_steps = 100)"
   ]
  },
  {
   "cell_type": "markdown",
   "metadata": {},
   "source": [
    "# Evaluation"
   ]
  },
  {
   "cell_type": "code",
   "execution_count": 53,
   "metadata": {},
   "outputs": [
    {
     "name": "stdout",
     "output_type": "stream",
     "text": [
      "5/5 [==============================] - 10s 2s/step - loss: 1.3924 - accuracy: 0.4750\n"
     ]
    }
   ],
   "source": [
    "loss_test, accuracy_test = model.evaluate(test_ds,\n",
    "                                         verbose = 1,\n",
    "                                         steps=5)"
   ]
  },
  {
   "cell_type": "code",
   "execution_count": 54,
   "metadata": {},
   "outputs": [
    {
     "data": {
      "text/plain": [
       "(1.392409873008728, 0.475)"
      ]
     },
     "execution_count": 54,
     "metadata": {},
     "output_type": "execute_result"
    }
   ],
   "source": [
    "loss_test, accuracy_test"
   ]
  },
  {
   "cell_type": "markdown",
   "metadata": {},
   "source": [
    "# Training results visualization"
   ]
  },
  {
   "cell_type": "code",
   "execution_count": 55,
   "metadata": {},
   "outputs": [
    {
     "data": {
      "image/png": "[encoded data removed]",
      "text/plain": [
       "<Figure size 432x288 with 1 Axes>"
      ]
     },
     "metadata": {
      "needs_background": "light"
     },
     "output_type": "display_data"
    }
   ],
   "source": [
    "plt.plot(history.history['accuracy'])\n",
    "plt.plot(history.history['val_accuracy'])\n",
    "plt.title('Model accuracy')\n",
    "plt.ylabel('accuracy')\n",
    "plt.xlabel('epoch')\n",
    "plt.legend(['train','validation'], loc='upper left')\n",
    "plt.show()"
   ]
  },
  {
   "cell_type": "code",
   "execution_count": 56,
   "metadata": {},
   "outputs": [
    {
     "data": {
      "image/png": "[encoded data removed]",
      "text/plain": [
       "<Figure size 432x288 with 1 Axes>"
      ]
     },
     "metadata": {
      "needs_background": "light"
     },
     "output_type": "display_data"
    }
   ],
   "source": [
    "plt.plot(history.history['loss'])\n",
    "plt.plot(history.history['val_loss'])\n",
    "plt.title('Loss Curve')\n",
    "plt.ylabel('loss')\n",
    "plt.xlabel('epoch')\n",
    "plt.legend(['train', 'validation'], loc='upper right')\n",
    "plt.show()"
   ]
  }
 ],
 "metadata": {
  "kernelspec": {
   "display_name": "Python 3",
   "language": "python",
   "name": "python3"
  },
  "language_info": {
   "codemirror_mode": {
    "name": "ipython",
    "version": 3
   },
   "file_extension": ".py",
   "mimetype": "text/x-python",
   "name": "python",
   "nbconvert_exporter": "python",
   "pygments_lexer": "ipython3",
   "version": "3.7.5"
  }
 },
 "nbformat": 4,
 "nbformat_minor": 4
}

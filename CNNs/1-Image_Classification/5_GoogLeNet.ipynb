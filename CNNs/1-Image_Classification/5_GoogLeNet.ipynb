{
 "cells": [
  {
   "cell_type": "code",
   "execution_count": 1,
   "metadata": {},
   "outputs": [],
   "source": [
    "from __future__ import absolute_import, division, print_function, unicode_literals\n",
    "import tensorflow as tf\n",
    "import cv2\n",
    "import numpy as np\n",
    "import matplotlib.pyplot as plt \n",
    "import os\n",
    "import pathlib\n",
    "import tensorflow_addons as tfa\n",
    "from tensorflow.python.client import device_lib"
   ]
  },
  {
   "cell_type": "code",
   "execution_count": 2,
   "metadata": {},
   "outputs": [
    {
     "name": "stdout",
     "output_type": "stream",
     "text": [
      "Num GPUs Available:  4\n"
     ]
    }
   ],
   "source": [
    "print(\"Num GPUs Available: \", len(tf.config.experimental.list_physical_devices('GPU')))"
   ]
  },
  {
   "cell_type": "code",
   "execution_count": 3,
   "metadata": {},
   "outputs": [],
   "source": [
    "physical_devices = tf.config.list_physical_devices('GPU')"
   ]
  },
  {
   "cell_type": "code",
   "execution_count": 4,
   "metadata": {},
   "outputs": [],
   "source": [
    "tf.config.set_visible_devices(\n",
    "    physical_devices[1], 'GPU'\n",
    ")"
   ]
  },
  {
   "cell_type": "markdown",
   "metadata": {},
   "source": [
    "# Data Loading "
   ]
  },
  {
   "cell_type": "markdown",
   "metadata": {},
   "source": [
    "The size of the receptive field in our network is 224×224 taking RGB color channels with mean subtraction.\n",
    "* Still, one prescription that was verified to work very well after the competition includes sampling of various sized patches of the image whose size is distributed evenly between 8% and 100% of the image area and whose aspect ratio is chosen randomly between 3/4 and 4/3."
   ]
  },
  {
   "cell_type": "code",
   "execution_count": 5,
   "metadata": {},
   "outputs": [],
   "source": [
    "path_train = 'CINIC10/train/'\n",
    "path_valid = 'CINIC10/valid/'\n",
    "path_test = 'CINIC10/test/'\n",
    "data_dir_train = pathlib.Path(path_train)\n",
    "data_dir_val = pathlib.Path(path_valid)\n",
    "data_dir_test = pathlib.Path(path_test)"
   ]
  },
  {
   "cell_type": "code",
   "execution_count": 6,
   "metadata": {},
   "outputs": [],
   "source": [
    "list_ds_train = tf.data.Dataset.list_files(str(data_dir_train/'*/*'))\n",
    "list_ds_val = tf.data.Dataset.list_files(str(data_dir_val/'*/*'))\n",
    "list_ds_test = tf.data.Dataset.list_files(str(data_dir_test/'*/*'))"
   ]
  },
  {
   "cell_type": "code",
   "execution_count": 7,
   "metadata": {},
   "outputs": [],
   "source": [
    "CLASS_NAMES = np.array([item.name for item in data_dir_train.glob('*')])"
   ]
  },
  {
   "cell_type": "code",
   "execution_count": 8,
   "metadata": {},
   "outputs": [],
   "source": [
    "def get_label(file_path):\n",
    "    parts = tf.strings.split(file_path, os.path.sep)\n",
    "    return parts[-2] == CLASS_NAMES"
   ]
  },
  {
   "cell_type": "code",
   "execution_count": 9,
   "metadata": {},
   "outputs": [],
   "source": [
    "def decode_img(img,dsize):\n",
    "    img = tf.image.decode_png(img, channels=3)\n",
    "    img = tf.image.convert_image_dtype(img, tf.float32)\n",
    "    return tf.image.resize(img, [dsize[0], dsize[1]])"
   ]
  },
  {
   "cell_type": "code",
   "execution_count": 10,
   "metadata": {},
   "outputs": [],
   "source": [
    "def process_path(file_path):\n",
    "    size = (224,224)\n",
    "    label = get_label(file_path)\n",
    "    img = tf.io.read_file(file_path)\n",
    "    img = decode_img(img,size )\n",
    "    return img, label"
   ]
  },
  {
   "cell_type": "code",
   "execution_count": 11,
   "metadata": {},
   "outputs": [],
   "source": [
    "AUTOTUNE = tf.data.experimental.AUTOTUNE"
   ]
  },
  {
   "cell_type": "code",
   "execution_count": 12,
   "metadata": {},
   "outputs": [],
   "source": [
    "labeled_ds_train = list_ds_train.map(process_path, num_parallel_calls=AUTOTUNE)\n",
    "labeled_ds_valid = list_ds_val.map(process_path, num_parallel_calls=AUTOTUNE)\n",
    "labeled_ds_test = list_ds_test.map(process_path, num_parallel_calls=AUTOTUNE)"
   ]
  },
  {
   "cell_type": "code",
   "execution_count": 13,
   "metadata": {},
   "outputs": [],
   "source": [
    "def normalize(x,y):\n",
    "    x = tf.image.per_image_standardization(x)\n",
    "    return x,y"
   ]
  },
  {
   "cell_type": "code",
   "execution_count": 14,
   "metadata": {},
   "outputs": [],
   "source": [
    "def prepare_for_training(ds, cache=True, shuffle_buffer_size=1000, batch_size = 128):\n",
    "    if cache:\n",
    "        if isinstance(cache, str):\n",
    "            ds = ds.cache(cache)\n",
    "        else:\n",
    "            ds = ds.cache()\n",
    "    ds = ds.map(normalize)\n",
    "    ds = ds.shuffle(buffer_size=shuffle_buffer_size)\n",
    "    ds = ds.repeat()\n",
    "    ds = ds.batch(batch_size)\n",
    "    ds = ds.prefetch(buffer_size=AUTOTUNE)\n",
    "    return ds"
   ]
  },
  {
   "cell_type": "code",
   "execution_count": 15,
   "metadata": {},
   "outputs": [
    {
     "name": "stdout",
     "output_type": "stream",
     "text": [
      "WARNING:tensorflow:From /home/tmr/miniconda3/envs/tf/lib/python3.7/site-packages/tensorflow_core/python/ops/image_ops_impl.py:1556: div (from tensorflow.python.ops.math_ops) is deprecated and will be removed in a future version.\n",
      "Instructions for updating:\n",
      "Deprecated in favor of operator or tf.math.divide.\n"
     ]
    }
   ],
   "source": [
    "train_ds = prepare_for_training(labeled_ds_train, batch_size=64)\n",
    "val_ds = prepare_for_training(labeled_ds_valid, batch_size=64)\n",
    "test_ds = prepare_for_training(labeled_ds_test, batch_size=64)"
   ]
  },
  {
   "cell_type": "markdown",
   "metadata": {},
   "source": [
    "# GoogLeNet Details"
   ]
  },
  {
   "cell_type": "markdown",
   "metadata": {},
   "source": [
    "* $1\\times1$ convolutions have dual purpose: most critically, they are used mainly as dimension reduction modules to remove computational bottlenecks, that would otherwise limit the size of our networks. This allows for not just increasing the depth, but also the width of the networks without significant performance penalty.\n",
    "* stochastic gradient descent with 0.9 momentum\n",
    "* fixed learning rate schedule (decreasing the learning rate by 4% every 8 epochs)"
   ]
  },
  {
   "cell_type": "markdown",
   "metadata": {},
   "source": [
    "# Model Definition"
   ]
  },
  {
   "cell_type": "code",
   "execution_count": 16,
   "metadata": {},
   "outputs": [],
   "source": [
    "def initial_block(inputs):\n",
    "    kernel_init = tf.keras.initializers.GlorotNormal()\n",
    "    x = tf.keras.layers.Conv2D(64, kernel_size=7, kernel_initializer = kernel_init, strides=2, padding = 'same', activation='relu')(inputs)\n",
    "    x = tf.keras.layers.BatchNormalization()(x)\n",
    "    x = tf.keras.layers.MaxPool2D(pool_size=3, strides=2, padding = 'same')(x)\n",
    "    x = tf.keras.layers.Conv2D(192, kernel_size=3, kernel_initializer = kernel_init, padding = 'same', activation='relu')(x)\n",
    "    x = tf.keras.layers.BatchNormalization()(x)\n",
    "    x = tf.keras.layers.MaxPool2D(pool_size=3, strides=2, padding = 'same')(x)\n",
    "    x = tf.keras.layers.BatchNormalization()(x)\n",
    "    return x"
   ]
  },
  {
   "cell_type": "code",
   "execution_count": 17,
   "metadata": {},
   "outputs": [],
   "source": [
    "def inception_block3a(x, \n",
    "                      n_channels_1_1,\n",
    "                      n_channels_3_3_red, \n",
    "                      n_channels_3_3, \n",
    "                      n_channels_5_5_red, \n",
    "                      n_channels_5_5,\n",
    "                      n_channels_pool_proj):\n",
    "    kernel_init = tf.keras.initializers.GlorotNormal()\n",
    "    res_conv1 = tf.keras.layers.Conv2D(n_channels_1_1, kernel_size=1, kernel_initializer = kernel_init, padding='same', activation='relu')(x)\n",
    "    res_conv3_reduce = tf.keras.layers.Conv2D(n_channels_3_3_red, kernel_size=1,  kernel_initializer = kernel_init, padding='same', activation='relu')(x)\n",
    "    res_conv3 = tf.keras.layers.Conv2D(n_channels_3_3, kernel_size=3,  kernel_initializer = kernel_init, padding='same', activation='relu')(res_conv3_reduce)\n",
    "    res_conv5_reduce = tf.keras.layers.Conv2D(n_channels_5_5_red, kernel_size=1,  kernel_initializer = kernel_init, padding='same', activation='relu')(x)\n",
    "    res_conv5 = tf.keras.layers.Conv2D(n_channels_5_5, kernel_size=5,  kernel_initializer = kernel_init, padding='same', activation='relu')(res_conv5_reduce)\n",
    "    res_max_pool = tf.keras.layers.MaxPool2D(pool_size=3, padding='same', strides=1)(x)\n",
    "    res_max_pool_proj = tf.keras.layers.Conv2D(n_channels_pool_proj,kernel_size=1,  kernel_initializer = kernel_init, padding='same', activation='relu')(res_max_pool)\n",
    "    result_bock = tf.keras.layers.concatenate([res_conv1, res_conv3, res_conv5, res_max_pool_proj], axis=3)\n",
    "    return result_bock"
   ]
  },
  {
   "cell_type": "code",
   "execution_count": 18,
   "metadata": {},
   "outputs": [],
   "source": [
    "def final_block(x, n_classes):\n",
    "    x = tf.keras.layers.AveragePooling2D(pool_size=7, strides=1)(x)\n",
    "    x = tf.keras.layers.Flatten()(x)\n",
    "    x = tf.keras.layers.Dropout(0.4)(x)\n",
    "    x = tf.keras.layers.Dense(1000, activation='relu')(x)\n",
    "    x = tf.keras.layers.Dense(n_classes,activation='softmax')(x)\n",
    "    return x\n",
    "    "
   ]
  },
  {
   "cell_type": "code",
   "execution_count": 28,
   "metadata": {},
   "outputs": [],
   "source": [
    "def model(n_classes):\n",
    "    inputs = tf.keras.layers.Input(shape=(224,224,3))\n",
    "    x = initial_block(inputs)\n",
    "    x = inception_block3a(x, 64, 96, 128, 16, 32, 32)\n",
    "    x = inception_block3a(x, 128, 128, 192, 32, 96, 64)\n",
    "    x = tf.keras.layers.MaxPool2D(pool_size=3, strides=2, padding='same')(x)\n",
    "    x = inception_block3a(x, 192, 96, 208, 16, 48, 64)\n",
    "    x = inception_block3a(x, 160, 112, 224, 24, 64, 64)\n",
    "    x = inception_block3a(x, 128, 128, 256, 24, 64, 64)\n",
    "    x = inception_block3a(x, 112, 144, 288, 32, 64, 64)\n",
    "    x = inception_block3a(x, 256, 160, 320, 32, 128, 128)\n",
    "    x = tf.keras.layers.MaxPool2D(pool_size=3, strides=2, padding='same')(x)\n",
    "    x = inception_block3a(x, 256, 160, 320, 32, 128, 128)\n",
    "    x = inception_block3a(x, 384, 192, 384, 48, 128, 128)\n",
    "    x = final_block(x,10)\n",
    "    model = tf.keras.Model(inputs, x)\n",
    "    return model"
   ]
  },
  {
   "cell_type": "code",
   "execution_count": 29,
   "metadata": {},
   "outputs": [],
   "source": [
    "model = model(10)"
   ]
  },
  {
   "cell_type": "code",
   "execution_count": 30,
   "metadata": {},
   "outputs": [
    {
     "name": "stdout",
     "output_type": "stream",
     "text": [
      "Model: \"model_1\"\n",
      "__________________________________________________________________________________________________\n",
      "Layer (type)                    Output Shape         Param #     Connected to                     \n",
      "==================================================================================================\n",
      "input_2 (InputLayer)            [(None, 224, 224, 3) 0                                            \n",
      "__________________________________________________________________________________________________\n",
      "conv2d_56 (Conv2D)              (None, 112, 112, 64) 9472        input_2[0][0]                    \n",
      "__________________________________________________________________________________________________\n",
      "batch_normalization_3 (BatchNor (None, 112, 112, 64) 256         conv2d_56[0][0]                  \n",
      "__________________________________________________________________________________________________\n",
      "max_pooling2d_13 (MaxPooling2D) (None, 56, 56, 64)   0           batch_normalization_3[0][0]      \n",
      "__________________________________________________________________________________________________\n",
      "conv2d_57 (Conv2D)              (None, 56, 56, 192)  110784      max_pooling2d_13[0][0]           \n",
      "__________________________________________________________________________________________________\n",
      "batch_normalization_4 (BatchNor (None, 56, 56, 192)  768         conv2d_57[0][0]                  \n",
      "__________________________________________________________________________________________________\n",
      "max_pooling2d_14 (MaxPooling2D) (None, 28, 28, 192)  0           batch_normalization_4[0][0]      \n",
      "__________________________________________________________________________________________________\n",
      "batch_normalization_5 (BatchNor (None, 28, 28, 192)  768         max_pooling2d_14[0][0]           \n",
      "__________________________________________________________________________________________________\n",
      "conv2d_59 (Conv2D)              (None, 28, 28, 96)   18528       batch_normalization_5[0][0]      \n",
      "__________________________________________________________________________________________________\n",
      "conv2d_61 (Conv2D)              (None, 28, 28, 16)   3088        batch_normalization_5[0][0]      \n",
      "__________________________________________________________________________________________________\n",
      "max_pooling2d_15 (MaxPooling2D) (None, 28, 28, 192)  0           batch_normalization_5[0][0]      \n",
      "__________________________________________________________________________________________________\n",
      "conv2d_58 (Conv2D)              (None, 28, 28, 64)   12352       batch_normalization_5[0][0]      \n",
      "__________________________________________________________________________________________________\n",
      "conv2d_60 (Conv2D)              (None, 28, 28, 128)  110720      conv2d_59[0][0]                  \n",
      "__________________________________________________________________________________________________\n",
      "conv2d_62 (Conv2D)              (None, 28, 28, 32)   12832       conv2d_61[0][0]                  \n",
      "__________________________________________________________________________________________________\n",
      "conv2d_63 (Conv2D)              (None, 28, 28, 32)   6176        max_pooling2d_15[0][0]           \n",
      "__________________________________________________________________________________________________\n",
      "concatenate_9 (Concatenate)     (None, 28, 28, 256)  0           conv2d_58[0][0]                  \n",
      "                                                                 conv2d_60[0][0]                  \n",
      "                                                                 conv2d_62[0][0]                  \n",
      "                                                                 conv2d_63[0][0]                  \n",
      "__________________________________________________________________________________________________\n",
      "conv2d_65 (Conv2D)              (None, 28, 28, 128)  32896       concatenate_9[0][0]              \n",
      "__________________________________________________________________________________________________\n",
      "conv2d_67 (Conv2D)              (None, 28, 28, 32)   8224        concatenate_9[0][0]              \n",
      "__________________________________________________________________________________________________\n",
      "max_pooling2d_16 (MaxPooling2D) (None, 28, 28, 256)  0           concatenate_9[0][0]              \n",
      "__________________________________________________________________________________________________\n",
      "conv2d_64 (Conv2D)              (None, 28, 28, 128)  32896       concatenate_9[0][0]              \n",
      "__________________________________________________________________________________________________\n",
      "conv2d_66 (Conv2D)              (None, 28, 28, 192)  221376      conv2d_65[0][0]                  \n",
      "__________________________________________________________________________________________________\n",
      "conv2d_68 (Conv2D)              (None, 28, 28, 96)   76896       conv2d_67[0][0]                  \n",
      "__________________________________________________________________________________________________\n",
      "conv2d_69 (Conv2D)              (None, 28, 28, 64)   16448       max_pooling2d_16[0][0]           \n",
      "__________________________________________________________________________________________________\n",
      "concatenate_10 (Concatenate)    (None, 28, 28, 480)  0           conv2d_64[0][0]                  \n",
      "                                                                 conv2d_66[0][0]                  \n",
      "                                                                 conv2d_68[0][0]                  \n",
      "                                                                 conv2d_69[0][0]                  \n",
      "__________________________________________________________________________________________________\n",
      "max_pooling2d_17 (MaxPooling2D) (None, 14, 14, 480)  0           concatenate_10[0][0]             \n",
      "__________________________________________________________________________________________________\n",
      "conv2d_71 (Conv2D)              (None, 14, 14, 96)   46176       max_pooling2d_17[0][0]           \n",
      "__________________________________________________________________________________________________\n",
      "conv2d_73 (Conv2D)              (None, 14, 14, 16)   7696        max_pooling2d_17[0][0]           \n",
      "__________________________________________________________________________________________________\n",
      "max_pooling2d_18 (MaxPooling2D) (None, 14, 14, 480)  0           max_pooling2d_17[0][0]           \n",
      "__________________________________________________________________________________________________\n",
      "conv2d_70 (Conv2D)              (None, 14, 14, 192)  92352       max_pooling2d_17[0][0]           \n",
      "__________________________________________________________________________________________________\n",
      "conv2d_72 (Conv2D)              (None, 14, 14, 208)  179920      conv2d_71[0][0]                  \n",
      "__________________________________________________________________________________________________\n",
      "conv2d_74 (Conv2D)              (None, 14, 14, 48)   19248       conv2d_73[0][0]                  \n",
      "__________________________________________________________________________________________________\n",
      "conv2d_75 (Conv2D)              (None, 14, 14, 64)   30784       max_pooling2d_18[0][0]           \n",
      "__________________________________________________________________________________________________\n",
      "concatenate_11 (Concatenate)    (None, 14, 14, 512)  0           conv2d_70[0][0]                  \n",
      "                                                                 conv2d_72[0][0]                  \n",
      "                                                                 conv2d_74[0][0]                  \n",
      "                                                                 conv2d_75[0][0]                  \n",
      "__________________________________________________________________________________________________\n",
      "conv2d_77 (Conv2D)              (None, 14, 14, 112)  57456       concatenate_11[0][0]             \n",
      "__________________________________________________________________________________________________\n",
      "conv2d_79 (Conv2D)              (None, 14, 14, 24)   12312       concatenate_11[0][0]             \n",
      "__________________________________________________________________________________________________\n",
      "max_pooling2d_19 (MaxPooling2D) (None, 14, 14, 512)  0           concatenate_11[0][0]             \n",
      "__________________________________________________________________________________________________\n",
      "conv2d_76 (Conv2D)              (None, 14, 14, 160)  82080       concatenate_11[0][0]             \n",
      "__________________________________________________________________________________________________\n",
      "conv2d_78 (Conv2D)              (None, 14, 14, 224)  226016      conv2d_77[0][0]                  \n",
      "__________________________________________________________________________________________________\n",
      "conv2d_80 (Conv2D)              (None, 14, 14, 64)   38464       conv2d_79[0][0]                  \n",
      "__________________________________________________________________________________________________\n",
      "conv2d_81 (Conv2D)              (None, 14, 14, 64)   32832       max_pooling2d_19[0][0]           \n",
      "__________________________________________________________________________________________________\n",
      "concatenate_12 (Concatenate)    (None, 14, 14, 512)  0           conv2d_76[0][0]                  \n",
      "                                                                 conv2d_78[0][0]                  \n",
      "                                                                 conv2d_80[0][0]                  \n",
      "                                                                 conv2d_81[0][0]                  \n",
      "__________________________________________________________________________________________________\n",
      "conv2d_83 (Conv2D)              (None, 14, 14, 128)  65664       concatenate_12[0][0]             \n",
      "__________________________________________________________________________________________________\n",
      "conv2d_85 (Conv2D)              (None, 14, 14, 24)   12312       concatenate_12[0][0]             \n",
      "__________________________________________________________________________________________________\n",
      "max_pooling2d_20 (MaxPooling2D) (None, 14, 14, 512)  0           concatenate_12[0][0]             \n",
      "__________________________________________________________________________________________________\n",
      "conv2d_82 (Conv2D)              (None, 14, 14, 128)  65664       concatenate_12[0][0]             \n",
      "__________________________________________________________________________________________________\n",
      "conv2d_84 (Conv2D)              (None, 14, 14, 256)  295168      conv2d_83[0][0]                  \n",
      "__________________________________________________________________________________________________\n",
      "conv2d_86 (Conv2D)              (None, 14, 14, 64)   38464       conv2d_85[0][0]                  \n",
      "__________________________________________________________________________________________________\n",
      "conv2d_87 (Conv2D)              (None, 14, 14, 64)   32832       max_pooling2d_20[0][0]           \n",
      "__________________________________________________________________________________________________\n",
      "concatenate_13 (Concatenate)    (None, 14, 14, 512)  0           conv2d_82[0][0]                  \n",
      "                                                                 conv2d_84[0][0]                  \n",
      "                                                                 conv2d_86[0][0]                  \n",
      "                                                                 conv2d_87[0][0]                  \n",
      "__________________________________________________________________________________________________\n",
      "conv2d_89 (Conv2D)              (None, 14, 14, 144)  73872       concatenate_13[0][0]             \n",
      "__________________________________________________________________________________________________\n",
      "conv2d_91 (Conv2D)              (None, 14, 14, 32)   16416       concatenate_13[0][0]             \n",
      "__________________________________________________________________________________________________\n",
      "max_pooling2d_21 (MaxPooling2D) (None, 14, 14, 512)  0           concatenate_13[0][0]             \n",
      "__________________________________________________________________________________________________\n",
      "conv2d_88 (Conv2D)              (None, 14, 14, 112)  57456       concatenate_13[0][0]             \n",
      "__________________________________________________________________________________________________\n",
      "conv2d_90 (Conv2D)              (None, 14, 14, 288)  373536      conv2d_89[0][0]                  \n",
      "__________________________________________________________________________________________________\n",
      "conv2d_92 (Conv2D)              (None, 14, 14, 64)   51264       conv2d_91[0][0]                  \n",
      "__________________________________________________________________________________________________\n",
      "conv2d_93 (Conv2D)              (None, 14, 14, 64)   32832       max_pooling2d_21[0][0]           \n",
      "__________________________________________________________________________________________________\n",
      "concatenate_14 (Concatenate)    (None, 14, 14, 528)  0           conv2d_88[0][0]                  \n",
      "                                                                 conv2d_90[0][0]                  \n",
      "                                                                 conv2d_92[0][0]                  \n",
      "                                                                 conv2d_93[0][0]                  \n",
      "__________________________________________________________________________________________________\n",
      "conv2d_95 (Conv2D)              (None, 14, 14, 160)  84640       concatenate_14[0][0]             \n",
      "__________________________________________________________________________________________________\n",
      "conv2d_97 (Conv2D)              (None, 14, 14, 32)   16928       concatenate_14[0][0]             \n",
      "__________________________________________________________________________________________________\n",
      "max_pooling2d_22 (MaxPooling2D) (None, 14, 14, 528)  0           concatenate_14[0][0]             \n",
      "__________________________________________________________________________________________________\n",
      "conv2d_94 (Conv2D)              (None, 14, 14, 256)  135424      concatenate_14[0][0]             \n",
      "__________________________________________________________________________________________________\n",
      "conv2d_96 (Conv2D)              (None, 14, 14, 320)  461120      conv2d_95[0][0]                  \n",
      "__________________________________________________________________________________________________\n",
      "conv2d_98 (Conv2D)              (None, 14, 14, 128)  102528      conv2d_97[0][0]                  \n",
      "__________________________________________________________________________________________________\n",
      "conv2d_99 (Conv2D)              (None, 14, 14, 128)  67712       max_pooling2d_22[0][0]           \n",
      "__________________________________________________________________________________________________\n",
      "concatenate_15 (Concatenate)    (None, 14, 14, 832)  0           conv2d_94[0][0]                  \n",
      "                                                                 conv2d_96[0][0]                  \n",
      "                                                                 conv2d_98[0][0]                  \n",
      "                                                                 conv2d_99[0][0]                  \n",
      "__________________________________________________________________________________________________\n",
      "max_pooling2d_23 (MaxPooling2D) (None, 7, 7, 832)    0           concatenate_15[0][0]             \n",
      "__________________________________________________________________________________________________\n",
      "conv2d_101 (Conv2D)             (None, 7, 7, 160)    133280      max_pooling2d_23[0][0]           \n",
      "__________________________________________________________________________________________________\n",
      "conv2d_103 (Conv2D)             (None, 7, 7, 32)     26656       max_pooling2d_23[0][0]           \n",
      "__________________________________________________________________________________________________\n",
      "max_pooling2d_24 (MaxPooling2D) (None, 7, 7, 832)    0           max_pooling2d_23[0][0]           \n",
      "__________________________________________________________________________________________________\n",
      "conv2d_100 (Conv2D)             (None, 7, 7, 256)    213248      max_pooling2d_23[0][0]           \n",
      "__________________________________________________________________________________________________\n",
      "conv2d_102 (Conv2D)             (None, 7, 7, 320)    461120      conv2d_101[0][0]                 \n",
      "__________________________________________________________________________________________________\n",
      "conv2d_104 (Conv2D)             (None, 7, 7, 128)    102528      conv2d_103[0][0]                 \n",
      "__________________________________________________________________________________________________\n",
      "conv2d_105 (Conv2D)             (None, 7, 7, 128)    106624      max_pooling2d_24[0][0]           \n",
      "__________________________________________________________________________________________________\n",
      "concatenate_16 (Concatenate)    (None, 7, 7, 832)    0           conv2d_100[0][0]                 \n",
      "                                                                 conv2d_102[0][0]                 \n",
      "                                                                 conv2d_104[0][0]                 \n",
      "                                                                 conv2d_105[0][0]                 \n",
      "__________________________________________________________________________________________________\n",
      "conv2d_107 (Conv2D)             (None, 7, 7, 192)    159936      concatenate_16[0][0]             \n",
      "__________________________________________________________________________________________________\n",
      "conv2d_109 (Conv2D)             (None, 7, 7, 48)     39984       concatenate_16[0][0]             \n",
      "__________________________________________________________________________________________________\n",
      "max_pooling2d_25 (MaxPooling2D) (None, 7, 7, 832)    0           concatenate_16[0][0]             \n",
      "__________________________________________________________________________________________________\n",
      "conv2d_106 (Conv2D)             (None, 7, 7, 384)    319872      concatenate_16[0][0]             \n",
      "__________________________________________________________________________________________________\n",
      "conv2d_108 (Conv2D)             (None, 7, 7, 384)    663936      conv2d_107[0][0]                 \n",
      "__________________________________________________________________________________________________\n",
      "conv2d_110 (Conv2D)             (None, 7, 7, 128)    153728      conv2d_109[0][0]                 \n",
      "__________________________________________________________________________________________________\n",
      "conv2d_111 (Conv2D)             (None, 7, 7, 128)    106624      max_pooling2d_25[0][0]           \n",
      "__________________________________________________________________________________________________\n",
      "concatenate_17 (Concatenate)    (None, 7, 7, 1024)   0           conv2d_106[0][0]                 \n",
      "                                                                 conv2d_108[0][0]                 \n",
      "                                                                 conv2d_110[0][0]                 \n",
      "                                                                 conv2d_111[0][0]                 \n",
      "__________________________________________________________________________________________________\n",
      "average_pooling2d_1 (AveragePoo (None, 1, 1, 1024)   0           concatenate_17[0][0]             \n",
      "__________________________________________________________________________________________________\n",
      "flatten_1 (Flatten)             (None, 1024)         0           average_pooling2d_1[0][0]        \n",
      "__________________________________________________________________________________________________\n",
      "dropout_1 (Dropout)             (None, 1024)         0           flatten_1[0][0]                  \n",
      "__________________________________________________________________________________________________\n",
      "dense_2 (Dense)                 (None, 1000)         1025000     dropout_1[0][0]                  \n",
      "__________________________________________________________________________________________________\n",
      "dense_3 (Dense)                 (None, 10)           10010       dense_2[0][0]                    \n",
      "==================================================================================================\n",
      "Total params: 7,006,194\n",
      "Trainable params: 7,005,298\n",
      "Non-trainable params: 896\n",
      "__________________________________________________________________________________________________\n"
     ]
    }
   ],
   "source": [
    "model.summary()"
   ]
  },
  {
   "cell_type": "markdown",
   "metadata": {},
   "source": [
    "# Training"
   ]
  },
  {
   "cell_type": "code",
   "execution_count": 31,
   "metadata": {},
   "outputs": [],
   "source": [
    "model.compile(optimizer=tfa.optimizers.SGDW(momentum=0.9, weight_decay=0.0001, learning_rate=0.01),\n",
    "             loss = 'categorical_crossentropy',\n",
    "             metrics = ['accuracy'])"
   ]
  },
  {
   "cell_type": "code",
   "execution_count": 32,
   "metadata": {},
   "outputs": [],
   "source": [
    "def step_decay(epoch):\n",
    "    initial_lrate = 0.1\n",
    "    drop = 0.04\n",
    "    epochs_drop = 8.0\n",
    "    lrate = initial_lrate * tf.math.pow(drop,tf.math.floor((1+epoch)/epochs_drop))\n",
    "    return lrate"
   ]
  },
  {
   "cell_type": "code",
   "execution_count": 33,
   "metadata": {},
   "outputs": [],
   "source": [
    "lrate = tf.keras.callbacks.LearningRateScheduler(step_decay)"
   ]
  },
  {
   "cell_type": "code",
   "execution_count": 34,
   "metadata": {},
   "outputs": [
    {
     "name": "stdout",
     "output_type": "stream",
     "text": [
      "Train for 100 steps, validate for 100 steps\n",
      "Epoch 1/74\n",
      "100/100 [==============================] - 17s 167ms/step - loss: 2.1658 - accuracy: 0.1659 - val_loss: 2.1589 - val_accuracy: 0.2295\n",
      "Epoch 2/74\n",
      "100/100 [==============================] - 14s 136ms/step - loss: 2.0047 - accuracy: 0.2098 - val_loss: 2.0183 - val_accuracy: 0.2209\n",
      "Epoch 3/74\n",
      "100/100 [==============================] - 14s 137ms/step - loss: 1.9205 - accuracy: 0.2447 - val_loss: 2.0064 - val_accuracy: 0.2336\n",
      "Epoch 4/74\n",
      "100/100 [==============================] - 14s 136ms/step - loss: 1.8748 - accuracy: 0.2655 - val_loss: 1.8939 - val_accuracy: 0.2539\n",
      "Epoch 5/74\n",
      "100/100 [==============================] - 14s 137ms/step - loss: 1.8160 - accuracy: 0.2733 - val_loss: 1.8938 - val_accuracy: 0.2805\n",
      "Epoch 6/74\n",
      "100/100 [==============================] - 14s 137ms/step - loss: 1.7988 - accuracy: 0.2983 - val_loss: 1.7335 - val_accuracy: 0.3116\n",
      "Epoch 7/74\n",
      "100/100 [==============================] - 14s 137ms/step - loss: 1.7633 - accuracy: 0.3127 - val_loss: 1.6987 - val_accuracy: 0.3319\n",
      "Epoch 8/74\n",
      "100/100 [==============================] - 14s 137ms/step - loss: 1.7172 - accuracy: 0.3225 - val_loss: 1.8462 - val_accuracy: 0.3081\n",
      "Epoch 9/74\n",
      "100/100 [==============================] - 14s 138ms/step - loss: 1.7138 - accuracy: 0.3397 - val_loss: 1.7385 - val_accuracy: 0.3162\n",
      "Epoch 10/74\n",
      "100/100 [==============================] - 14s 138ms/step - loss: 1.6820 - accuracy: 0.3614 - val_loss: 1.7260 - val_accuracy: 0.3363\n",
      "Epoch 11/74\n",
      "100/100 [==============================] - 14s 138ms/step - loss: 1.6498 - accuracy: 0.3719 - val_loss: 1.6135 - val_accuracy: 0.3966\n",
      "Epoch 12/74\n",
      "100/100 [==============================] - 14s 139ms/step - loss: 1.6027 - accuracy: 0.3831 - val_loss: 1.8136 - val_accuracy: 0.3377\n",
      "Epoch 13/74\n",
      "100/100 [==============================] - 14s 140ms/step - loss: 1.5602 - accuracy: 0.3983 - val_loss: 1.5484 - val_accuracy: 0.4162\n",
      "Epoch 14/74\n",
      "100/100 [==============================] - 14s 140ms/step - loss: 1.5529 - accuracy: 0.3997 - val_loss: 1.5391 - val_accuracy: 0.4083\n",
      "Epoch 15/74\n",
      "100/100 [==============================] - 14s 140ms/step - loss: 1.5469 - accuracy: 0.4087 - val_loss: 1.4958 - val_accuracy: 0.4322\n",
      "Epoch 16/74\n",
      "100/100 [==============================] - 14s 140ms/step - loss: 1.5048 - accuracy: 0.4223 - val_loss: 1.5411 - val_accuracy: 0.4019\n",
      "Epoch 17/74\n",
      "100/100 [==============================] - 14s 140ms/step - loss: 1.4952 - accuracy: 0.4263 - val_loss: 1.4366 - val_accuracy: 0.4622\n",
      "Epoch 18/74\n",
      "100/100 [==============================] - 14s 140ms/step - loss: 1.5025 - accuracy: 0.4316 - val_loss: 1.4994 - val_accuracy: 0.4342\n",
      "Epoch 19/74\n",
      "100/100 [==============================] - 14s 140ms/step - loss: 1.4402 - accuracy: 0.4500 - val_loss: 1.4444 - val_accuracy: 0.4525\n",
      "Epoch 20/74\n",
      "100/100 [==============================] - 14s 140ms/step - loss: 1.4637 - accuracy: 0.4392 - val_loss: 1.4498 - val_accuracy: 0.4531\n",
      "Epoch 21/74\n",
      "100/100 [==============================] - 14s 140ms/step - loss: 1.4447 - accuracy: 0.4497 - val_loss: 1.4934 - val_accuracy: 0.4489\n",
      "Epoch 22/74\n",
      "100/100 [==============================] - 14s 141ms/step - loss: 1.4373 - accuracy: 0.4573 - val_loss: 1.3864 - val_accuracy: 0.4623\n",
      "Epoch 23/74\n",
      "100/100 [==============================] - 14s 140ms/step - loss: 1.4415 - accuracy: 0.4492 - val_loss: 1.3359 - val_accuracy: 0.4959\n",
      "Epoch 24/74\n",
      "100/100 [==============================] - 14s 140ms/step - loss: 1.4261 - accuracy: 0.4658 - val_loss: 1.4036 - val_accuracy: 0.4638\n",
      "Epoch 25/74\n",
      "100/100 [==============================] - 14s 140ms/step - loss: 1.4099 - accuracy: 0.4709 - val_loss: 1.4312 - val_accuracy: 0.4764\n",
      "Epoch 26/74\n",
      "100/100 [==============================] - 14s 140ms/step - loss: 1.3951 - accuracy: 0.4781 - val_loss: 1.3735 - val_accuracy: 0.4923\n",
      "Epoch 27/74\n",
      "100/100 [==============================] - 14s 140ms/step - loss: 1.3803 - accuracy: 0.4792 - val_loss: 1.3676 - val_accuracy: 0.4825\n",
      "Epoch 28/74\n",
      "100/100 [==============================] - 14s 140ms/step - loss: 1.3859 - accuracy: 0.4778 - val_loss: 1.5543 - val_accuracy: 0.3552\n",
      "Epoch 29/74\n",
      "100/100 [==============================] - 14s 140ms/step - loss: 1.3953 - accuracy: 0.4833 - val_loss: 1.3378 - val_accuracy: 0.5134\n",
      "Epoch 30/74\n",
      "100/100 [==============================] - 14s 140ms/step - loss: 1.3182 - accuracy: 0.5048 - val_loss: 1.4090 - val_accuracy: 0.4591\n",
      "Epoch 31/74\n",
      "100/100 [==============================] - 14s 140ms/step - loss: 1.3422 - accuracy: 0.4948 - val_loss: 1.3024 - val_accuracy: 0.5177\n",
      "Epoch 32/74\n",
      "100/100 [==============================] - 14s 140ms/step - loss: 1.3408 - accuracy: 0.5039 - val_loss: 1.3136 - val_accuracy: 0.5267\n",
      "Epoch 33/74\n",
      "100/100 [==============================] - 14s 140ms/step - loss: 1.2981 - accuracy: 0.5134 - val_loss: 1.3561 - val_accuracy: 0.5002\n",
      "Epoch 34/74\n",
      "100/100 [==============================] - 14s 140ms/step - loss: 1.2878 - accuracy: 0.5216 - val_loss: 1.3877 - val_accuracy: 0.4866\n",
      "Epoch 35/74\n",
      "100/100 [==============================] - 14s 139ms/step - loss: 1.2987 - accuracy: 0.5155 - val_loss: 1.3102 - val_accuracy: 0.5055\n",
      "Epoch 36/74\n",
      "100/100 [==============================] - 14s 140ms/step - loss: 1.3200 - accuracy: 0.5092 - val_loss: 1.3428 - val_accuracy: 0.5077\n",
      "Epoch 37/74\n",
      "100/100 [==============================] - 14s 139ms/step - loss: 1.3405 - accuracy: 0.5036 - val_loss: 1.3221 - val_accuracy: 0.5103\n",
      "Epoch 38/74\n",
      "100/100 [==============================] - 14s 140ms/step - loss: 1.3112 - accuracy: 0.5161 - val_loss: 1.3166 - val_accuracy: 0.5103\n",
      "Epoch 39/74\n",
      "100/100 [==============================] - 14s 140ms/step - loss: 1.2930 - accuracy: 0.5197 - val_loss: 1.2245 - val_accuracy: 0.5437\n",
      "Epoch 40/74\n",
      "100/100 [==============================] - 14s 140ms/step - loss: 1.2845 - accuracy: 0.5286 - val_loss: 1.2562 - val_accuracy: 0.5294\n",
      "Epoch 41/74\n",
      "100/100 [==============================] - 14s 139ms/step - loss: 1.2574 - accuracy: 0.5350 - val_loss: 1.2882 - val_accuracy: 0.5242\n",
      "Epoch 42/74\n",
      "100/100 [==============================] - 14s 140ms/step - loss: 1.2796 - accuracy: 0.5223 - val_loss: 1.3457 - val_accuracy: 0.4927\n",
      "Epoch 43/74\n",
      "100/100 [==============================] - 14s 139ms/step - loss: 1.2960 - accuracy: 0.5252 - val_loss: 1.2077 - val_accuracy: 0.5570\n",
      "Epoch 44/74\n",
      "100/100 [==============================] - 14s 139ms/step - loss: 1.2367 - accuracy: 0.5389 - val_loss: 1.2527 - val_accuracy: 0.5364\n",
      "Epoch 45/74\n",
      "100/100 [==============================] - 14s 140ms/step - loss: 1.2365 - accuracy: 0.5484 - val_loss: 1.3367 - val_accuracy: 0.5156\n",
      "Epoch 46/74\n",
      "100/100 [==============================] - 14s 139ms/step - loss: 1.2582 - accuracy: 0.5358 - val_loss: 1.2967 - val_accuracy: 0.5045\n",
      "Epoch 47/74\n",
      "100/100 [==============================] - 14s 140ms/step - loss: 1.1978 - accuracy: 0.5656 - val_loss: 1.2992 - val_accuracy: 0.4952\n",
      "Epoch 48/74\n",
      "100/100 [==============================] - 14s 139ms/step - loss: 1.2378 - accuracy: 0.5411 - val_loss: 1.1720 - val_accuracy: 0.5686\n",
      "Epoch 49/74\n",
      "100/100 [==============================] - 14s 140ms/step - loss: 1.2120 - accuracy: 0.5522 - val_loss: 1.2957 - val_accuracy: 0.5200\n",
      "Epoch 50/74\n",
      "100/100 [==============================] - 14s 139ms/step - loss: 1.2303 - accuracy: 0.5545 - val_loss: 1.2546 - val_accuracy: 0.5244\n",
      "Epoch 51/74\n",
      "100/100 [==============================] - 14s 139ms/step - loss: 1.2633 - accuracy: 0.5470 - val_loss: 1.2586 - val_accuracy: 0.5277\n",
      "Epoch 52/74\n",
      "100/100 [==============================] - 14s 139ms/step - loss: 1.2586 - accuracy: 0.5319 - val_loss: 1.2904 - val_accuracy: 0.5084\n",
      "Epoch 53/74\n",
      "100/100 [==============================] - 14s 139ms/step - loss: 1.2459 - accuracy: 0.5428 - val_loss: 1.1906 - val_accuracy: 0.5705\n",
      "Epoch 54/74\n",
      "100/100 [==============================] - 14s 139ms/step - loss: 1.2157 - accuracy: 0.5459 - val_loss: 1.1810 - val_accuracy: 0.5753\n",
      "Epoch 55/74\n",
      "100/100 [==============================] - 14s 139ms/step - loss: 1.2110 - accuracy: 0.5550 - val_loss: 1.1991 - val_accuracy: 0.5484\n",
      "Epoch 56/74\n",
      "100/100 [==============================] - 14s 140ms/step - loss: 1.2122 - accuracy: 0.5464 - val_loss: 1.1956 - val_accuracy: 0.5770\n",
      "Epoch 57/74\n",
      "100/100 [==============================] - 14s 140ms/step - loss: 1.2330 - accuracy: 0.5442 - val_loss: 1.2892 - val_accuracy: 0.5303\n",
      "Epoch 58/74\n",
      "100/100 [==============================] - 14s 139ms/step - loss: 1.1865 - accuracy: 0.5648 - val_loss: 1.3228 - val_accuracy: 0.5400\n",
      "Epoch 59/74\n",
      "100/100 [==============================] - 14s 139ms/step - loss: 1.1902 - accuracy: 0.5713 - val_loss: 1.2047 - val_accuracy: 0.5519\n",
      "Epoch 60/74\n",
      "100/100 [==============================] - 14s 139ms/step - loss: 1.1805 - accuracy: 0.5686 - val_loss: 1.2027 - val_accuracy: 0.5642\n",
      "Epoch 61/74\n",
      "100/100 [==============================] - 14s 139ms/step - loss: 1.1240 - accuracy: 0.5891 - val_loss: 1.2212 - val_accuracy: 0.5487\n",
      "Epoch 62/74\n",
      "100/100 [==============================] - 14s 139ms/step - loss: 1.1652 - accuracy: 0.5706 - val_loss: 1.1267 - val_accuracy: 0.5883\n",
      "Epoch 63/74\n",
      "100/100 [==============================] - 14s 139ms/step - loss: 1.1286 - accuracy: 0.5902 - val_loss: 1.1720 - val_accuracy: 0.5713\n",
      "Epoch 64/74\n",
      "100/100 [==============================] - 14s 139ms/step - loss: 1.1956 - accuracy: 0.5664 - val_loss: 1.1671 - val_accuracy: 0.5694\n",
      "Epoch 65/74\n",
      "100/100 [==============================] - 14s 139ms/step - loss: 1.1865 - accuracy: 0.5666 - val_loss: 1.1390 - val_accuracy: 0.5864\n",
      "Epoch 66/74\n",
      "100/100 [==============================] - 14s 139ms/step - loss: 1.1713 - accuracy: 0.5727 - val_loss: 1.2137 - val_accuracy: 0.5530\n",
      "Epoch 67/74\n",
      "100/100 [==============================] - 14s 139ms/step - loss: 1.1430 - accuracy: 0.5881 - val_loss: 1.1117 - val_accuracy: 0.5986\n",
      "Epoch 68/74\n",
      "100/100 [==============================] - 14s 139ms/step - loss: 1.1491 - accuracy: 0.5775 - val_loss: 1.2064 - val_accuracy: 0.5592\n",
      "Epoch 69/74\n",
      "100/100 [==============================] - 14s 139ms/step - loss: 1.1373 - accuracy: 0.5859 - val_loss: 1.1634 - val_accuracy: 0.5792\n",
      "Epoch 70/74\n",
      "100/100 [==============================] - 14s 139ms/step - loss: 1.1383 - accuracy: 0.5813 - val_loss: 1.1627 - val_accuracy: 0.5722\n",
      "Epoch 71/74\n",
      "100/100 [==============================] - 14s 139ms/step - loss: 1.1675 - accuracy: 0.5688 - val_loss: 1.2095 - val_accuracy: 0.5536\n",
      "Epoch 72/74\n",
      "100/100 [==============================] - 14s 139ms/step - loss: 1.1376 - accuracy: 0.5853 - val_loss: 1.2042 - val_accuracy: 0.5506\n",
      "Epoch 73/74\n",
      "100/100 [==============================] - 14s 139ms/step - loss: 1.1287 - accuracy: 0.5872 - val_loss: 1.0905 - val_accuracy: 0.6011\n",
      "Epoch 74/74\n",
      "100/100 [==============================] - 14s 139ms/step - loss: 1.1270 - accuracy: 0.5889 - val_loss: 1.2241 - val_accuracy: 0.5587\n"
     ]
    }
   ],
   "source": [
    "history = model.fit(train_ds,\n",
    "                   epochs=74,\n",
    "                   #callbacks = [lrate],\n",
    "                   steps_per_epoch = 100,\n",
    "                   verbose = 1,\n",
    "                   validation_data = val_ds,\n",
    "                   validation_steps = 100)"
   ]
  },
  {
   "cell_type": "markdown",
   "metadata": {},
   "source": [
    "# Evaluation"
   ]
  },
  {
   "cell_type": "code",
   "execution_count": 35,
   "metadata": {},
   "outputs": [
    {
     "name": "stdout",
     "output_type": "stream",
     "text": [
      "5/5 [==============================] - 4s 885ms/step - loss: 1.2291 - accuracy: 0.5625\n"
     ]
    }
   ],
   "source": [
    "loss_test, accuracy_test = model.evaluate(test_ds,\n",
    "                                        verbose = 1,\n",
    "                                        steps = 5)"
   ]
  },
  {
   "cell_type": "code",
   "execution_count": 36,
   "metadata": {},
   "outputs": [
    {
     "data": {
      "text/plain": [
       "(1.2291229486465454, 0.5625)"
      ]
     },
     "execution_count": 36,
     "metadata": {},
     "output_type": "execute_result"
    }
   ],
   "source": [
    "loss_test, accuracy_test"
   ]
  },
  {
   "cell_type": "markdown",
   "metadata": {},
   "source": [
    "# Training results visualization"
   ]
  },
  {
   "cell_type": "code",
   "execution_count": 37,
   "metadata": {},
   "outputs": [
    {
     "data": {
      "image/png": "[encoded data removed]",
      "text/plain": [
       "<Figure size 432x288 with 1 Axes>"
      ]
     },
     "metadata": {
      "needs_background": "light"
     },
     "output_type": "display_data"
    }
   ],
   "source": [
    "plt.plot(history.history['accuracy'])\n",
    "plt.plot(history.history['val_accuracy'])\n",
    "plt.title('Model accuracy')\n",
    "plt.ylabel('accuracy')\n",
    "plt.xlabel('epoch')\n",
    "plt.legend(['train','validation'], loc='upper left')\n",
    "plt.show()"
   ]
  },
  {
   "cell_type": "code",
   "execution_count": 38,
   "metadata": {},
   "outputs": [
    {
     "data": {
      "image/png": "[encoded data removed]",
      "text/plain": [
       "<Figure size 432x288 with 1 Axes>"
      ]
     },
     "metadata": {
      "needs_background": "light"
     },
     "output_type": "display_data"
    }
   ],
   "source": [
    "plt.plot(history.history['loss'])\n",
    "plt.plot(history.history['val_loss'])\n",
    "plt.title('Loss Curve')\n",
    "plt.ylabel('loss')\n",
    "plt.xlabel('epoch')\n",
    "plt.legend(['train', 'validation'], loc='upper right')\n",
    "plt.show()"
   ]
  }
 ],
 "metadata": {
  "kernelspec": {
   "display_name": "Python 3",
   "language": "python",
   "name": "python3"
  },
  "language_info": {
   "codemirror_mode": {
    "name": "ipython",
    "version": 3
   },
   "file_extension": ".py",
   "mimetype": "text/x-python",
   "name": "python",
   "nbconvert_exporter": "python",
   "pygments_lexer": "ipython3",
   "version": "3.7.5"
  }
 },
 "nbformat": 4,
 "nbformat_minor": 4
}

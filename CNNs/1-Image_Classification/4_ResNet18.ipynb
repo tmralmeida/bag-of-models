{
 "cells": [
  {
   "cell_type": "code",
   "execution_count": 13,
   "metadata": {},
   "outputs": [],
   "source": [
    "from __future__ import absolute_import, division, print_function, unicode_literals\n",
    "import tensorflow as tf\n",
    "import cv2\n",
    "import numpy as np\n",
    "import matplotlib.pyplot as plt\n",
    "import os\n",
    "import pathlib\n",
    "import tensorflow_addons as tfa\n",
    "from tensorflow.python.client import device_lib "
   ]
  },
  {
   "cell_type": "code",
   "execution_count": 14,
   "metadata": {},
   "outputs": [
    {
     "name": "stdout",
     "output_type": "stream",
     "text": [
      "Num GPUs Available:  4\n"
     ]
    }
   ],
   "source": [
    "print(\"Num GPUs Available: \", len(tf.config.experimental.list_physical_devices('GPU')))"
   ]
  },
  {
   "cell_type": "code",
   "execution_count": 15,
   "metadata": {},
   "outputs": [],
   "source": [
    "physical_devices = tf.config.list_physical_devices('GPU') "
   ]
  },
  {
   "cell_type": "code",
   "execution_count": 16,
   "metadata": {},
   "outputs": [],
   "source": [
    "tf.config.set_visible_devices(\n",
    "    physical_devices[1], 'GPU'\n",
    ")"
   ]
  },
  {
   "cell_type": "markdown",
   "metadata": {},
   "source": [
    "# Data Loading "
   ]
  },
  {
   "cell_type": "markdown",
   "metadata": {},
   "source": [
    "Data pre-processing details:\n",
    "\n",
    "* A 224×224 crop is randomly sampled from an image or its horizontal flip, with the per-pixel mean subtracted\n",
    "\n",
    "Data augmentation:\n",
    "\n",
    "*  Random RGB colour shift."
   ]
  },
  {
   "cell_type": "code",
   "execution_count": 17,
   "metadata": {},
   "outputs": [],
   "source": [
    "path_train = 'CINIC10/train/'\n",
    "path_valid = 'CINIC10/valid/'\n",
    "path_test = 'CINIC10/test/'\n",
    "data_dir_train = pathlib.Path(path_train)\n",
    "data_dir_val = pathlib.Path(path_valid)\n",
    "data_dir_test = pathlib.Path(path_test)"
   ]
  },
  {
   "cell_type": "code",
   "execution_count": 18,
   "metadata": {},
   "outputs": [],
   "source": [
    "list_ds_train = tf.data.Dataset.list_files(str(data_dir_train/'*/*'))\n",
    "list_ds_val = tf.data.Dataset.list_files(str(data_dir_val/'*/*'))\n",
    "list_ds_test = tf.data.Dataset.list_files(str(data_dir_test/'*/*'))"
   ]
  },
  {
   "cell_type": "code",
   "execution_count": 19,
   "metadata": {},
   "outputs": [],
   "source": [
    "CLASS_NAMES = np.array([item.name for item in data_dir_train.glob('*')])"
   ]
  },
  {
   "cell_type": "code",
   "execution_count": 20,
   "metadata": {},
   "outputs": [],
   "source": [
    "def get_label(file_path):\n",
    "    parts = tf.strings.split(file_path, os.path.sep)\n",
    "    return parts[-2] == CLASS_NAMES"
   ]
  },
  {
   "cell_type": "code",
   "execution_count": 21,
   "metadata": {},
   "outputs": [],
   "source": [
    "def decode_img(img,dsize):\n",
    "    img = tf.image.decode_png(img, channels=3)\n",
    "    img = tf.image.convert_image_dtype(img, tf.float32)\n",
    "    return tf.image.resize(img, [dsize[0], dsize[1]])"
   ]
  },
  {
   "cell_type": "code",
   "execution_count": 22,
   "metadata": {},
   "outputs": [],
   "source": [
    "def process_path(file_path):\n",
    "    size = (224,224)\n",
    "    label = get_label(file_path)\n",
    "    img = tf.io.read_file(file_path)\n",
    "    img = decode_img(img,size )\n",
    "    return img, label"
   ]
  },
  {
   "cell_type": "code",
   "execution_count": 23,
   "metadata": {},
   "outputs": [],
   "source": [
    "AUTOTUNE = tf.data.experimental.AUTOTUNE"
   ]
  },
  {
   "cell_type": "code",
   "execution_count": 24,
   "metadata": {},
   "outputs": [],
   "source": [
    "labeled_ds_train = list_ds_train.map(process_path, num_parallel_calls=AUTOTUNE)\n",
    "labeled_ds_valid = list_ds_val.map(process_path, num_parallel_calls=AUTOTUNE)\n",
    "labeled_ds_test = list_ds_test.map(process_path, num_parallel_calls=AUTOTUNE)"
   ]
  },
  {
   "cell_type": "code",
   "execution_count": 25,
   "metadata": {},
   "outputs": [],
   "source": [
    "def normalize(x, y):\n",
    "    x = tf.image.per_image_standardization(x)\n",
    "    return x, y"
   ]
  },
  {
   "cell_type": "code",
   "execution_count": 26,
   "metadata": {},
   "outputs": [],
   "source": [
    "def augmentation(x, y):\n",
    "    x = tf.image.random_flip_left_right(x)\n",
    "    x = tf.image.random_brightness(x, max_delta=0.5)\n",
    "    x = tf.image.random_contrast(x, lower=0.2, upper=1.8)\n",
    "    return x, y"
   ]
  },
  {
   "cell_type": "code",
   "execution_count": 27,
   "metadata": {},
   "outputs": [],
   "source": [
    "def prepare_for_training(ds, training = False, cache=True, shuffle_buffer_size=1000, batch_size = 128):\n",
    "    if cache:\n",
    "        if isinstance(cache, str):\n",
    "            ds = ds.cache(cache)\n",
    "        else:\n",
    "            ds = ds.cache()\n",
    "    ds = ds.map(normalize)\n",
    "    if training:\n",
    "        ds = ds.map(augmentation)\n",
    "    ds = ds.shuffle(buffer_size=shuffle_buffer_size)\n",
    "    ds = ds.repeat()\n",
    "    ds = ds.batch(batch_size)\n",
    "    ds = ds.prefetch(buffer_size=AUTOTUNE)\n",
    "    return ds"
   ]
  },
  {
   "cell_type": "code",
   "execution_count": 30,
   "metadata": {},
   "outputs": [],
   "source": [
    "train_ds = prepare_for_training(labeled_ds_train, training= True, batch_size=64)\n",
    "val_ds = prepare_for_training(labeled_ds_valid, batch_size=64)\n",
    "test_ds = prepare_for_training(labeled_ds_test, batch_size=64)"
   ]
  },
  {
   "cell_type": "markdown",
   "metadata": {},
   "source": [
    "# ResNet Details"
   ]
  },
  {
   "cell_type": "markdown",
   "metadata": {},
   "source": [
    "* This architecture introduces skip connection\n",
    "* optimizer = SGD \n",
    "* batch_size = 256 \n",
    "* momentum = 0.9 \n",
    "* weight decay = 0.0001 \n",
    "* lr_initial = 0.1 (divided by ten when the error plateaus) \n",
    "* num_epochs = 74\n",
    "* cross-entropy loss \n",
    "* do not use dropout"
   ]
  },
  {
   "cell_type": "markdown",
   "metadata": {},
   "source": [
    "# Model Definition"
   ]
  },
  {
   "cell_type": "code",
   "execution_count": 33,
   "metadata": {},
   "outputs": [],
   "source": [
    "def initial_block(inputs):\n",
    "    kernel_init = tf.keras.initializers.GlorotNormal()\n",
    "    x = tf.keras.layers.Conv2D(64, kernel_size=7, kernel_initializer = kernel_init, strides=2, padding='valid')(inputs)\n",
    "    x = tf.keras.layers.BatchNormalization()(x)\n",
    "    x = tf.keras.layers.ReLU()(x)\n",
    "    x = tf.keras.layers.MaxPool2D(pool_size=3, strides=2)(x)\n",
    "    return x"
   ]
  },
  {
   "cell_type": "code",
   "execution_count": 34,
   "metadata": {},
   "outputs": [],
   "source": [
    "def basic_block(x, num_channels, strides=1):\n",
    "    kernel_init = tf.keras.initializers.GlorotNormal()\n",
    "    skip = x\n",
    "    if strides == 2:\n",
    "        skip = tf.keras.layers.Conv2D(num_channels, kernel_size=1, kernel_initializer = kernel_init, strides = 2)(skip)\n",
    "    x = tf.keras.layers.Conv2D(num_channels, kernel_size=3, kernel_initializer = kernel_init, strides=strides, padding='same')(x)\n",
    "    x = tf.keras.layers.BatchNormalization()(x)\n",
    "    x = tf.keras.layers.ReLU()(x)\n",
    "    x = tf.keras.layers.Conv2D(num_channels, kernel_size=3, kernel_initializer = kernel_init, strides=1, padding='same')(x)\n",
    "    x = tf.keras.layers.BatchNormalization()(x)\n",
    "    x = tf.keras.layers.Add()([skip, x])\n",
    "    x = tf.keras.layers.ReLU()(x)\n",
    "    return x"
   ]
  },
  {
   "cell_type": "code",
   "execution_count": 35,
   "metadata": {},
   "outputs": [],
   "source": [
    "def final_block(x, n_classes):\n",
    "    x = tf.keras.layers.AveragePooling2D()(x)\n",
    "    x = tf.keras.layers.Flatten()(x)\n",
    "    x = tf.keras.layers.Dense(1000, activation='relu')(x)\n",
    "    x = tf.keras.layers.Dense(n_classes, activation='softmax')(x)\n",
    "    return x"
   ]
  },
  {
   "cell_type": "code",
   "execution_count": 36,
   "metadata": {},
   "outputs": [],
   "source": [
    "def model(num_classes = 1000):\n",
    "    inputs = tf.keras.layers.Input(shape = (224,224,3))\n",
    "    x = initial_block(inputs)\n",
    "    x = basic_block(x, 64)\n",
    "    x = basic_block(x, 64)\n",
    "    x = basic_block(x, 128, strides=2)\n",
    "    x = basic_block(x, 128)\n",
    "    x = basic_block(x, 256, strides=2)\n",
    "    x = basic_block(x, 256)\n",
    "    x = basic_block(x, 512, strides=2)\n",
    "    x = basic_block(x, 512)\n",
    "    x = final_block(x, num_classes)\n",
    "    model = tf.keras.Model(inputs, x)\n",
    "    return model"
   ]
  },
  {
   "cell_type": "code",
   "execution_count": 37,
   "metadata": {},
   "outputs": [],
   "source": [
    "model_ = model(10)"
   ]
  },
  {
   "cell_type": "code",
   "execution_count": 38,
   "metadata": {},
   "outputs": [
    {
     "name": "stdout",
     "output_type": "stream",
     "text": [
      "Model: \"model\"\n",
      "__________________________________________________________________________________________________\n",
      "Layer (type)                    Output Shape         Param #     Connected to                     \n",
      "==================================================================================================\n",
      "input_1 (InputLayer)            [(None, 224, 224, 3) 0                                            \n",
      "__________________________________________________________________________________________________\n",
      "conv2d (Conv2D)                 (None, 109, 109, 64) 9472        input_1[0][0]                    \n",
      "__________________________________________________________________________________________________\n",
      "batch_normalization (BatchNorma (None, 109, 109, 64) 256         conv2d[0][0]                     \n",
      "__________________________________________________________________________________________________\n",
      "re_lu (ReLU)                    (None, 109, 109, 64) 0           batch_normalization[0][0]        \n",
      "__________________________________________________________________________________________________\n",
      "max_pooling2d (MaxPooling2D)    (None, 54, 54, 64)   0           re_lu[0][0]                      \n",
      "__________________________________________________________________________________________________\n",
      "conv2d_1 (Conv2D)               (None, 54, 54, 64)   36928       max_pooling2d[0][0]              \n",
      "__________________________________________________________________________________________________\n",
      "batch_normalization_1 (BatchNor (None, 54, 54, 64)   256         conv2d_1[0][0]                   \n",
      "__________________________________________________________________________________________________\n",
      "re_lu_1 (ReLU)                  (None, 54, 54, 64)   0           batch_normalization_1[0][0]      \n",
      "__________________________________________________________________________________________________\n",
      "conv2d_2 (Conv2D)               (None, 54, 54, 64)   36928       re_lu_1[0][0]                    \n",
      "__________________________________________________________________________________________________\n",
      "batch_normalization_2 (BatchNor (None, 54, 54, 64)   256         conv2d_2[0][0]                   \n",
      "__________________________________________________________________________________________________\n",
      "add (Add)                       (None, 54, 54, 64)   0           max_pooling2d[0][0]              \n",
      "                                                                 batch_normalization_2[0][0]      \n",
      "__________________________________________________________________________________________________\n",
      "re_lu_2 (ReLU)                  (None, 54, 54, 64)   0           add[0][0]                        \n",
      "__________________________________________________________________________________________________\n",
      "conv2d_3 (Conv2D)               (None, 54, 54, 64)   36928       re_lu_2[0][0]                    \n",
      "__________________________________________________________________________________________________\n",
      "batch_normalization_3 (BatchNor (None, 54, 54, 64)   256         conv2d_3[0][0]                   \n",
      "__________________________________________________________________________________________________\n",
      "re_lu_3 (ReLU)                  (None, 54, 54, 64)   0           batch_normalization_3[0][0]      \n",
      "__________________________________________________________________________________________________\n",
      "conv2d_4 (Conv2D)               (None, 54, 54, 64)   36928       re_lu_3[0][0]                    \n",
      "__________________________________________________________________________________________________\n",
      "batch_normalization_4 (BatchNor (None, 54, 54, 64)   256         conv2d_4[0][0]                   \n",
      "__________________________________________________________________________________________________\n",
      "add_1 (Add)                     (None, 54, 54, 64)   0           re_lu_2[0][0]                    \n",
      "                                                                 batch_normalization_4[0][0]      \n",
      "__________________________________________________________________________________________________\n",
      "re_lu_4 (ReLU)                  (None, 54, 54, 64)   0           add_1[0][0]                      \n",
      "__________________________________________________________________________________________________\n",
      "conv2d_6 (Conv2D)               (None, 27, 27, 128)  73856       re_lu_4[0][0]                    \n",
      "__________________________________________________________________________________________________\n",
      "batch_normalization_5 (BatchNor (None, 27, 27, 128)  512         conv2d_6[0][0]                   \n",
      "__________________________________________________________________________________________________\n",
      "re_lu_5 (ReLU)                  (None, 27, 27, 128)  0           batch_normalization_5[0][0]      \n",
      "__________________________________________________________________________________________________\n",
      "conv2d_7 (Conv2D)               (None, 27, 27, 128)  147584      re_lu_5[0][0]                    \n",
      "__________________________________________________________________________________________________\n",
      "conv2d_5 (Conv2D)               (None, 27, 27, 128)  8320        re_lu_4[0][0]                    \n",
      "__________________________________________________________________________________________________\n",
      "batch_normalization_6 (BatchNor (None, 27, 27, 128)  512         conv2d_7[0][0]                   \n",
      "__________________________________________________________________________________________________\n",
      "add_2 (Add)                     (None, 27, 27, 128)  0           conv2d_5[0][0]                   \n",
      "                                                                 batch_normalization_6[0][0]      \n",
      "__________________________________________________________________________________________________\n",
      "re_lu_6 (ReLU)                  (None, 27, 27, 128)  0           add_2[0][0]                      \n",
      "__________________________________________________________________________________________________\n",
      "conv2d_8 (Conv2D)               (None, 27, 27, 128)  147584      re_lu_6[0][0]                    \n",
      "__________________________________________________________________________________________________\n",
      "batch_normalization_7 (BatchNor (None, 27, 27, 128)  512         conv2d_8[0][0]                   \n",
      "__________________________________________________________________________________________________\n",
      "re_lu_7 (ReLU)                  (None, 27, 27, 128)  0           batch_normalization_7[0][0]      \n",
      "__________________________________________________________________________________________________\n",
      "conv2d_9 (Conv2D)               (None, 27, 27, 128)  147584      re_lu_7[0][0]                    \n",
      "__________________________________________________________________________________________________\n",
      "batch_normalization_8 (BatchNor (None, 27, 27, 128)  512         conv2d_9[0][0]                   \n",
      "__________________________________________________________________________________________________\n",
      "add_3 (Add)                     (None, 27, 27, 128)  0           re_lu_6[0][0]                    \n",
      "                                                                 batch_normalization_8[0][0]      \n",
      "__________________________________________________________________________________________________\n",
      "re_lu_8 (ReLU)                  (None, 27, 27, 128)  0           add_3[0][0]                      \n",
      "__________________________________________________________________________________________________\n",
      "conv2d_11 (Conv2D)              (None, 14, 14, 256)  295168      re_lu_8[0][0]                    \n",
      "__________________________________________________________________________________________________\n",
      "batch_normalization_9 (BatchNor (None, 14, 14, 256)  1024        conv2d_11[0][0]                  \n",
      "__________________________________________________________________________________________________\n",
      "re_lu_9 (ReLU)                  (None, 14, 14, 256)  0           batch_normalization_9[0][0]      \n",
      "__________________________________________________________________________________________________\n",
      "conv2d_12 (Conv2D)              (None, 14, 14, 256)  590080      re_lu_9[0][0]                    \n",
      "__________________________________________________________________________________________________\n",
      "conv2d_10 (Conv2D)              (None, 14, 14, 256)  33024       re_lu_8[0][0]                    \n",
      "__________________________________________________________________________________________________\n",
      "batch_normalization_10 (BatchNo (None, 14, 14, 256)  1024        conv2d_12[0][0]                  \n",
      "__________________________________________________________________________________________________\n",
      "add_4 (Add)                     (None, 14, 14, 256)  0           conv2d_10[0][0]                  \n",
      "                                                                 batch_normalization_10[0][0]     \n",
      "__________________________________________________________________________________________________\n",
      "re_lu_10 (ReLU)                 (None, 14, 14, 256)  0           add_4[0][0]                      \n",
      "__________________________________________________________________________________________________\n",
      "conv2d_13 (Conv2D)              (None, 14, 14, 256)  590080      re_lu_10[0][0]                   \n",
      "__________________________________________________________________________________________________\n",
      "batch_normalization_11 (BatchNo (None, 14, 14, 256)  1024        conv2d_13[0][0]                  \n",
      "__________________________________________________________________________________________________\n",
      "re_lu_11 (ReLU)                 (None, 14, 14, 256)  0           batch_normalization_11[0][0]     \n",
      "__________________________________________________________________________________________________\n",
      "conv2d_14 (Conv2D)              (None, 14, 14, 256)  590080      re_lu_11[0][0]                   \n",
      "__________________________________________________________________________________________________\n",
      "batch_normalization_12 (BatchNo (None, 14, 14, 256)  1024        conv2d_14[0][0]                  \n",
      "__________________________________________________________________________________________________\n",
      "add_5 (Add)                     (None, 14, 14, 256)  0           re_lu_10[0][0]                   \n",
      "                                                                 batch_normalization_12[0][0]     \n",
      "__________________________________________________________________________________________________\n",
      "re_lu_12 (ReLU)                 (None, 14, 14, 256)  0           add_5[0][0]                      \n",
      "__________________________________________________________________________________________________\n",
      "conv2d_16 (Conv2D)              (None, 7, 7, 512)    1180160     re_lu_12[0][0]                   \n",
      "__________________________________________________________________________________________________\n",
      "batch_normalization_13 (BatchNo (None, 7, 7, 512)    2048        conv2d_16[0][0]                  \n",
      "__________________________________________________________________________________________________\n",
      "re_lu_13 (ReLU)                 (None, 7, 7, 512)    0           batch_normalization_13[0][0]     \n",
      "__________________________________________________________________________________________________\n",
      "conv2d_17 (Conv2D)              (None, 7, 7, 512)    2359808     re_lu_13[0][0]                   \n",
      "__________________________________________________________________________________________________\n",
      "conv2d_15 (Conv2D)              (None, 7, 7, 512)    131584      re_lu_12[0][0]                   \n",
      "__________________________________________________________________________________________________\n",
      "batch_normalization_14 (BatchNo (None, 7, 7, 512)    2048        conv2d_17[0][0]                  \n",
      "__________________________________________________________________________________________________\n",
      "add_6 (Add)                     (None, 7, 7, 512)    0           conv2d_15[0][0]                  \n",
      "                                                                 batch_normalization_14[0][0]     \n",
      "__________________________________________________________________________________________________\n",
      "re_lu_14 (ReLU)                 (None, 7, 7, 512)    0           add_6[0][0]                      \n",
      "__________________________________________________________________________________________________\n",
      "conv2d_18 (Conv2D)              (None, 7, 7, 512)    2359808     re_lu_14[0][0]                   \n",
      "__________________________________________________________________________________________________\n",
      "batch_normalization_15 (BatchNo (None, 7, 7, 512)    2048        conv2d_18[0][0]                  \n",
      "__________________________________________________________________________________________________\n",
      "re_lu_15 (ReLU)                 (None, 7, 7, 512)    0           batch_normalization_15[0][0]     \n",
      "__________________________________________________________________________________________________\n",
      "conv2d_19 (Conv2D)              (None, 7, 7, 512)    2359808     re_lu_15[0][0]                   \n",
      "__________________________________________________________________________________________________\n",
      "batch_normalization_16 (BatchNo (None, 7, 7, 512)    2048        conv2d_19[0][0]                  \n",
      "__________________________________________________________________________________________________\n",
      "add_7 (Add)                     (None, 7, 7, 512)    0           re_lu_14[0][0]                   \n",
      "                                                                 batch_normalization_16[0][0]     \n",
      "__________________________________________________________________________________________________\n",
      "re_lu_16 (ReLU)                 (None, 7, 7, 512)    0           add_7[0][0]                      \n",
      "__________________________________________________________________________________________________\n",
      "average_pooling2d (AveragePooli (None, 3, 3, 512)    0           re_lu_16[0][0]                   \n",
      "__________________________________________________________________________________________________\n",
      "flatten (Flatten)               (None, 4608)         0           average_pooling2d[0][0]          \n",
      "__________________________________________________________________________________________________\n",
      "dense (Dense)                   (None, 1000)         4609000     flatten[0][0]                    \n",
      "__________________________________________________________________________________________________\n",
      "dense_1 (Dense)                 (None, 10)           10010       dense[0][0]                      \n",
      "==================================================================================================\n",
      "Total params: 15,806,338\n",
      "Trainable params: 15,798,530\n",
      "Non-trainable params: 7,808\n",
      "__________________________________________________________________________________________________\n"
     ]
    }
   ],
   "source": [
    "model_.summary()"
   ]
  },
  {
   "cell_type": "markdown",
   "metadata": {},
   "source": [
    "# Training "
   ]
  },
  {
   "cell_type": "code",
   "execution_count": 39,
   "metadata": {},
   "outputs": [],
   "source": [
    "model_.compile(optimizer = tfa.optimizers.SGDW(momentum=0.9, weight_decay = 0.0001, learning_rate = 0.01),\n",
    "             loss = 'categorical_crossentropy',\n",
    "             metrics = ['accuracy'])"
   ]
  },
  {
   "cell_type": "code",
   "execution_count": 40,
   "metadata": {},
   "outputs": [
    {
     "name": "stdout",
     "output_type": "stream",
     "text": [
      "Train for 100 steps, validate for 100 steps\n",
      "Epoch 1/74\n",
      "100/100 [==============================] - 18s 179ms/step - loss: 2.2822 - accuracy: 0.2177 - val_loss: 2.1953 - val_accuracy: 0.2020\n",
      "Epoch 2/74\n",
      "100/100 [==============================] - 12s 123ms/step - loss: 1.9620 - accuracy: 0.2683 - val_loss: 1.8443 - val_accuracy: 0.3212\n",
      "Epoch 3/74\n",
      "100/100 [==============================] - 12s 121ms/step - loss: 1.8712 - accuracy: 0.3044 - val_loss: 1.7767 - val_accuracy: 0.3458\n",
      "Epoch 4/74\n",
      "100/100 [==============================] - 12s 121ms/step - loss: 1.8009 - accuracy: 0.3186 - val_loss: 1.7765 - val_accuracy: 0.3317\n",
      "Epoch 5/74\n",
      "100/100 [==============================] - 12s 122ms/step - loss: 1.7593 - accuracy: 0.3509 - val_loss: 1.7140 - val_accuracy: 0.3564\n",
      "Epoch 6/74\n",
      "100/100 [==============================] - 12s 122ms/step - loss: 1.7082 - accuracy: 0.3614 - val_loss: 1.7141 - val_accuracy: 0.3684\n",
      "Epoch 7/74\n",
      "100/100 [==============================] - 12s 122ms/step - loss: 1.6956 - accuracy: 0.3711 - val_loss: 1.6574 - val_accuracy: 0.3722\n",
      "Epoch 8/74\n",
      "100/100 [==============================] - 12s 123ms/step - loss: 1.6444 - accuracy: 0.3992 - val_loss: 1.6094 - val_accuracy: 0.4039\n",
      "Epoch 9/74\n",
      "100/100 [==============================] - 12s 123ms/step - loss: 1.5924 - accuracy: 0.4081 - val_loss: 1.6006 - val_accuracy: 0.4055\n",
      "Epoch 10/74\n",
      "100/100 [==============================] - 12s 123ms/step - loss: 1.5414 - accuracy: 0.4319 - val_loss: 1.6522 - val_accuracy: 0.3958\n",
      "Epoch 11/74\n",
      "100/100 [==============================] - 12s 123ms/step - loss: 1.5425 - accuracy: 0.4353 - val_loss: 1.4535 - val_accuracy: 0.4648\n",
      "Epoch 12/74\n",
      "100/100 [==============================] - 12s 123ms/step - loss: 1.5152 - accuracy: 0.4461 - val_loss: 1.5697 - val_accuracy: 0.4348\n",
      "Epoch 13/74\n",
      "100/100 [==============================] - 12s 123ms/step - loss: 1.4644 - accuracy: 0.4634 - val_loss: 1.4583 - val_accuracy: 0.4684\n",
      "Epoch 14/74\n",
      "100/100 [==============================] - 12s 125ms/step - loss: 1.4354 - accuracy: 0.4812 - val_loss: 1.4486 - val_accuracy: 0.4717\n",
      "Epoch 15/74\n",
      "100/100 [==============================] - 12s 124ms/step - loss: 1.4154 - accuracy: 0.4828 - val_loss: 1.4284 - val_accuracy: 0.4706\n",
      "Epoch 16/74\n",
      "100/100 [==============================] - 12s 124ms/step - loss: 1.3897 - accuracy: 0.4920 - val_loss: 1.3649 - val_accuracy: 0.5156\n",
      "Epoch 17/74\n",
      "100/100 [==============================] - 12s 124ms/step - loss: 1.3675 - accuracy: 0.5005 - val_loss: 1.3991 - val_accuracy: 0.4970\n",
      "Epoch 18/74\n",
      "100/100 [==============================] - 12s 124ms/step - loss: 1.3463 - accuracy: 0.5073 - val_loss: 1.3097 - val_accuracy: 0.5242\n",
      "Epoch 19/74\n",
      "100/100 [==============================] - 12s 124ms/step - loss: 1.2986 - accuracy: 0.5280 - val_loss: 1.3190 - val_accuracy: 0.5198\n",
      "Epoch 20/74\n",
      "100/100 [==============================] - 12s 124ms/step - loss: 1.2925 - accuracy: 0.5288 - val_loss: 1.3165 - val_accuracy: 0.5233\n",
      "Epoch 21/74\n",
      "100/100 [==============================] - 12s 124ms/step - loss: 1.2964 - accuracy: 0.5352 - val_loss: 1.2743 - val_accuracy: 0.5477\n",
      "Epoch 22/74\n",
      "100/100 [==============================] - 12s 124ms/step - loss: 1.2475 - accuracy: 0.5505 - val_loss: 1.3303 - val_accuracy: 0.5123\n",
      "Epoch 23/74\n",
      "100/100 [==============================] - 12s 124ms/step - loss: 1.2199 - accuracy: 0.5594 - val_loss: 1.2934 - val_accuracy: 0.5355\n",
      "Epoch 24/74\n",
      "100/100 [==============================] - 12s 125ms/step - loss: 1.2003 - accuracy: 0.5587 - val_loss: 1.3719 - val_accuracy: 0.5125\n",
      "Epoch 25/74\n",
      "100/100 [==============================] - 12s 124ms/step - loss: 1.1965 - accuracy: 0.5661 - val_loss: 1.2214 - val_accuracy: 0.5620\n",
      "Epoch 26/74\n",
      "100/100 [==============================] - 12s 124ms/step - loss: 1.1762 - accuracy: 0.5692 - val_loss: 1.2243 - val_accuracy: 0.5562\n",
      "Epoch 27/74\n",
      "100/100 [==============================] - 12s 124ms/step - loss: 1.1626 - accuracy: 0.5763 - val_loss: 1.2331 - val_accuracy: 0.5592\n",
      "Epoch 28/74\n",
      "100/100 [==============================] - 13s 125ms/step - loss: 1.1551 - accuracy: 0.5798 - val_loss: 1.1850 - val_accuracy: 0.5830\n",
      "Epoch 29/74\n",
      "100/100 [==============================] - 12s 124ms/step - loss: 1.1225 - accuracy: 0.5916 - val_loss: 1.1509 - val_accuracy: 0.5819\n",
      "Epoch 30/74\n",
      "100/100 [==============================] - 12s 124ms/step - loss: 1.1272 - accuracy: 0.5981 - val_loss: 1.1285 - val_accuracy: 0.5947\n",
      "Epoch 31/74\n",
      "100/100 [==============================] - 12s 125ms/step - loss: 1.0917 - accuracy: 0.6075 - val_loss: 1.1222 - val_accuracy: 0.5909\n",
      "Epoch 32/74\n",
      "100/100 [==============================] - 12s 125ms/step - loss: 1.1055 - accuracy: 0.6073 - val_loss: 1.2277 - val_accuracy: 0.5713\n",
      "Epoch 33/74\n",
      "100/100 [==============================] - 12s 125ms/step - loss: 1.0671 - accuracy: 0.6153 - val_loss: 1.0589 - val_accuracy: 0.6131\n",
      "Epoch 34/74\n",
      "100/100 [==============================] - 12s 124ms/step - loss: 1.0635 - accuracy: 0.6159 - val_loss: 1.1812 - val_accuracy: 0.5803\n",
      "Epoch 35/74\n",
      "100/100 [==============================] - 12s 125ms/step - loss: 1.0496 - accuracy: 0.6191 - val_loss: 1.1709 - val_accuracy: 0.5775\n",
      "Epoch 36/74\n",
      "100/100 [==============================] - 12s 124ms/step - loss: 1.0251 - accuracy: 0.6252 - val_loss: 1.1939 - val_accuracy: 0.5738\n",
      "Epoch 37/74\n",
      "100/100 [==============================] - 12s 124ms/step - loss: 1.0201 - accuracy: 0.6280 - val_loss: 1.1235 - val_accuracy: 0.5900\n",
      "Epoch 38/74\n",
      "100/100 [==============================] - 12s 124ms/step - loss: 0.9965 - accuracy: 0.6305 - val_loss: 1.1163 - val_accuracy: 0.6006\n",
      "Epoch 39/74\n",
      "100/100 [==============================] - 12s 124ms/step - loss: 1.0070 - accuracy: 0.6434 - val_loss: 1.1429 - val_accuracy: 0.5970\n",
      "Epoch 40/74\n",
      "100/100 [==============================] - 12s 124ms/step - loss: 0.9960 - accuracy: 0.6361 - val_loss: 1.0271 - val_accuracy: 0.6402\n",
      "Epoch 41/74\n",
      "100/100 [==============================] - 12s 124ms/step - loss: 0.9764 - accuracy: 0.6459 - val_loss: 1.0245 - val_accuracy: 0.6219\n",
      "Epoch 42/74\n",
      "100/100 [==============================] - 13s 125ms/step - loss: 0.9642 - accuracy: 0.6509 - val_loss: 1.0646 - val_accuracy: 0.6136\n",
      "Epoch 43/74\n",
      "100/100 [==============================] - 12s 124ms/step - loss: 0.9594 - accuracy: 0.6616 - val_loss: 1.0535 - val_accuracy: 0.6217\n",
      "Epoch 44/74\n",
      "100/100 [==============================] - 12s 124ms/step - loss: 0.9631 - accuracy: 0.6603 - val_loss: 0.9688 - val_accuracy: 0.6488\n",
      "Epoch 45/74\n",
      "100/100 [==============================] - 12s 124ms/step - loss: 0.9312 - accuracy: 0.6737 - val_loss: 1.0302 - val_accuracy: 0.6325\n",
      "Epoch 46/74\n",
      "100/100 [==============================] - 12s 124ms/step - loss: 0.9412 - accuracy: 0.6616 - val_loss: 1.0692 - val_accuracy: 0.6252\n",
      "Epoch 47/74\n",
      "100/100 [==============================] - 12s 124ms/step - loss: 0.9235 - accuracy: 0.6695 - val_loss: 1.0545 - val_accuracy: 0.6192\n",
      "Epoch 48/74\n",
      "100/100 [==============================] - 12s 124ms/step - loss: 0.9293 - accuracy: 0.6617 - val_loss: 1.0048 - val_accuracy: 0.6345\n",
      "Epoch 49/74\n",
      "100/100 [==============================] - 12s 124ms/step - loss: 0.9087 - accuracy: 0.6787 - val_loss: 1.0871 - val_accuracy: 0.6131\n",
      "Epoch 50/74\n",
      "100/100 [==============================] - 12s 124ms/step - loss: 0.9084 - accuracy: 0.6669 - val_loss: 0.9640 - val_accuracy: 0.6506\n",
      "Epoch 51/74\n",
      "100/100 [==============================] - 12s 124ms/step - loss: 0.8719 - accuracy: 0.6866 - val_loss: 1.0182 - val_accuracy: 0.6452\n",
      "Epoch 52/74\n",
      "100/100 [==============================] - 12s 124ms/step - loss: 0.8992 - accuracy: 0.6766 - val_loss: 0.9420 - val_accuracy: 0.6681\n",
      "Epoch 53/74\n",
      "100/100 [==============================] - 12s 124ms/step - loss: 0.8711 - accuracy: 0.6859 - val_loss: 1.0268 - val_accuracy: 0.6386\n",
      "Epoch 54/74\n",
      "100/100 [==============================] - 12s 124ms/step - loss: 0.8791 - accuracy: 0.6855 - val_loss: 0.9761 - val_accuracy: 0.6561\n",
      "Epoch 55/74\n",
      "100/100 [==============================] - 12s 124ms/step - loss: 0.8653 - accuracy: 0.6925 - val_loss: 1.0605 - val_accuracy: 0.6284\n",
      "Epoch 56/74\n",
      "100/100 [==============================] - 12s 124ms/step - loss: 0.8494 - accuracy: 0.6897 - val_loss: 1.0314 - val_accuracy: 0.6322\n",
      "Epoch 57/74\n",
      "100/100 [==============================] - 12s 124ms/step - loss: 0.8625 - accuracy: 0.6919 - val_loss: 1.0011 - val_accuracy: 0.6480\n",
      "Epoch 58/74\n",
      "100/100 [==============================] - 12s 124ms/step - loss: 0.8556 - accuracy: 0.6958 - val_loss: 0.9812 - val_accuracy: 0.6470\n",
      "Epoch 59/74\n",
      "100/100 [==============================] - 12s 124ms/step - loss: 0.8426 - accuracy: 0.6947 - val_loss: 1.1150 - val_accuracy: 0.6158\n",
      "Epoch 60/74\n",
      "100/100 [==============================] - 12s 124ms/step - loss: 0.8635 - accuracy: 0.6911 - val_loss: 1.0074 - val_accuracy: 0.6413\n",
      "Epoch 61/74\n",
      "100/100 [==============================] - 12s 124ms/step - loss: 0.8330 - accuracy: 0.7075 - val_loss: 0.9320 - val_accuracy: 0.6667\n",
      "Epoch 62/74\n",
      "100/100 [==============================] - 12s 124ms/step - loss: 0.8029 - accuracy: 0.7092 - val_loss: 1.0058 - val_accuracy: 0.6431\n",
      "Epoch 63/74\n",
      "100/100 [==============================] - 12s 124ms/step - loss: 0.8261 - accuracy: 0.7058 - val_loss: 1.0050 - val_accuracy: 0.6441\n",
      "Epoch 64/74\n",
      "100/100 [==============================] - 12s 124ms/step - loss: 0.7987 - accuracy: 0.7159 - val_loss: 1.1452 - val_accuracy: 0.6245\n",
      "Epoch 65/74\n",
      "100/100 [==============================] - 12s 124ms/step - loss: 0.8137 - accuracy: 0.7042 - val_loss: 1.0072 - val_accuracy: 0.6553\n",
      "Epoch 66/74\n",
      "100/100 [==============================] - 12s 123ms/step - loss: 0.7954 - accuracy: 0.7131 - val_loss: 0.9130 - val_accuracy: 0.6766\n",
      "Epoch 67/74\n",
      "100/100 [==============================] - 12s 124ms/step - loss: 0.7907 - accuracy: 0.7178 - val_loss: 0.9968 - val_accuracy: 0.6466\n",
      "Epoch 68/74\n",
      "100/100 [==============================] - 12s 124ms/step - loss: 0.7933 - accuracy: 0.7181 - val_loss: 1.0943 - val_accuracy: 0.6259\n",
      "Epoch 69/74\n",
      "100/100 [==============================] - 12s 124ms/step - loss: 0.7873 - accuracy: 0.7191 - val_loss: 0.9208 - val_accuracy: 0.6756\n",
      "Epoch 70/74\n",
      "100/100 [==============================] - 12s 125ms/step - loss: 0.7593 - accuracy: 0.7262 - val_loss: 0.9703 - val_accuracy: 0.6645\n",
      "Epoch 71/74\n",
      "100/100 [==============================] - 12s 124ms/step - loss: 0.7858 - accuracy: 0.7220 - val_loss: 0.9827 - val_accuracy: 0.6583\n",
      "Epoch 72/74\n",
      "100/100 [==============================] - 12s 124ms/step - loss: 0.7600 - accuracy: 0.7328 - val_loss: 0.9087 - val_accuracy: 0.6703\n",
      "Epoch 73/74\n",
      "100/100 [==============================] - 12s 124ms/step - loss: 0.7682 - accuracy: 0.7233 - val_loss: 0.8946 - val_accuracy: 0.6758\n",
      "Epoch 74/74\n",
      "100/100 [==============================] - 12s 124ms/step - loss: 0.7601 - accuracy: 0.7317 - val_loss: 1.0473 - val_accuracy: 0.6444\n"
     ]
    }
   ],
   "source": [
    "history = model_.fit(train_ds,\n",
    "                     epochs = 74,\n",
    "                     steps_per_epoch = 100,\n",
    "                     verbose = 1,\n",
    "                     validation_data= val_ds,\n",
    "                     validation_steps= 100)"
   ]
  },
  {
   "cell_type": "markdown",
   "metadata": {},
   "source": [
    "# Evaluation"
   ]
  },
  {
   "cell_type": "code",
   "execution_count": 41,
   "metadata": {},
   "outputs": [
    {
     "name": "stdout",
     "output_type": "stream",
     "text": [
      "5/5 [==============================] - 4s 854ms/step - loss: 1.0756 - accuracy: 0.6156\n"
     ]
    }
   ],
   "source": [
    "loss_test, accuracy_test = model_.evaluate(test_ds,\n",
    "                                         verbose = 1,\n",
    "                                         steps = 5)"
   ]
  },
  {
   "cell_type": "code",
   "execution_count": 42,
   "metadata": {},
   "outputs": [
    {
     "data": {
      "text/plain": [
       "(1.0756086230278015, 0.615625)"
      ]
     },
     "execution_count": 42,
     "metadata": {},
     "output_type": "execute_result"
    }
   ],
   "source": [
    "loss_test, accuracy_test"
   ]
  },
  {
   "cell_type": "markdown",
   "metadata": {},
   "source": [
    "# Training results visualization"
   ]
  },
  {
   "cell_type": "code",
   "execution_count": 43,
   "metadata": {},
   "outputs": [
    {
     "data": {
      "image/png": "[encoded data removed]",
      "text/plain": [
       "<Figure size 432x288 with 1 Axes>"
      ]
     },
     "metadata": {
      "needs_background": "light"
     },
     "output_type": "display_data"
    }
   ],
   "source": [
    "plt.plot(history.history['accuracy'])\n",
    "plt.plot(history.history['val_accuracy'])\n",
    "plt.title('Model accuracy')\n",
    "plt.ylabel('accuracy')\n",
    "plt.xlabel('epoch')\n",
    "plt.legend(['train','validation'], loc='upper left')\n",
    "plt.show()"
   ]
  },
  {
   "cell_type": "code",
   "execution_count": 44,
   "metadata": {},
   "outputs": [
    {
     "data": {
      "image/png": "[encoded data removed]",
      "text/plain": [
       "<Figure size 432x288 with 1 Axes>"
      ]
     },
     "metadata": {
      "needs_background": "light"
     },
     "output_type": "display_data"
    }
   ],
   "source": [
    "plt.plot(history.history['loss'])\n",
    "plt.plot(history.history['val_loss'])\n",
    "plt.title('Loss Curve')\n",
    "plt.ylabel('loss')\n",
    "plt.xlabel('epoch')\n",
    "plt.legend(['train', 'validation'], loc='upper right')\n",
    "plt.show()"
   ]
  }
 ],
 "metadata": {
  "kernelspec": {
   "display_name": "Python 3",
   "language": "python",
   "name": "python3"
  },
  "language_info": {
   "codemirror_mode": {
    "name": "ipython",
    "version": 3
   },
   "file_extension": ".py",
   "mimetype": "text/x-python",
   "name": "python",
   "nbconvert_exporter": "python",
   "pygments_lexer": "ipython3",
   "version": "3.7.5"
  }
 },
 "nbformat": 4,
 "nbformat_minor": 4
}

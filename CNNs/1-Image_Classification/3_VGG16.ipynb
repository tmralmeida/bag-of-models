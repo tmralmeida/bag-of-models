{
 "cells": [
  {
   "cell_type": "code",
   "execution_count": 1,
   "metadata": {},
   "outputs": [],
   "source": [
    "from __future__ import absolute_import, division, print_function, unicode_literals\n",
    "import tensorflow as tf\n",
    "import cv2\n",
    "import numpy as np\n",
    "import matplotlib.pyplot as plt\n",
    "import os\n",
    "import pathlib\n",
    "import tensorflow_addons as tfa\n",
    "from tensorflow.python.client import device_lib "
   ]
  },
  {
   "cell_type": "code",
   "execution_count": 2,
   "metadata": {},
   "outputs": [
    {
     "name": "stdout",
     "output_type": "stream",
     "text": [
      "Num GPUs Available:  4\n"
     ]
    }
   ],
   "source": [
    "print(\"Num GPUs Available: \", len(tf.config.experimental.list_physical_devices('GPU')))"
   ]
  },
  {
   "cell_type": "code",
   "execution_count": 3,
   "metadata": {},
   "outputs": [],
   "source": [
    "physical_devices = tf.config.list_physical_devices('GPU') "
   ]
  },
  {
   "cell_type": "code",
   "execution_count": 4,
   "metadata": {},
   "outputs": [],
   "source": [
    "tf.config.set_visible_devices(\n",
    "    physical_devices[1], 'GPU'\n",
    ")"
   ]
  },
  {
   "cell_type": "markdown",
   "metadata": {},
   "source": [
    "# Data Loading"
   ]
  },
  {
   "cell_type": "markdown",
   "metadata": {},
   "source": [
    "Data pre-processing details:\n",
    "\n",
    "* The only pre-processing they do is subtracting the mean RGB value, computed on the training set, from each pixel.\n",
    "\n",
    "Data augmentation:\n",
    "\n",
    "* To further augment the training set, the crops underwent random horizontal flipping and random RGB colour shift."
   ]
  },
  {
   "cell_type": "code",
   "execution_count": 5,
   "metadata": {},
   "outputs": [],
   "source": [
    "path_train = 'CINIC10/train/'\n",
    "path_val = 'CINIC10/valid/'\n",
    "path_test = 'CINIC10/test/'\n",
    "data_dir_train = pathlib.Path(path_train)\n",
    "data_dir_val = pathlib.Path(path_val)\n",
    "data_dir_test = pathlib.Path(path_test)"
   ]
  },
  {
   "cell_type": "code",
   "execution_count": 6,
   "metadata": {},
   "outputs": [],
   "source": [
    "list_ds_train = tf.data.Dataset.list_files(str(data_dir_train/'*/*'))\n",
    "list_ds_val = tf.data.Dataset.list_files(str(data_dir_val/'*/*'))\n",
    "list_ds_test = tf.data.Dataset.list_files(str(data_dir_test/'*/*'))"
   ]
  },
  {
   "cell_type": "code",
   "execution_count": 7,
   "metadata": {},
   "outputs": [],
   "source": [
    "CLASS_NAMES = np.array([item.name for item in data_dir_train.glob('*')])"
   ]
  },
  {
   "cell_type": "code",
   "execution_count": 8,
   "metadata": {},
   "outputs": [],
   "source": [
    "def get_label(file_path):\n",
    "    parts = tf.strings.split(file_path, os.path.sep)\n",
    "    return parts[-2] == CLASS_NAMES"
   ]
  },
  {
   "cell_type": "code",
   "execution_count": 9,
   "metadata": {},
   "outputs": [],
   "source": [
    "def decode_img(img, dsize):\n",
    "    img = tf.image.decode_jpeg(img, channels=3)\n",
    "    img = tf.image.convert_image_dtype(img, tf.float32)\n",
    "    return tf.image.resize(img, [dsize[0], dsize[1]])"
   ]
  },
  {
   "cell_type": "code",
   "execution_count": 10,
   "metadata": {},
   "outputs": [],
   "source": [
    "def process_path(file_path):\n",
    "    size = (224,224)\n",
    "    label = get_label(file_path)\n",
    "    img = tf.io.read_file(file_path)\n",
    "    img = decode_img(img,size )\n",
    "    return img, label"
   ]
  },
  {
   "cell_type": "code",
   "execution_count": 11,
   "metadata": {},
   "outputs": [],
   "source": [
    "AUTOTUNE = tf.data.experimental.AUTOTUNE"
   ]
  },
  {
   "cell_type": "code",
   "execution_count": 12,
   "metadata": {},
   "outputs": [],
   "source": [
    "labeled_ds_train = list_ds_train.map(process_path, num_parallel_calls=AUTOTUNE)\n",
    "labeled_ds_valid = list_ds_val.map(process_path, num_parallel_calls=AUTOTUNE)\n",
    "labeled_ds_test = list_ds_test.map(process_path, num_parallel_calls=AUTOTUNE)"
   ]
  },
  {
   "cell_type": "code",
   "execution_count": 13,
   "metadata": {},
   "outputs": [],
   "source": [
    "def augmentation(x, y):\n",
    "    x = tf.image.random_flip_left_right(x)\n",
    "    x = tf.image.random_brightness(x, max_delta=0.5)\n",
    "    return x, y"
   ]
  },
  {
   "cell_type": "code",
   "execution_count": 14,
   "metadata": {},
   "outputs": [],
   "source": [
    "def normalize(x, y):\n",
    "    x = tf.image.per_image_standardization(x)\n",
    "    return x, y"
   ]
  },
  {
   "cell_type": "code",
   "execution_count": 15,
   "metadata": {},
   "outputs": [],
   "source": [
    "def prepare_for_training(ds, training = False, cache=True, shuffle_buffer_size=1000, batch_size = 128):\n",
    "    if cache:\n",
    "        if isinstance(cache, str):\n",
    "            ds = ds.cache(cache)\n",
    "        else:\n",
    "            ds = ds.cache()\n",
    "    ds = ds.map(normalize)\n",
    "    if training:\n",
    "        ds = ds.map(augmentation)\n",
    "    ds = ds.shuffle(buffer_size=shuffle_buffer_size)\n",
    "    ds = ds.repeat()\n",
    "    ds = ds.batch(batch_size)\n",
    "    ds = ds.prefetch(buffer_size=AUTOTUNE)\n",
    "    return ds"
   ]
  },
  {
   "cell_type": "code",
   "execution_count": 16,
   "metadata": {},
   "outputs": [
    {
     "name": "stdout",
     "output_type": "stream",
     "text": [
      "WARNING:tensorflow:From /home/tmr/miniconda3/envs/tf/lib/python3.7/site-packages/tensorflow_core/python/ops/image_ops_impl.py:1556: div (from tensorflow.python.ops.math_ops) is deprecated and will be removed in a future version.\n",
      "Instructions for updating:\n",
      "Deprecated in favor of operator or tf.math.divide.\n"
     ]
    }
   ],
   "source": [
    "train_ds = prepare_for_training(labeled_ds_train, training = True, batch_size=64)\n",
    "val_ds = prepare_for_training(labeled_ds_valid, batch_size = 64)\n",
    "test_ds = prepare_for_training(labeled_ds_test, batch_size = 64)"
   ]
  },
  {
   "cell_type": "markdown",
   "metadata": {},
   "source": [
    "# VGG Details"
   ]
  },
  {
   "cell_type": "markdown",
   "metadata": {},
   "source": [
    "* This architecture was built based on AlexNet, by visualizing the features in a fully AlexNet trained model\n",
    "* optimizer = SGD \n",
    "* batch_size = 256 \n",
    "* momentum = 0.9 \n",
    "* weight decay = 0.0005 \n",
    "* weights random initialization: mean-0 variance-0.01\n",
    "* bias = 0\n",
    "* lr_initial = 0.01 (reduced three time prior termination) \n",
    "* num_epochs = 74\n",
    "* cross-entropy loss "
   ]
  },
  {
   "cell_type": "markdown",
   "metadata": {},
   "source": [
    "# Model Definition"
   ]
  },
  {
   "cell_type": "markdown",
   "metadata": {},
   "source": [
    "A little vit verbose but in the next models we are going to define the models in a smarter way."
   ]
  },
  {
   "cell_type": "code",
   "execution_count": 17,
   "metadata": {},
   "outputs": [],
   "source": [
    "def Model(num_classes = 1000):\n",
    "    kernel_init = tf.keras.initializers.GlorotNormal()\n",
    "    model = tf.keras.models.Sequential([\n",
    "        tf.keras.layers.Conv2D(64,kernel_size=(3,3), kernel_initializer = kernel_init, padding='same', strides=(1,1), activation='relu', input_shape=(224,224,3)),\n",
    "        tf.keras.layers.BatchNormalization(),\n",
    "        tf.keras.layers.Conv2D(64,kernel_size=(3,3), kernel_initializer = kernel_init, padding='same', strides=(1,1), activation='relu'),\n",
    "        tf.keras.layers.BatchNormalization(),\n",
    "        tf.keras.layers.MaxPool2D(pool_size=(2,2), strides=(2,2)),\n",
    "        tf.keras.layers.Conv2D(128, kernel_size=(3,3), kernel_initializer = kernel_init, padding='same', strides=(1,1), activation='relu'),\n",
    "        tf.keras.layers.BatchNormalization(),\n",
    "        tf.keras.layers.Conv2D(128, kernel_size=(3,3), kernel_initializer = kernel_init, padding='same', strides=(1,1), activation='relu'),\n",
    "        tf.keras.layers.BatchNormalization(),\n",
    "        tf.keras.layers.MaxPool2D(pool_size=(2,2), strides=(2,2)),\n",
    "        tf.keras.layers.Conv2D(256, kernel_size=(3,3), kernel_initializer = kernel_init, padding='same', strides=(1,1), activation='relu'),\n",
    "        tf.keras.layers.BatchNormalization(),\n",
    "        tf.keras.layers.Conv2D(256, kernel_size=(3,3), kernel_initializer = kernel_init, padding='same', strides=(1,1), activation='relu'),\n",
    "        tf.keras.layers.BatchNormalization(),\n",
    "        tf.keras.layers.Conv2D(256, kernel_size=(3,3), kernel_initializer = kernel_init, padding='same', strides=(1,1), activation='relu'),\n",
    "        tf.keras.layers.BatchNormalization(),\n",
    "        tf.keras.layers.MaxPool2D(pool_size=(2,2), strides=(2,2)),\n",
    "        tf.keras.layers.Conv2D(512, kernel_size=(3,3), kernel_initializer = kernel_init, padding='same', strides=(1,1), activation='relu'),\n",
    "        tf.keras.layers.BatchNormalization(),\n",
    "        tf.keras.layers.Conv2D(512, kernel_size=(3,3), kernel_initializer = kernel_init, padding='same', strides=(1,1), activation='relu'),\n",
    "        tf.keras.layers.BatchNormalization(),\n",
    "        tf.keras.layers.Conv2D(512, kernel_size=(3,3), kernel_initializer = kernel_init, padding='same', strides=(1,1), activation='relu'),\n",
    "        tf.keras.layers.BatchNormalization(),\n",
    "        tf.keras.layers.MaxPool2D(pool_size=(2,2), strides=(2,2)),\n",
    "        tf.keras.layers.Conv2D(512, kernel_size=(3,3), kernel_initializer = kernel_init, padding='same', strides=(1,1), activation='relu'),\n",
    "        tf.keras.layers.BatchNormalization(),\n",
    "        tf.keras.layers.Conv2D(512, kernel_size=(3,3), kernel_initializer = kernel_init, padding='same', strides=(1,1), activation='relu'),\n",
    "        tf.keras.layers.BatchNormalization(),\n",
    "        tf.keras.layers.Conv2D(512, kernel_size=(3,3), kernel_initializer = kernel_init, padding='same', strides=(1,1), activation='relu'),\n",
    "        tf.keras.layers.BatchNormalization(),\n",
    "        tf.keras.layers.MaxPool2D(pool_size=(2,2), strides=(2,2)),\n",
    "        tf.keras.layers.Flatten(),\n",
    "        tf.keras.layers.Dense(4096, activation='relu'),\n",
    "        tf.keras.layers.Dropout(0.5),\n",
    "        tf.keras.layers.BatchNormalization(),\n",
    "        tf.keras.layers.Dense(4096, activation='relu'),\n",
    "        tf.keras.layers.Dropout(0.5),\n",
    "        tf.keras.layers.BatchNormalization(),\n",
    "        tf.keras.layers.Dense(num_classes, 'softmax')\n",
    "    ])\n",
    "    return model"
   ]
  },
  {
   "cell_type": "code",
   "execution_count": 18,
   "metadata": {},
   "outputs": [],
   "source": [
    "model = Model(10)"
   ]
  },
  {
   "cell_type": "code",
   "execution_count": 19,
   "metadata": {},
   "outputs": [
    {
     "name": "stdout",
     "output_type": "stream",
     "text": [
      "Model: \"sequential\"\n",
      "_________________________________________________________________\n",
      "Layer (type)                 Output Shape              Param #   \n",
      "=================================================================\n",
      "conv2d (Conv2D)              (None, 224, 224, 64)      1792      \n",
      "_________________________________________________________________\n",
      "batch_normalization (BatchNo (None, 224, 224, 64)      256       \n",
      "_________________________________________________________________\n",
      "conv2d_1 (Conv2D)            (None, 224, 224, 64)      36928     \n",
      "_________________________________________________________________\n",
      "batch_normalization_1 (Batch (None, 224, 224, 64)      256       \n",
      "_________________________________________________________________\n",
      "max_pooling2d (MaxPooling2D) (None, 112, 112, 64)      0         \n",
      "_________________________________________________________________\n",
      "conv2d_2 (Conv2D)            (None, 112, 112, 128)     73856     \n",
      "_________________________________________________________________\n",
      "batch_normalization_2 (Batch (None, 112, 112, 128)     512       \n",
      "_________________________________________________________________\n",
      "conv2d_3 (Conv2D)            (None, 112, 112, 128)     147584    \n",
      "_________________________________________________________________\n",
      "batch_normalization_3 (Batch (None, 112, 112, 128)     512       \n",
      "_________________________________________________________________\n",
      "max_pooling2d_1 (MaxPooling2 (None, 56, 56, 128)       0         \n",
      "_________________________________________________________________\n",
      "conv2d_4 (Conv2D)            (None, 56, 56, 256)       295168    \n",
      "_________________________________________________________________\n",
      "batch_normalization_4 (Batch (None, 56, 56, 256)       1024      \n",
      "_________________________________________________________________\n",
      "conv2d_5 (Conv2D)            (None, 56, 56, 256)       590080    \n",
      "_________________________________________________________________\n",
      "batch_normalization_5 (Batch (None, 56, 56, 256)       1024      \n",
      "_________________________________________________________________\n",
      "conv2d_6 (Conv2D)            (None, 56, 56, 256)       590080    \n",
      "_________________________________________________________________\n",
      "batch_normalization_6 (Batch (None, 56, 56, 256)       1024      \n",
      "_________________________________________________________________\n",
      "max_pooling2d_2 (MaxPooling2 (None, 28, 28, 256)       0         \n",
      "_________________________________________________________________\n",
      "conv2d_7 (Conv2D)            (None, 28, 28, 512)       1180160   \n",
      "_________________________________________________________________\n",
      "batch_normalization_7 (Batch (None, 28, 28, 512)       2048      \n",
      "_________________________________________________________________\n",
      "conv2d_8 (Conv2D)            (None, 28, 28, 512)       2359808   \n",
      "_________________________________________________________________\n",
      "batch_normalization_8 (Batch (None, 28, 28, 512)       2048      \n",
      "_________________________________________________________________\n",
      "conv2d_9 (Conv2D)            (None, 28, 28, 512)       2359808   \n",
      "_________________________________________________________________\n",
      "batch_normalization_9 (Batch (None, 28, 28, 512)       2048      \n",
      "_________________________________________________________________\n",
      "max_pooling2d_3 (MaxPooling2 (None, 14, 14, 512)       0         \n",
      "_________________________________________________________________\n",
      "conv2d_10 (Conv2D)           (None, 14, 14, 512)       2359808   \n",
      "_________________________________________________________________\n",
      "batch_normalization_10 (Batc (None, 14, 14, 512)       2048      \n",
      "_________________________________________________________________\n",
      "conv2d_11 (Conv2D)           (None, 14, 14, 512)       2359808   \n",
      "_________________________________________________________________\n",
      "batch_normalization_11 (Batc (None, 14, 14, 512)       2048      \n",
      "_________________________________________________________________\n",
      "conv2d_12 (Conv2D)           (None, 14, 14, 512)       2359808   \n",
      "_________________________________________________________________\n",
      "batch_normalization_12 (Batc (None, 14, 14, 512)       2048      \n",
      "_________________________________________________________________\n",
      "max_pooling2d_4 (MaxPooling2 (None, 7, 7, 512)         0         \n",
      "_________________________________________________________________\n",
      "flatten (Flatten)            (None, 25088)             0         \n",
      "_________________________________________________________________\n",
      "dense (Dense)                (None, 4096)              102764544 \n",
      "_________________________________________________________________\n",
      "dropout (Dropout)            (None, 4096)              0         \n",
      "_________________________________________________________________\n",
      "batch_normalization_13 (Batc (None, 4096)              16384     \n",
      "_________________________________________________________________\n",
      "dense_1 (Dense)              (None, 4096)              16781312  \n",
      "_________________________________________________________________\n",
      "dropout_1 (Dropout)          (None, 4096)              0         \n",
      "_________________________________________________________________\n",
      "batch_normalization_14 (Batc (None, 4096)              16384     \n",
      "_________________________________________________________________\n",
      "dense_2 (Dense)              (None, 10)                40970     \n",
      "=================================================================\n",
      "Total params: 134,351,178\n",
      "Trainable params: 134,326,346\n",
      "Non-trainable params: 24,832\n",
      "_________________________________________________________________\n"
     ]
    }
   ],
   "source": [
    "model.summary()"
   ]
  },
  {
   "cell_type": "markdown",
   "metadata": {},
   "source": [
    "# Training"
   ]
  },
  {
   "cell_type": "code",
   "execution_count": 20,
   "metadata": {},
   "outputs": [],
   "source": [
    "model.compile(optimizer=tfa.optimizers.SGDW(momentum=0.9,weight_decay=0.0005,learning_rate=0.01),\n",
    "              loss = 'categorical_crossentropy',\n",
    "              metrics = ['accuracy'])"
   ]
  },
  {
   "cell_type": "code",
   "execution_count": 21,
   "metadata": {},
   "outputs": [
    {
     "name": "stdout",
     "output_type": "stream",
     "text": [
      "Train for 100 steps, validate for 100 steps\n",
      "Epoch 1/74\n",
      "100/100 [==============================] - 66s 664ms/step - loss: 3.4419 - accuracy: 0.1775 - val_loss: 373.0759 - val_accuracy: 0.1008\n",
      "Epoch 2/74\n",
      "100/100 [==============================] - 57s 572ms/step - loss: 3.4753 - accuracy: 0.2048 - val_loss: 5.1507 - val_accuracy: 0.2275\n",
      "Epoch 3/74\n",
      "100/100 [==============================] - 57s 566ms/step - loss: 3.3673 - accuracy: 0.2188 - val_loss: 2.8874 - val_accuracy: 0.2223\n",
      "Epoch 4/74\n",
      "100/100 [==============================] - 57s 571ms/step - loss: 3.1280 - accuracy: 0.2377 - val_loss: 3.6270 - val_accuracy: 0.1323\n",
      "Epoch 5/74\n",
      "100/100 [==============================] - 57s 572ms/step - loss: 2.9958 - accuracy: 0.2497 - val_loss: 2.6104 - val_accuracy: 0.1467\n",
      "Epoch 6/74\n",
      "100/100 [==============================] - 58s 577ms/step - loss: 2.8284 - accuracy: 0.2647 - val_loss: 3.0893 - val_accuracy: 0.1434\n",
      "Epoch 7/74\n",
      "100/100 [==============================] - 58s 575ms/step - loss: 2.6834 - accuracy: 0.2845 - val_loss: 2.3300 - val_accuracy: 0.1887\n",
      "Epoch 8/74\n",
      "100/100 [==============================] - 56s 564ms/step - loss: 2.5944 - accuracy: 0.2800 - val_loss: 2.1543 - val_accuracy: 0.1580\n",
      "Epoch 9/74\n",
      "100/100 [==============================] - 57s 573ms/step - loss: 2.4469 - accuracy: 0.2952 - val_loss: 2.5596 - val_accuracy: 0.1239\n",
      "Epoch 10/74\n",
      "100/100 [==============================] - 57s 575ms/step - loss: 2.2040 - accuracy: 0.3155 - val_loss: 2.5355 - val_accuracy: 0.1711\n",
      "Epoch 11/74\n",
      "100/100 [==============================] - 58s 576ms/step - loss: 2.1631 - accuracy: 0.3295 - val_loss: 2.3917 - val_accuracy: 0.1930\n",
      "Epoch 12/74\n",
      "100/100 [==============================] - 58s 578ms/step - loss: 2.0981 - accuracy: 0.3509 - val_loss: 2.3728 - val_accuracy: 0.1609\n",
      "Epoch 13/74\n",
      "100/100 [==============================] - 57s 566ms/step - loss: 2.0356 - accuracy: 0.3516 - val_loss: 2.0928 - val_accuracy: 0.2450\n",
      "Epoch 14/74\n",
      "100/100 [==============================] - 57s 569ms/step - loss: 1.9601 - accuracy: 0.3653 - val_loss: 2.0593 - val_accuracy: 0.2167\n",
      "Epoch 15/74\n",
      "100/100 [==============================] - 57s 565ms/step - loss: 1.9102 - accuracy: 0.3689 - val_loss: 2.2499 - val_accuracy: 0.1697\n",
      "Epoch 16/74\n",
      "100/100 [==============================] - 56s 562ms/step - loss: 1.8041 - accuracy: 0.3889 - val_loss: 2.2056 - val_accuracy: 0.2359\n",
      "Epoch 17/74\n",
      "100/100 [==============================] - 56s 558ms/step - loss: 1.6979 - accuracy: 0.4223 - val_loss: 1.8885 - val_accuracy: 0.3123\n",
      "Epoch 18/74\n",
      "100/100 [==============================] - 56s 562ms/step - loss: 1.6105 - accuracy: 0.4461 - val_loss: 2.3325 - val_accuracy: 0.1528\n",
      "Epoch 19/74\n",
      "100/100 [==============================] - 57s 565ms/step - loss: 1.5942 - accuracy: 0.4431 - val_loss: 2.2263 - val_accuracy: 0.2072\n",
      "Epoch 20/74\n",
      "100/100 [==============================] - 57s 566ms/step - loss: 1.5235 - accuracy: 0.4652 - val_loss: 2.2667 - val_accuracy: 0.1925\n",
      "Epoch 21/74\n",
      "100/100 [==============================] - 57s 573ms/step - loss: 1.4986 - accuracy: 0.4673 - val_loss: 2.0200 - val_accuracy: 0.2636\n",
      "Epoch 22/74\n",
      "100/100 [==============================] - 57s 568ms/step - loss: 1.4399 - accuracy: 0.4844 - val_loss: 2.0989 - val_accuracy: 0.2630\n",
      "Epoch 23/74\n",
      "100/100 [==============================] - 57s 567ms/step - loss: 1.4096 - accuracy: 0.4930 - val_loss: 1.8841 - val_accuracy: 0.3270\n",
      "Epoch 24/74\n",
      "100/100 [==============================] - 56s 562ms/step - loss: 1.3903 - accuracy: 0.4953 - val_loss: 1.7407 - val_accuracy: 0.3692\n",
      "Epoch 25/74\n",
      "100/100 [==============================] - 57s 569ms/step - loss: 1.3552 - accuracy: 0.5097 - val_loss: 1.8909 - val_accuracy: 0.2847\n",
      "Epoch 26/74\n",
      "100/100 [==============================] - 57s 567ms/step - loss: 1.2837 - accuracy: 0.5361 - val_loss: 1.7568 - val_accuracy: 0.3606\n",
      "Epoch 27/74\n",
      "100/100 [==============================] - 57s 571ms/step - loss: 1.2611 - accuracy: 0.5489 - val_loss: 1.6611 - val_accuracy: 0.4064\n",
      "Epoch 28/74\n",
      "100/100 [==============================] - 57s 567ms/step - loss: 1.2620 - accuracy: 0.5483 - val_loss: 1.6947 - val_accuracy: 0.3723\n",
      "Epoch 29/74\n",
      "100/100 [==============================] - 56s 562ms/step - loss: 1.2138 - accuracy: 0.5534 - val_loss: 1.7611 - val_accuracy: 0.3730\n",
      "Epoch 30/74\n",
      "100/100 [==============================] - 57s 573ms/step - loss: 1.1980 - accuracy: 0.5642 - val_loss: 1.5681 - val_accuracy: 0.4177\n",
      "Epoch 31/74\n",
      "100/100 [==============================] - 57s 570ms/step - loss: 1.1724 - accuracy: 0.5769 - val_loss: 1.5921 - val_accuracy: 0.4209\n",
      "Epoch 32/74\n",
      "100/100 [==============================] - 56s 562ms/step - loss: 1.1608 - accuracy: 0.5877 - val_loss: 1.5973 - val_accuracy: 0.4069\n",
      "Epoch 33/74\n",
      "100/100 [==============================] - 56s 561ms/step - loss: 1.1541 - accuracy: 0.5814 - val_loss: 1.6956 - val_accuracy: 0.4017\n",
      "Epoch 34/74\n",
      "100/100 [==============================] - 57s 566ms/step - loss: 1.1444 - accuracy: 0.5936 - val_loss: 1.4929 - val_accuracy: 0.4742\n",
      "Epoch 35/74\n",
      "100/100 [==============================] - 57s 567ms/step - loss: 1.1347 - accuracy: 0.5886 - val_loss: 1.4792 - val_accuracy: 0.4688\n",
      "Epoch 36/74\n",
      "100/100 [==============================] - 57s 566ms/step - loss: 1.1195 - accuracy: 0.6011 - val_loss: 1.6051 - val_accuracy: 0.3975\n",
      "Epoch 37/74\n",
      "100/100 [==============================] - 56s 565ms/step - loss: 1.1185 - accuracy: 0.6012 - val_loss: 1.4868 - val_accuracy: 0.4658\n",
      "Epoch 38/74\n",
      "100/100 [==============================] - 57s 567ms/step - loss: 1.1183 - accuracy: 0.5955 - val_loss: 1.5559 - val_accuracy: 0.4263\n",
      "Epoch 39/74\n",
      "100/100 [==============================] - 57s 568ms/step - loss: 1.1102 - accuracy: 0.5995 - val_loss: 1.4094 - val_accuracy: 0.4975\n",
      "Epoch 40/74\n",
      "100/100 [==============================] - 56s 563ms/step - loss: 1.0848 - accuracy: 0.6147 - val_loss: 1.4280 - val_accuracy: 0.4908\n",
      "Epoch 41/74\n",
      "100/100 [==============================] - 57s 571ms/step - loss: 1.0615 - accuracy: 0.6263 - val_loss: 1.3755 - val_accuracy: 0.5113\n",
      "Epoch 42/74\n",
      "100/100 [==============================] - 56s 561ms/step - loss: 1.0777 - accuracy: 0.6161 - val_loss: 1.3901 - val_accuracy: 0.4998\n",
      "Epoch 43/74\n",
      "100/100 [==============================] - 56s 564ms/step - loss: 1.0516 - accuracy: 0.6266 - val_loss: 1.4458 - val_accuracy: 0.4984\n",
      "Epoch 44/74\n",
      "100/100 [==============================] - 57s 568ms/step - loss: 1.0629 - accuracy: 0.6209 - val_loss: 1.1121 - val_accuracy: 0.6117\n",
      "Epoch 45/74\n",
      "100/100 [==============================] - 57s 572ms/step - loss: 1.0484 - accuracy: 0.6344 - val_loss: 1.2674 - val_accuracy: 0.5452\n",
      "Epoch 46/74\n",
      "100/100 [==============================] - 57s 570ms/step - loss: 1.0297 - accuracy: 0.6419 - val_loss: 1.1855 - val_accuracy: 0.5794\n",
      "Epoch 47/74\n",
      "100/100 [==============================] - 57s 568ms/step - loss: 1.0289 - accuracy: 0.6409 - val_loss: 1.1928 - val_accuracy: 0.5734\n",
      "Epoch 48/74\n",
      "100/100 [==============================] - 58s 575ms/step - loss: 1.0161 - accuracy: 0.6475 - val_loss: 1.3002 - val_accuracy: 0.5394\n",
      "Epoch 49/74\n",
      "100/100 [==============================] - 57s 565ms/step - loss: 1.0327 - accuracy: 0.6411 - val_loss: 1.2939 - val_accuracy: 0.5427\n",
      "Epoch 50/74\n",
      "100/100 [==============================] - 57s 566ms/step - loss: 1.0216 - accuracy: 0.6466 - val_loss: 1.3322 - val_accuracy: 0.5303\n",
      "Epoch 51/74\n",
      "100/100 [==============================] - 57s 568ms/step - loss: 1.0184 - accuracy: 0.6364 - val_loss: 1.1094 - val_accuracy: 0.6109\n",
      "Epoch 52/74\n",
      "100/100 [==============================] - 57s 565ms/step - loss: 1.0104 - accuracy: 0.6419 - val_loss: 1.1975 - val_accuracy: 0.5772\n",
      "Epoch 53/74\n",
      "100/100 [==============================] - 57s 566ms/step - loss: 1.0277 - accuracy: 0.6448 - val_loss: 1.0288 - val_accuracy: 0.6452\n",
      "Epoch 54/74\n",
      "100/100 [==============================] - 57s 572ms/step - loss: 0.9894 - accuracy: 0.6541 - val_loss: 1.1460 - val_accuracy: 0.5981\n",
      "Epoch 55/74\n",
      "100/100 [==============================] - 57s 569ms/step - loss: 0.9867 - accuracy: 0.6506 - val_loss: 1.2424 - val_accuracy: 0.5717\n",
      "Epoch 56/74\n",
      "100/100 [==============================] - 56s 565ms/step - loss: 0.9805 - accuracy: 0.6552 - val_loss: 1.1352 - val_accuracy: 0.5941\n",
      "Epoch 57/74\n",
      "100/100 [==============================] - 57s 569ms/step - loss: 1.0032 - accuracy: 0.6469 - val_loss: 1.0538 - val_accuracy: 0.6306\n",
      "Epoch 58/74\n",
      "100/100 [==============================] - 57s 571ms/step - loss: 0.9713 - accuracy: 0.6584 - val_loss: 1.1696 - val_accuracy: 0.5891\n",
      "Epoch 59/74\n",
      "100/100 [==============================] - 57s 569ms/step - loss: 0.9495 - accuracy: 0.6737 - val_loss: 1.0597 - val_accuracy: 0.6245\n",
      "Epoch 60/74\n",
      "100/100 [==============================] - 56s 564ms/step - loss: 0.9776 - accuracy: 0.6622 - val_loss: 1.0074 - val_accuracy: 0.6461\n",
      "Epoch 61/74\n",
      "100/100 [==============================] - 57s 565ms/step - loss: 0.9617 - accuracy: 0.6631 - val_loss: 1.1511 - val_accuracy: 0.5972\n",
      "Epoch 62/74\n",
      "100/100 [==============================] - 58s 577ms/step - loss: 0.9595 - accuracy: 0.6691 - val_loss: 1.2074 - val_accuracy: 0.5752\n",
      "Epoch 63/74\n",
      "100/100 [==============================] - 56s 565ms/step - loss: 0.9514 - accuracy: 0.6689 - val_loss: 1.0824 - val_accuracy: 0.6211\n",
      "Epoch 64/74\n",
      "100/100 [==============================] - 57s 565ms/step - loss: 0.9308 - accuracy: 0.6789 - val_loss: 1.0973 - val_accuracy: 0.6183\n",
      "Epoch 65/74\n",
      "100/100 [==============================] - 57s 572ms/step - loss: 0.9513 - accuracy: 0.6678 - val_loss: 1.0964 - val_accuracy: 0.6145\n",
      "Epoch 66/74\n",
      "100/100 [==============================] - 57s 568ms/step - loss: 0.9584 - accuracy: 0.6678 - val_loss: 1.1595 - val_accuracy: 0.6070\n",
      "Epoch 67/74\n",
      "100/100 [==============================] - 57s 573ms/step - loss: 0.9732 - accuracy: 0.6659 - val_loss: 1.1234 - val_accuracy: 0.6067\n",
      "Epoch 68/74\n",
      "100/100 [==============================] - 56s 561ms/step - loss: 0.9374 - accuracy: 0.6725 - val_loss: 1.1023 - val_accuracy: 0.6177\n",
      "Epoch 69/74\n",
      "100/100 [==============================] - 57s 565ms/step - loss: 0.9496 - accuracy: 0.6609 - val_loss: 1.1390 - val_accuracy: 0.5994\n",
      "Epoch 70/74\n",
      "100/100 [==============================] - 57s 569ms/step - loss: 0.9325 - accuracy: 0.6731 - val_loss: 1.2037 - val_accuracy: 0.5863\n",
      "Epoch 71/74\n",
      "100/100 [==============================] - 56s 561ms/step - loss: 0.9297 - accuracy: 0.6705 - val_loss: 1.3974 - val_accuracy: 0.5266\n",
      "Epoch 72/74\n",
      "100/100 [==============================] - 56s 562ms/step - loss: 0.9391 - accuracy: 0.6700 - val_loss: 1.0669 - val_accuracy: 0.6209\n",
      "Epoch 73/74\n",
      "100/100 [==============================] - 57s 568ms/step - loss: 0.9192 - accuracy: 0.6806 - val_loss: 1.1888 - val_accuracy: 0.5986\n",
      "Epoch 74/74\n",
      "100/100 [==============================] - 57s 566ms/step - loss: 0.9278 - accuracy: 0.6772 - val_loss: 1.0266 - val_accuracy: 0.6430\n"
     ]
    }
   ],
   "source": [
    "history = model.fit(train_ds, \n",
    "                    epochs = 74, \n",
    "                    steps_per_epoch=100, \n",
    "                    verbose = 1,\n",
    "                    validation_data = val_ds,\n",
    "                    validation_steps = 100)"
   ]
  },
  {
   "cell_type": "markdown",
   "metadata": {},
   "source": [
    "# Evaluation"
   ]
  },
  {
   "cell_type": "code",
   "execution_count": 22,
   "metadata": {},
   "outputs": [
    {
     "name": "stdout",
     "output_type": "stream",
     "text": [
      "5/5 [==============================] - 6s 1s/step - loss: 1.1032 - accuracy: 0.6156\n"
     ]
    }
   ],
   "source": [
    "loss_test, accuracy_test = model.evaluate(test_ds,\n",
    "                                         verbose = 1,\n",
    "                                         steps = 5)"
   ]
  },
  {
   "cell_type": "code",
   "execution_count": 23,
   "metadata": {},
   "outputs": [
    {
     "data": {
      "text/plain": [
       "(1.1032184481620788, 0.615625)"
      ]
     },
     "execution_count": 23,
     "metadata": {},
     "output_type": "execute_result"
    }
   ],
   "source": [
    "loss_test, accuracy_test"
   ]
  },
  {
   "cell_type": "markdown",
   "metadata": {},
   "source": [
    "# Training results visualization"
   ]
  },
  {
   "cell_type": "code",
   "execution_count": 24,
   "metadata": {},
   "outputs": [
    {
     "data": {
      "image/png": "[encoded data removed]",
      "text/plain": [
       "<Figure size 432x288 with 1 Axes>"
      ]
     },
     "metadata": {
      "needs_background": "light"
     },
     "output_type": "display_data"
    }
   ],
   "source": [
    "plt.plot(history.history['accuracy'])\n",
    "plt.plot(history.history['val_accuracy'])\n",
    "plt.title('Model accuracy')\n",
    "plt.ylabel('accuracy')\n",
    "plt.xlabel('epoch')\n",
    "plt.legend(['train','validation'], loc='upper left')\n",
    "plt.show()"
   ]
  },
  {
   "cell_type": "code",
   "execution_count": 25,
   "metadata": {},
   "outputs": [
    {
     "data": {
      "image/png": "[encoded data removed]",
      "text/plain": [
       "<Figure size 432x288 with 1 Axes>"
      ]
     },
     "metadata": {
      "needs_background": "light"
     },
     "output_type": "display_data"
    }
   ],
   "source": [
    "plt.plot(history.history['loss'])\n",
    "plt.plot(history.history['val_loss'])\n",
    "plt.title('Loss Curve')\n",
    "plt.ylabel('loss')\n",
    "plt.xlabel('epoch')\n",
    "plt.legend(['train', 'validation'], loc='upper right')\n",
    "plt.show()"
   ]
  }
 ],
 "metadata": {
  "kernelspec": {
   "display_name": "Python 3",
   "language": "python",
   "name": "python3"
  },
  "language_info": {
   "codemirror_mode": {
    "name": "ipython",
    "version": 3
   },
   "file_extension": ".py",
   "mimetype": "text/x-python",
   "name": "python",
   "nbconvert_exporter": "python",
   "pygments_lexer": "ipython3",
   "version": "3.7.5"
  }
 },
 "nbformat": 4,
 "nbformat_minor": 4
}
